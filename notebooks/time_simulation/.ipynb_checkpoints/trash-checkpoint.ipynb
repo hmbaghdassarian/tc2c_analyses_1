{
 "cells": [
  {
   "cell_type": "code",
   "execution_count": 1,
   "id": "ahead-couple",
   "metadata": {},
   "outputs": [
    {
     "name": "stderr",
     "output_type": "stream",
     "text": [
      "/home/hratch/anaconda3/envs/cci_dt/lib/python3.9/site-packages/scipy/optimize/minpack.py:828: OptimizeWarning: Covariance of the parameters could not be estimated\n",
      "  warnings.warn('Covariance of the parameters could not be estimated',\n"
     ]
    }
   ],
   "source": [
    "import os\n",
    "os.environ['OPENBLAS_NUM_THREADS'] = '1'\n",
    "import pickle\n",
    "import numpy as np\n",
    "import multiprocessing\n",
    "import matplotlib.pyplot as plt\n",
    "from tqdm import trange\n",
    "import copy\n",
    "\n",
    "import sys\n",
    "sys.path.insert(1, '../cell2cell/')\n",
    "import cell2cell as c2c\n",
    "from cell2cell.tensor.tensor import BaseTensor\n",
    "from cell2cell.tensor.factorization import _compute_norm_error, _compute_tensor_factorization\n",
    "\n",
    "sys.path.insert(1, '../c2c_sim/')\n",
    "from core.simulate import Simulate, CCI_MD\n",
    "\n",
    "\n",
    "# specify path to save figures\n",
    "fig_path = ''#'/data2/hratch/cci_dt/figures/'\n",
    "data_path = ''#'/data2/hratch/cci_dt/noise_v_error/'\n",
    "version = 1"
   ]
  },
  {
   "cell_type": "code",
   "execution_count": 2,
   "id": "parliamentary-roller",
   "metadata": {},
   "outputs": [],
   "source": [
    "with open(data_path + 'sim_obj_v' + str(version) + '.pickle', 'rb') as f:\n",
    "    sim_0 = pickle.load(f)"
   ]
  },
  {
   "cell_type": "code",
   "execution_count": 3,
   "id": "occupied-reach",
   "metadata": {},
   "outputs": [],
   "source": [
    "def get_error(noise = 0.01, noise_max = 0.05):\n",
    "    #-------new patterns (otherwise sim = sim_0)\n",
    "    sim = Simulate()\n",
    "    sim.LR = copy.deepcopy(sim_0.LR)\n",
    "    sim.cci = copy.deepcopy(sim_0.cci)\n",
    "    sim.generate_tensor_md(n_patterns = 4, n_conditions = 12, patterns = ['pulse', 'linear', 'oscillate', 'power'], \n",
    "                          consider_homotypic = True, score_change = 'max')\n",
    "    \n",
    "    #-------new communication scores\n",
    "    sim.generate_tensor(noise = noise, binary = False, bulk = True, noise_max = noise_max)\n",
    "    sim.reshape()\n",
    "    #-------decompose\n",
    "    tensor_ = BaseTensor()\n",
    "    tensor_.tensor = sim.sim_tensor.tensor_cci\n",
    "    \n",
    "    error = list()\n",
    "    for r_add in range(3):\n",
    "        tensor_.compute_tensor_factorization(rank=sim.sim_tensor.rank + r_add,\n",
    "                                           tf_type='non_negative_cp',\n",
    "                                           init='svd',\n",
    "                                           random_state=None,\n",
    "                                           verbose=False)\n",
    "        err = _compute_norm_error(tensor_.tensor, tensor_.tl_object)\n",
    "        print('Rank: {}'.format(sim.sim_tensor.rank + r_add))\n",
    "        print('Error: {:.4f}'.format(err))\n",
    "        if r_add == 2:\n",
    "            print('--------------')\n",
    "        error.append(err)\n",
    "        \n",
    "    err = min(error)\n",
    "    return tensor_, err"
   ]
  },
  {
   "cell_type": "code",
   "execution_count": 38,
   "id": "referenced-consumer",
   "metadata": {},
   "outputs": [
    {
     "name": "stdout",
     "output_type": "stream",
     "text": [
      "0.22850304654106093\n"
     ]
    }
   ],
   "source": [
    "tensor_, err = get_error()"
   ]
  },
  {
   "cell_type": "code",
   "execution_count": 39,
   "id": "motivated-tribune",
   "metadata": {},
   "outputs": [
    {
     "data": {
      "image/png": "[encoded data removed]",
      "text/plain": [
       "<Figure size 720x576 with 24 Axes>"
      ]
     },
     "metadata": {
      "needs_background": "light"
     },
     "output_type": "display_data"
    }
   ],
   "source": [
    "fig, axes = c2c.plotting.tensor_factors_plot(interaction_tensor=tensor_,\n",
    "                                             order_labels=['Time', 'Ligand-Receptor Pair', 'Sender Cell', 'Receiver Cell'],\n",
    "                                             fontsize=14,\n",
    "                                            )"
   ]
  },
  {
   "cell_type": "code",
   "execution_count": 6,
   "id": "palestinian-stress",
   "metadata": {},
   "outputs": [
    {
     "name": "stderr",
     "output_type": "stream",
     "text": [
      "/home/hratch/anaconda3/envs/cci_dt/lib/python3.9/site-packages/pandas/core/internals/blocks.py:983: VisibleDeprecationWarning: Creating an ndarray from ragged nested sequences (which is a list-or-tuple of lists-or-tuples-or ndarrays with different lengths or shapes) is deprecated. If you meant to do this, you must specify 'dtype=object' when creating the ndarray.\n",
      "  arr_value = np.array(value)\n",
      "../c2c_sim/core/simulate.py:724: FutureWarning: Using a non-tuple sequence for multidimensional indexing is deprecated; use `arr[tuple(seq)]` instead of `arr[seq]`. In the future this will be interpreted as an array index, `arr[np.array(seq)]`, which will result either in an error or a different result.\n",
      "  df.values[coords] = vals\n",
      "  0%|          | 0/12 [00:00<?, ?it/s]../c2c_sim/core/simulate.py:759: FutureWarning: Using a non-tuple sequence for multidimensional indexing is deprecated; use `arr[tuple(seq)]` instead of `arr[seq]`. In the future this will be interpreted as an array index, `arr[np.array(seq)]`, which will result either in an error or a different result.\n",
      "  tcs[coords] = ts.iloc[idx,:].values\n",
      " 17%|█▋        | 2/12 [00:00<00:00, 19.75it/s]"
     ]
    },
    {
     "name": "stdout",
     "output_type": "stream",
     "text": [
      "Generate reshaped tensor\n"
     ]
    },
    {
     "name": "stderr",
     "output_type": "stream",
     "text": [
      "100%|██████████| 12/12 [00:00<00:00, 20.48it/s]\n"
     ]
    },
    {
     "name": "stdout",
     "output_type": "stream",
     "text": [
      "Rank: 4\n",
      "Error: 0.0087\n",
      "Rank: 5\n",
      "Error: 0.0088\n",
      "Rank: 6\n",
      "Error: 0.0088\n",
      "--------------\n"
     ]
    },
    {
     "name": "stderr",
     "output_type": "stream",
     "text": [
      " 25%|██▌       | 3/12 [00:00<00:00, 21.20it/s]"
     ]
    },
    {
     "name": "stdout",
     "output_type": "stream",
     "text": [
      "Generate reshaped tensor\n"
     ]
    },
    {
     "name": "stderr",
     "output_type": "stream",
     "text": [
      "100%|██████████| 12/12 [00:00<00:00, 20.73it/s]\n"
     ]
    },
    {
     "name": "stdout",
     "output_type": "stream",
     "text": [
      "Rank: 4\n",
      "Error: 0.0107\n",
      "Rank: 5\n",
      "Error: 0.0105\n",
      "Rank: 6\n",
      "Error: 0.0208\n",
      "--------------\n"
     ]
    },
    {
     "name": "stderr",
     "output_type": "stream",
     "text": [
      " 25%|██▌       | 3/12 [00:00<00:00, 22.10it/s]"
     ]
    },
    {
     "name": "stdout",
     "output_type": "stream",
     "text": [
      "Generate reshaped tensor\n"
     ]
    },
    {
     "name": "stderr",
     "output_type": "stream",
     "text": [
      "100%|██████████| 12/12 [00:00<00:00, 22.12it/s]\n"
     ]
    },
    {
     "name": "stdout",
     "output_type": "stream",
     "text": [
      "Rank: 4\n",
      "Error: 0.0087\n",
      "Rank: 5\n",
      "Error: 0.0089\n",
      "Rank: 6\n",
      "Error: 0.0088\n",
      "--------------\n"
     ]
    },
    {
     "name": "stderr",
     "output_type": "stream",
     "text": [
      " 17%|█▋        | 2/12 [00:00<00:00, 19.80it/s]"
     ]
    },
    {
     "name": "stdout",
     "output_type": "stream",
     "text": [
      "Generate reshaped tensor\n"
     ]
    },
    {
     "name": "stderr",
     "output_type": "stream",
     "text": [
      "100%|██████████| 12/12 [00:00<00:00, 19.91it/s]\n"
     ]
    },
    {
     "name": "stdout",
     "output_type": "stream",
     "text": [
      "Rank: 4\n",
      "Error: 0.0884\n",
      "Rank: 5\n",
      "Error: 0.0292\n",
      "Rank: 6\n",
      "Error: 0.0111\n",
      "--------------\n"
     ]
    },
    {
     "name": "stderr",
     "output_type": "stream",
     "text": [
      " 25%|██▌       | 3/12 [00:00<00:00, 20.49it/s]"
     ]
    },
    {
     "name": "stdout",
     "output_type": "stream",
     "text": [
      "Generate reshaped tensor\n"
     ]
    },
    {
     "name": "stderr",
     "output_type": "stream",
     "text": [
      "100%|██████████| 12/12 [00:00<00:00, 20.50it/s]\n"
     ]
    },
    {
     "name": "stdout",
     "output_type": "stream",
     "text": [
      "Rank: 4\n",
      "Error: 0.2125\n",
      "Rank: 5\n",
      "Error: 0.2125\n",
      "Rank: 6\n",
      "Error: 0.2125\n",
      "--------------\n"
     ]
    },
    {
     "name": "stderr",
     "output_type": "stream",
     "text": [
      " 17%|█▋        | 2/12 [00:00<00:00, 17.90it/s]"
     ]
    },
    {
     "name": "stdout",
     "output_type": "stream",
     "text": [
      "Generate reshaped tensor\n"
     ]
    },
    {
     "name": "stderr",
     "output_type": "stream",
     "text": [
      "100%|██████████| 12/12 [00:00<00:00, 19.17it/s]\n"
     ]
    },
    {
     "name": "stdout",
     "output_type": "stream",
     "text": [
      "Rank: 4\n",
      "Error: 0.0091\n",
      "Rank: 5\n",
      "Error: 0.0091\n",
      "Rank: 6\n",
      "Error: 0.0091\n",
      "--------------\n"
     ]
    },
    {
     "name": "stderr",
     "output_type": "stream",
     "text": [
      " 25%|██▌       | 3/12 [00:00<00:00, 20.59it/s]"
     ]
    },
    {
     "name": "stdout",
     "output_type": "stream",
     "text": [
      "Generate reshaped tensor\n"
     ]
    },
    {
     "name": "stderr",
     "output_type": "stream",
     "text": [
      "100%|██████████| 12/12 [00:00<00:00, 20.35it/s]\n"
     ]
    },
    {
     "name": "stdout",
     "output_type": "stream",
     "text": [
      "Rank: 4\n",
      "Error: 0.0088\n",
      "Rank: 5\n",
      "Error: 0.0088\n",
      "Rank: 6\n",
      "Error: 0.0090\n",
      "--------------\n"
     ]
    },
    {
     "name": "stderr",
     "output_type": "stream",
     "text": [
      " 17%|█▋        | 2/12 [00:00<00:00, 19.57it/s]"
     ]
    },
    {
     "name": "stdout",
     "output_type": "stream",
     "text": [
      "Generate reshaped tensor\n"
     ]
    },
    {
     "name": "stderr",
     "output_type": "stream",
     "text": [
      "100%|██████████| 12/12 [00:00<00:00, 19.72it/s]\n"
     ]
    },
    {
     "name": "stdout",
     "output_type": "stream",
     "text": [
      "Rank: 4\n",
      "Error: 0.0096\n",
      "Rank: 5\n",
      "Error: 0.0098\n",
      "Rank: 6\n",
      "Error: 0.0100\n",
      "--------------\n"
     ]
    },
    {
     "name": "stderr",
     "output_type": "stream",
     "text": [
      " 25%|██▌       | 3/12 [00:00<00:00, 21.70it/s]"
     ]
    },
    {
     "name": "stdout",
     "output_type": "stream",
     "text": [
      "Generate reshaped tensor\n"
     ]
    },
    {
     "name": "stderr",
     "output_type": "stream",
     "text": [
      "100%|██████████| 12/12 [00:00<00:00, 21.18it/s]\n"
     ]
    },
    {
     "name": "stdout",
     "output_type": "stream",
     "text": [
      "Rank: 4\n",
      "Error: 0.0162\n",
      "Rank: 5\n",
      "Error: 0.0167\n",
      "Rank: 6\n",
      "Error: 0.0162\n",
      "--------------\n"
     ]
    },
    {
     "name": "stderr",
     "output_type": "stream",
     "text": [
      " 25%|██▌       | 3/12 [00:00<00:00, 21.22it/s]"
     ]
    },
    {
     "name": "stdout",
     "output_type": "stream",
     "text": [
      "Generate reshaped tensor\n"
     ]
    },
    {
     "name": "stderr",
     "output_type": "stream",
     "text": [
      "100%|██████████| 12/12 [00:00<00:00, 20.48it/s]\n"
     ]
    },
    {
     "name": "stdout",
     "output_type": "stream",
     "text": [
      "Rank: 4\n",
      "Error: 0.1705\n",
      "Rank: 5\n",
      "Error: 0.0183\n",
      "Rank: 6\n",
      "Error: 0.0101\n",
      "--------------\n"
     ]
    }
   ],
   "source": [
    "for i in range(10):\n",
    "    tensor_2, err_2 = get_error()"
   ]
  },
  {
   "cell_type": "code",
   "execution_count": 33,
   "id": "italic-overall",
   "metadata": {},
   "outputs": [
    {
     "data": {
      "image/png": "[encoded data removed]",
      "text/plain": [
       "<Figure size 720x576 with 24 Axes>"
      ]
     },
     "metadata": {
      "needs_background": "light"
     },
     "output_type": "display_data"
    }
   ],
   "source": [
    "fig, axes = c2c.plotting.tensor_factors_plot(interaction_tensor=tensor_2,\n",
    "                                             order_labels=['Time', 'Ligand-Receptor Pair', 'Sender Cell', 'Receiver Cell'],\n",
    "                                             fontsize=14,\n",
    "                                            )"
   ]
  },
  {
   "cell_type": "code",
   "execution_count": 3,
   "id": "manual-battery",
   "metadata": {},
   "outputs": [],
   "source": [
    "tensor_ = BaseTensor()\n",
    "tensor_.tensor = sim_0.sim_tensor.tensor_cci"
   ]
  },
  {
   "cell_type": "code",
   "execution_count": 4,
   "id": "august-serial",
   "metadata": {},
   "outputs": [],
   "source": [
    "\n",
    "\n",
    "tensor_.compute_tensor_factorization(rank=sim_0.sim_tensor.rank,\n",
    "                                   tf_type='non_negative_cp',\n",
    "                                   init='svd',\n",
    "                                   random_state=None,\n",
    "                                   verbose=False)"
   ]
  },
  {
   "cell_type": "code",
   "execution_count": 1,
   "id": "military-bristol",
   "metadata": {},
   "outputs": [],
   "source": [
    "import tensorly as tl"
   ]
  },
  {
   "cell_type": "code",
   "execution_count": 3,
   "id": "vanilla-fever",
   "metadata": {},
   "outputs": [],
   "source": [
    "import os"
   ]
  },
  {
   "cell_type": "code",
   "execution_count": 5,
   "id": "golden-coffee",
   "metadata": {},
   "outputs": [
    {
     "data": {
      "text/plain": [
       "KeysView(environ({'CONDA_SHLVL': '2', 'LS_COLORS': 'rs=0:di=01;34:ln=01;36:mh=00:pi=40;33:so=01;35:do=01;35:bd=40;33;01:cd=40;33;01:or=40;31;01:mi=00:su=37;41:sg=30;43:ca=30;41:tw=30;42:ow=34;42:st=37;44:ex=01;32:*.tar=01;31:*.tgz=01;31:*.arc=01;31:*.arj=01;31:*.taz=01;31:*.lha=01;31:*.lz4=01;31:*.lzh=01;31:*.lzma=01;31:*.tlz=01;31:*.txz=01;31:*.tzo=01;31:*.t7z=01;31:*.zip=01;31:*.z=01;31:*.Z=01;31:*.dz=01;31:*.gz=01;31:*.lrz=01;31:*.lz=01;31:*.lzo=01;31:*.xz=01;31:*.zst=01;31:*.tzst=01;31:*.bz2=01;31:*.bz=01;31:*.tbz=01;31:*.tbz2=01;31:*.tz=01;31:*.deb=01;31:*.rpm=01;31:*.jar=01;31:*.war=01;31:*.ear=01;31:*.sar=01;31:*.rar=01;31:*.alz=01;31:*.ace=01;31:*.zoo=01;31:*.cpio=01;31:*.7z=01;31:*.rz=01;31:*.cab=01;31:*.wim=01;31:*.swm=01;31:*.dwm=01;31:*.esd=01;31:*.jpg=01;35:*.jpeg=01;35:*.mjpg=01;35:*.mjpeg=01;35:*.gif=01;35:*.bmp=01;35:*.pbm=01;35:*.pgm=01;35:*.ppm=01;35:*.tga=01;35:*.xbm=01;35:*.xpm=01;35:*.tif=01;35:*.tiff=01;35:*.png=01;35:*.svg=01;35:*.svgz=01;35:*.mng=01;35:*.pcx=01;35:*.mov=01;35:*.mpg=01;35:*.mpeg=01;35:*.m2v=01;35:*.mkv=01;35:*.webm=01;35:*.ogm=01;35:*.mp4=01;35:*.m4v=01;35:*.mp4v=01;35:*.vob=01;35:*.qt=01;35:*.nuv=01;35:*.wmv=01;35:*.asf=01;35:*.rm=01;35:*.rmvb=01;35:*.flc=01;35:*.avi=01;35:*.fli=01;35:*.flv=01;35:*.gl=01;35:*.dl=01;35:*.xcf=01;35:*.xwd=01;35:*.yuv=01;35:*.cgm=01;35:*.emf=01;35:*.ogv=01;35:*.ogx=01;35:*.aac=00;36:*.au=00;36:*.flac=00;36:*.m4a=00;36:*.mid=00;36:*.midi=00;36:*.mka=00;36:*.mp3=00;36:*.mpc=00;36:*.ogg=00;36:*.ra=00;36:*.wav=00;36:*.oga=00;36:*.opus=00;36:*.spx=00;36:*.xspf=00;36:', 'CONDA_EXE': '/home/hratch/anaconda3/bin/conda', 'SSH_CONNECTION': '99.76.230.137 60613 169.228.63.80 22', 'host_alias': 'x86_64-conda-linux-gnu', 'LESSCLOSE': '/usr/bin/lesspipe %s %s', 'GPROF': '/home/hratch/anaconda3/envs/cci_dt/bin/x86_64-conda-linux-gnu-gprof', 'LANG': 'en_US.UTF-8', 'GXX': '/home/hratch/anaconda3/envs/cci_dt/bin/x86_64-conda-linux-gnu-g++', 'OLDPWD': '/home/hratch/Projects', 'LD_GOLD': '/home/hratch/anaconda3/envs/cci_dt/bin/x86_64-conda-linux-gnu-ld.gold', 'CMAKE_ARGS': '-DCMAKE_AR=/home/hratch/anaconda3/envs/cci_dt/bin/x86_64-conda-linux-gnu-ar -DCMAKE_CXX_COMPILER_AR=/home/hratch/anaconda3/envs/cci_dt/bin/x86_64-conda-linux-gnu-gcc-ar -DCMAKE_C_COMPILER_AR=/home/hratch/anaconda3/envs/cci_dt/bin/x86_64-conda-linux-gnu-gcc-ar -DCMAKE_RANLIB=/home/hratch/anaconda3/envs/cci_dt/bin/x86_64-conda-linux-gnu-ranlib -DCMAKE_CXX_COMPILER_RANLIB=/home/hratch/anaconda3/envs/cci_dt/bin/x86_64-conda-linux-gnu-gcc-ranlib -DCMAKE_C_COMPILER_RANLIB=/home/hratch/anaconda3/envs/cci_dt/bin/x86_64-conda-linux-gnu-gcc-ranlib -DCMAKE_LINKER=/home/hratch/anaconda3/envs/cci_dt/bin/x86_64-conda-linux-gnu-ld -DCMAKE_STRIP=/home/hratch/anaconda3/envs/cci_dt/bin/x86_64-conda-linux-gnu-strip', 'DEBUG_CPPFLAGS': '-D_DEBUG -D_FORTIFY_SOURCE=2 -Og -isystem /home/hratch/anaconda3/envs/cci_dt/include', 'DEBUG_CFLAGS': '-march=nocona -mtune=haswell -ftree-vectorize -fPIC -fstack-protector-all -fno-plt -Og -g -Wall -Wextra -fvar-tracking-assignments -ffunction-sections -pipe -isystem /home/hratch/anaconda3/envs/cci_dt/include', 'GCC_NM': '/home/hratch/anaconda3/envs/cci_dt/bin/x86_64-conda-linux-gnu-gcc-nm', 'GSETTINGS_SCHEMA_DIR_CONDA_BACKUP': '', 'CONDA_PREFIX': '/home/hratch/anaconda3/envs/cci_dt', 'GCC_RANLIB': '/home/hratch/anaconda3/envs/cci_dt/bin/x86_64-conda-linux-gnu-gcc-ranlib', 'CFLAGS': '-march=nocona -mtune=haswell -ftree-vectorize -fPIC -fstack-protector-strong -fno-plt -O2 -ffunction-sections -pipe -isystem /home/hratch/anaconda3/envs/cci_dt/include', 'GCC_AR': '/home/hratch/anaconda3/envs/cci_dt/bin/x86_64-conda-linux-gnu-gcc-ar', 'S_COLORS': 'auto', '_CE_M': '', 'CC': '/home/hratch/anaconda3/envs/cci_dt/bin/x86_64-conda-linux-gnu-cc', 'READELF': '/home/hratch/anaconda3/envs/cci_dt/bin/x86_64-conda-linux-gnu-readelf', 'XDG_SESSION_ID': '61378', 'MODULES_CMD': '/usr/local/Modules/libexec/modulecmd.tcl', 'USER': 'hratch', 'ENV': '/usr/local/Modules/init/profile.sh', 'CXXFLAGS': '-fvisibility-inlines-hidden -std=c++17 -fmessage-length=0 -march=nocona -mtune=haswell -ftree-vectorize -fPIC -fstack-protector-strong -fno-plt -O2 -ffunction-sections -pipe -isystem /home/hratch/anaconda3/envs/cci_dt/include', 'CONDA_PREFIX_1': '/home/hratch/anaconda3', 'STRIP': '/home/hratch/anaconda3/envs/cci_dt/bin/x86_64-conda-linux-gnu-strip', 'DEBUG_FFLAGS': '-fopenmp -march=nocona -mtune=haswell -ftree-vectorize -fPIC -fstack-protector-strong -fno-plt -O2 -ffunction-sections -pipe -isystem /home/hratch/anaconda3/envs/cci_dt/include -fopenmp -march=nocona -mtune=haswell -ftree-vectorize -fPIC -fstack-protector-all -fno-plt -Og -g -Wall -Wextra -fcheck=all -fbacktrace -fimplicit-none -fvar-tracking-assignments -ffunction-sections -pipe', 'OBJCOPY': '/home/hratch/anaconda3/envs/cci_dt/bin/x86_64-conda-linux-gnu-objcopy', '_CONDA_PYTHON_SYSCONFIGDATA_NAME': '_sysconfigdata_x86_64_conda_cos6_linux_gnu', 'PWD': '/home/hratch/Projects/c2c_sim', 'HOME': '/home/hratch', 'ADDR2LINE': '/home/hratch/anaconda3/envs/cci_dt/bin/x86_64-conda-linux-gnu-addr2line', 'CONDA_PYTHON_EXE': '/home/hratch/anaconda3/bin/python', 'CMAKE_PREFIX_PATH': '/home/hratch/anaconda3/envs/cci_dt:/home/hratch/anaconda3/envs/cci_dt/x86_64-conda-linux-gnu/sysroot/usr', 'HOST': 'x86_64-conda-linux-gnu', 'SSH_CLIENT': '99.76.230.137 60613 22', 'TMUX': '/tmp/tmux-1030/default,22638,0', 'F77': '/home/hratch/anaconda3/envs/cci_dt/bin/x86_64-conda-linux-gnu-gfortran', 'FORTRANFLAGS': '-fopenmp -march=nocona -mtune=haswell -ftree-vectorize -fPIC -fstack-protector-strong -fno-plt -O2 -ffunction-sections -pipe -isystem /home/hratch/anaconda3/envs/cci_dt/include', 'BASH_ENV': '/usr/local/Modules/init/bash', 'XDG_DATA_DIRS': '/usr/local/share:/usr/share:/var/lib/snapd/desktop', 'RANLIB': '/home/hratch/anaconda3/envs/cci_dt/bin/x86_64-conda-linux-gnu-ranlib', 'OBJDUMP': '/home/hratch/anaconda3/envs/cci_dt/bin/x86_64-conda-linux-gnu-objdump', 'AS': '/home/hratch/anaconda3/envs/cci_dt/bin/x86_64-conda-linux-gnu-as', 'AR': '/home/hratch/anaconda3/envs/cci_dt/bin/x86_64-conda-linux-gnu-ar', 'GFORTRAN': '/home/hratch/anaconda3/envs/cci_dt/bin/x86_64-conda-linux-gnu-gfortran', '_CE_CONDA': '', 'GSETTINGS_SCHEMA_DIR': '/home/hratch/anaconda3/envs/cci_dt/share/glib-2.0/schemas', 'CC_FOR_BUILD': '/home/hratch/anaconda3/envs/cci_dt/bin/x86_64-conda-linux-gnu-cc', 'build_alias': 'x86_64-conda-linux-gnu', 'DEBUG_FORTRANFLAGS': '-fopenmp -march=nocona -mtune=haswell -ftree-vectorize -fPIC -fstack-protector-strong -fno-plt -O2 -ffunction-sections -pipe -isystem /home/hratch/anaconda3/envs/cci_dt/include -fopenmp -march=nocona -mtune=haswell -ftree-vectorize -fPIC -fstack-protector-all -fno-plt -Og -g -Wall -Wextra -fcheck=all -fbacktrace -fimplicit-none -fvar-tracking-assignments -ffunction-sections -pipe', 'BUILD': 'x86_64-conda-linux-gnu', 'LOADEDMODULES': '', 'FC': '/home/hratch/anaconda3/envs/cci_dt/bin/x86_64-conda-linux-gnu-gfortran', 'NM': '/home/hratch/anaconda3/envs/cci_dt/bin/x86_64-conda-linux-gnu-nm', 'CONDA_PROMPT_MODIFIER': '(cci_dt) ', 'SSH_TTY': '/dev/pts/16', 'CONDA_BUILD_SYSROOT': '/home/hratch/anaconda3/envs/cci_dt/x86_64-conda-linux-gnu/sysroot', 'MAIL': '/var/mail/hratch', 'DEBUG_CXXFLAGS': '-fvisibility-inlines-hidden -std=c++17 -fmessage-length=0 -march=nocona -mtune=haswell -ftree-vectorize -fPIC -fstack-protector-all -fno-plt -Og -g -Wall -Wextra -fvar-tracking-assignments -ffunction-sections -pipe -isystem /home/hratch/anaconda3/envs/cci_dt/include', 'CXX': '/home/hratch/anaconda3/envs/cci_dt/bin/x86_64-conda-linux-gnu-c++', 'TERM': 'xterm-color', 'SHELL': '/bin/bash', 'CXXFILT': '/home/hratch/anaconda3/envs/cci_dt/bin/x86_64-conda-linux-gnu-c++filt', 'ELFEDIT': '/home/hratch/anaconda3/envs/cci_dt/bin/x86_64-conda-linux-gnu-elfedit', 'COOKIECUTTER_CONFIG': '/home/hratch/Software/cookiecutter_defaults_baghdassarian.yaml', 'TMUX_PANE': '%0', 'SHLVL': '2', 'FFLAGS': '-fopenmp -march=nocona -mtune=haswell -ftree-vectorize -fPIC -fstack-protector-strong -fno-plt -O2 -ffunction-sections -pipe -isystem /home/hratch/anaconda3/envs/cci_dt/include', 'MANPATH': ':', 'CPPFLAGS': '-DNDEBUG -D_FORTIFY_SOURCE=2 -O2 -isystem /home/hratch/anaconda3/envs/cci_dt/include', 'STRINGS': '/home/hratch/anaconda3/envs/cci_dt/bin/x86_64-conda-linux-gnu-strings', 'F90': '/home/hratch/anaconda3/envs/cci_dt/bin/x86_64-conda-linux-gnu-gfortran', 'F95': '/home/hratch/anaconda3/envs/cci_dt/bin/x86_64-conda-linux-gnu-f95', 'MODULEPATH': '', 'LOGNAME': 'hratch', 'DBUS_SESSION_BUS_ADDRESS': 'unix:path=/run/user/1030/bus', 'XDG_RUNTIME_DIR': '/run/user/1030', 'RSTUDIO_WHICH_R': '/home/hratch/anaconda3/envs/cci_dt/bin/R', 'LDFLAGS': '-Wl,-O2 -Wl,--sort-common -Wl,--as-needed -Wl,-z,relro -Wl,-z,now -Wl,--disable-new-dtags -Wl,--gc-sections -Wl,-rpath,/home/hratch/anaconda3/envs/cci_dt/lib -Wl,-rpath-link,/home/hratch/anaconda3/envs/cci_dt/lib -L/home/hratch/anaconda3/envs/cci_dt/lib', 'CXX_FOR_BUILD': '/home/hratch/anaconda3/envs/cci_dt/bin/x86_64-conda-linux-gnu-c++', 'PATH': '/home/hratch/bin:/home/hratch/.local/bin:/data/hratch/Software/cellranger-3.1.0:/home/hratch/bin:/home/hratch/.local/bin:/data/hratch/Software/cellranger-3.1.0:/home/hratch/anaconda3/envs/cci_dt/bin:/home/hratch/anaconda3/condabin:/usr/local/Modules/bin:/usr/local/sbin:/usr/local/bin:/usr/sbin:/usr/bin:/sbin:/bin:/usr/games:/usr/local/games:/snap/bin:/home/hratch/.dotnet/tools:/data2/hratch/Software/sratoolkit.2.9.6-1-ubuntu64/bin:/home/hratch/.dotnet/tools:/data2/hratch/Software/sratoolkit.2.9.6-1-ubuntu64/bin', 'GCC': '/home/hratch/anaconda3/envs/cci_dt/bin/x86_64-conda-linux-gnu-gcc', 'MODULESHOME': '/usr/local/Modules', 'CONDA_DEFAULT_ENV': 'cci_dt', 'SIZE': '/home/hratch/anaconda3/envs/cci_dt/bin/x86_64-conda-linux-gnu-size', 'CPP': '/home/hratch/anaconda3/envs/cci_dt/bin/x86_64-conda-linux-gnu-cpp', 'LD': '/home/hratch/anaconda3/envs/cci_dt/bin/x86_64-conda-linux-gnu-ld', 'LESSOPEN': '| /usr/bin/lesspipe %s', 'BASH_FUNC_module%%': '() {  _module_raw \"$@\" 2>&1\\n}', 'BASH_FUNC__module_raw%%': '() {  unset _mlshdbg;\\n if [ \"${MODULES_SILENT_SHELL_DEBUG:-0}\" = \\'1\\' ]; then\\n case \"$-\" in \\n *v*x*)\\n set +vx;\\n _mlshdbg=\\'vx\\'\\n ;;\\n *v*)\\n set +v;\\n _mlshdbg=\\'v\\'\\n ;;\\n *x*)\\n set +x;\\n _mlshdbg=\\'x\\'\\n ;;\\n *)\\n _mlshdbg=\\'\\'\\n ;;\\n esac;\\n fi;\\n unset _mlre _mlIFS;\\n if [ -n \"${IFS+x}\" ]; then\\n _mlIFS=$IFS;\\n fi;\\n IFS=\\' \\';\\n for _mlv in ${MODULES_RUN_QUARANTINE:-};\\n do\\n if [ \"${_mlv}\" = \"${_mlv##*[!A-Za-z0-9_]}\" -a \"${_mlv}\" = \"${_mlv#[0-9]}\" ]; then\\n if [ -n \"`eval \\'echo ${\\'$_mlv\\'+x}\\'`\" ]; then\\n _mlre=\"${_mlre:-}${_mlv}_modquar=\\'`eval \\'echo ${\\'$_mlv\\'}\\'`\\' \";\\n fi;\\n _mlrv=\"MODULES_RUNENV_${_mlv}\";\\n _mlre=\"${_mlre:-}${_mlv}=\\'`eval \\'echo ${\\'$_mlrv\\':-}\\'`\\' \";\\n fi;\\n done;\\n if [ -n \"${_mlre:-}\" ]; then\\n eval `eval ${_mlre}/usr/bin/tclsh /usr/local/Modules/libexec/modulecmd.tcl bash \\'\"$@\"\\'`;\\n else\\n eval `/usr/bin/tclsh /usr/local/Modules/libexec/modulecmd.tcl bash \"$@\"`;\\n fi;\\n _mlstatus=$?;\\n if [ -n \"${_mlIFS+x}\" ]; then\\n IFS=$_mlIFS;\\n else\\n unset IFS;\\n fi;\\n unset _mlre _mlv _mlrv _mlIFS;\\n if [ -n \"${_mlshdbg:-}\" ]; then\\n set -$_mlshdbg;\\n fi;\\n unset _mlshdbg;\\n return $_mlstatus\\n}', 'BASH_FUNC_switchml%%': '() {  typeset swfound=1;\\n if [ \"${MODULES_USE_COMPAT_VERSION:-0}\" = \\'1\\' ]; then\\n typeset swname=\\'main\\';\\n if [ -e /usr/local/Modules/libexec/modulecmd.tcl ]; then\\n typeset swfound=0;\\n unset MODULES_USE_COMPAT_VERSION;\\n fi;\\n else\\n typeset swname=\\'compatibility\\';\\n if [ -e /usr/local/Modules/libexec/modulecmd-compat ]; then\\n typeset swfound=0;\\n MODULES_USE_COMPAT_VERSION=1;\\n export MODULES_USE_COMPAT_VERSION;\\n fi;\\n fi;\\n if [ $swfound -eq 0 ]; then\\n echo \"Switching to Modules $swname version\";\\n source /usr/local/Modules/init/bash;\\n else\\n echo \"Cannot switch to Modules $swname version, command not found\";\\n return 1;\\n fi\\n}', '_': '/home/hratch/.local/bin/jupyter', 'JPY_PARENT_PID': '23419', 'CLICOLOR': '1', 'PAGER': 'cat', 'GIT_PAGER': 'cat', 'MPLBACKEND': 'module://ipykernel.pylab.backend_inline'}))"
      ]
     },
     "execution_count": 5,
     "metadata": {},
     "output_type": "execute_result"
    }
   ],
   "source": [
    "os.environ.keys()"
   ]
  },
  {
   "cell_type": "code",
   "execution_count": null,
   "id": "authorized-cookbook",
   "metadata": {},
   "outputs": [],
   "source": []
  }
 ],
 "metadata": {
  "kernelspec": {
   "display_name": "Python [conda env:cci_dt] *",
   "language": "python",
   "name": "conda-env-cci_dt-py"
  },
  "language_info": {
   "codemirror_mode": {
    "name": "ipython",
    "version": 3
   },
   "file_extension": ".py",
   "mimetype": "text/x-python",
   "name": "python",
   "nbconvert_exporter": "python",
   "pygments_lexer": "ipython3",
   "version": "3.9.1"
  }
 },
 "nbformat": 4,
 "nbformat_minor": 5
}
