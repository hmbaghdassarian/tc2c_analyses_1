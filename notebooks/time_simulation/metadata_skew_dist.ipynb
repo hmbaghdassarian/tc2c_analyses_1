{
 "cells": [
  {
   "cell_type": "code",
   "execution_count": 73,
   "id": "productive-tournament",
   "metadata": {},
   "outputs": [],
   "source": [
    "import pandas as pd\n",
    "import numpy as np\n",
    "\n",
    "import seaborn as sns\n",
    "import matplotlib.pyplot as plt\n",
    "import sys\n",
    "sys.path.insert(1, '../c2c_sim/')\n",
    "from core.simulate import CCI_MD\n",
    "seed = 1\n",
    "dp = '/data2/hratch/cci_dt/figures/'"
   ]
  },
  {
   "cell_type": "code",
   "execution_count": 74,
   "id": "biological-camera",
   "metadata": {},
   "outputs": [],
   "source": [
    "# initialize\n",
    "cci = CCI_MD(seed = seed)\n",
    "cci.cci_network(n_cells = 1000, directional = True, autocrine = True)"
   ]
  },
  {
   "cell_type": "code",
   "execution_count": 75,
   "id": "agreed-favorite",
   "metadata": {},
   "outputs": [
    {
     "name": "stderr",
     "output_type": "stream",
     "text": [
      "<ipython-input-75-88ba59975419>:7: SettingWithCopyWarning: \n",
      "A value is trying to be set on a copy of a slice from a DataFrame.\n",
      "Try using .loc[row_indexer,col_indexer] = value instead\n",
      "\n",
      "See the caveats in the documentation: https://pandas.pydata.org/pandas-docs/stable/user_guide/indexing.html#returning-a-view-versus-a-copy\n",
      "  df['skew'] = skew\n"
     ]
    }
   ],
   "source": [
    "cols = ['subcategory', 'skew']\n",
    "res = pd.DataFrame(columns = cols)\n",
    "# similarly generate metadata that each cell ID is associated with, do not remove homotypic interactions\n",
    "for skew in np.arange(0,1.01,0.1):\n",
    "    cci.generate_metadata(n_cell_cats = {4: skew}, cat_skew = 0, remove_homotypic = 0)\n",
    "    df = cci.cell_metadata[['subcategory']]\n",
    "    df['skew'] = skew\n",
    "    res = pd.concat([res, df])"
   ]
  },
  {
   "cell_type": "code",
   "execution_count": 76,
   "id": "incoming-aggregate",
   "metadata": {},
   "outputs": [],
   "source": [
    "# map to consistent category labels across conditions\n",
    "idx_mapper = {0: 'A', 1: 'B', 2: 'C', 3: 'D'}\n",
    "cat_mapper = dict()\n",
    "for skew in res['skew'].unique():\n",
    "    for i, cat in list(enumerate(res[res['skew'] == skew].subcategory.value_counts().index.tolist())):\n",
    "        cat_mapper[cat] = idx_mapper[i]\n",
    "\n",
    "res['subcategory'] = res['subcategory'].map(cat_mapper)\n",
    "cat_order = sorted(res.subcategory.unique())\n",
    "res[\"subcategory\"] = pd.Categorical(res[\"subcategory\"], categories=cat_order) "
   ]
  },
  {
   "cell_type": "code",
   "execution_count": 90,
   "id": "valuable-composite",
   "metadata": {},
   "outputs": [
    {
     "data": {
      "image/png": "[encoded data removed]",
      "text/plain": [
       "<Figure size 432x432 with 1 Axes>"
      ]
     },
     "metadata": {
      "needs_background": "light"
     },
     "output_type": "display_data"
    }
   ],
   "source": [
    "fontsize = 14\n",
    "fig, ax = plt.subplots(figsize = (6,6))\n",
    "sns.countplot(data = res, x = 'subcategory', hue = 'skew', ax = ax)\n",
    "handles, labels = ax.get_legend_handles_labels()\n",
    "labels = ['{:.2f}'.format(float(i)) for i in labels]\n",
    "ax.legend(labels=labels, handles = handles,loc = 'upper right', title = 'Skew', \n",
    "         fancybox = False, shadow = True, fontsize = 0.9*fontsize, ncol = 3)#bbox_to_anchor=(1.01, 0.8),\n",
    "ax.set_xlabel('Metadata Subcategory', fontsize = 1.2*fontsize)\n",
    "ax.set_ylabel('Count', fontsize = 1.2*fontsize)\n",
    "ax.tick_params(axis='both', labelsize=fontsize)\n",
    "plt.tight_layout()\n",
    "\n",
    "for ext in ['.pdf', '.png', '.svg']:\n",
    "    plt.savefig(dp + 'categorical_skewing' + ext, bbox_inches = 'tight')\n"
   ]
  }
 ],
 "metadata": {
  "kernelspec": {
   "display_name": "Python [conda env:cci_dt] *",
   "language": "python",
   "name": "conda-env-cci_dt-py"
  },
  "language_info": {
   "codemirror_mode": {
    "name": "ipython",
    "version": 3
   },
   "file_extension": ".py",
   "mimetype": "text/x-python",
   "name": "python",
   "nbconvert_exporter": "python",
   "pygments_lexer": "ipython3",
   "version": "3.9.1"
  }
 },
 "nbformat": 4,
 "nbformat_minor": 5
}
