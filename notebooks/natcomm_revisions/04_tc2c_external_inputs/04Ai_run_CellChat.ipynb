{
 "cells": [
  {
   "cell_type": "markdown",
   "id": "exterior-combat",
   "metadata": {},
   "source": [
    "Get communication scores from CellChat in each context of BALF data to use as input to tensor cell2cell\n",
    "\n",
    "env_name: cellchat"
   ]
  },
  {
   "cell_type": "code",
   "execution_count": 38,
   "id": "experienced-lender",
   "metadata": {},
   "outputs": [],
   "source": [
    "suppressPackageStartupMessages({\n",
    "    library(CellChat, quietly = T)\n",
    "    library(patchwork, quietly = T)\n",
    "    library(RhpcBLASctl, quietly = T)\n",
    "    library(Matrix, quietly = T)\n",
    "    library(data.table, quietly = T)\n",
    "    library(ggplot2, quietly = T)\n",
    "    library(reshape2, quietly = T)\n",
    "})\n",
    "options(stringsAsFactors = FALSE)\n",
    "# RhpcBLASctl::blas_set_num_threads(25) # no multithreading\n",
    "\n",
    "# paths\n",
    "natmi_path = '/data2/hratch/Software/NATMI/' # see script 04Aii for details\n",
    "expression_data_path = '/data2/hratch/immune_CCI/covid/expression_data/covid_data/'#'/data2/eric/CCC-Benchmark/data/External/'\n",
    "external_expression_path = F # set to T if using commented out path , small parsing differences\n",
    "rev_path = '/data3/hratch/tc2c_analyses_1/natcomm_revisions/'\n",
    "input_data_path = '/data2/hratch/immune_CCI/covid/inputs/'\n",
    "\n",
    "# parameters\n",
    "type_<-'functional'\n",
    "group<-0\n",
    "seed<-888\n",
    "set.seed(seed)\n",
    "\n",
    "if (external_expression_path){\n",
    "    cell_grouper<-'cell_type'\n",
    "}else{\n",
    "    cell_grouper<-'celltype'\n",
    "}\n",
    "\n",
    "version<-2"
   ]
  },
  {
   "cell_type": "markdown",
   "id": "signal-rugby",
   "metadata": {},
   "source": [
    "# Prepare LR input\n",
    "connectomeDB2020 for use with Cellchat"
   ]
  },
  {
   "cell_type": "code",
   "execution_count": 54,
   "id": "horizontal-attachment",
   "metadata": {},
   "outputs": [],
   "source": [
    "humandb<-CellChatDB.human\n",
    "connectome_lr<-read.csv(paste0(natmi_path, 'lrdbs/lrc2p.csv'))\n",
    "colnames(connectome_lr)<-c('ligand', 'receptor')\n",
    "connectome_lr[['interaction_name']]<-apply(connectome_lr, 1, paste, collapse = '_')\n",
    "rownames(connectome_lr)<-connectome_lr$interaction_name\n",
    "connectome_db<-list(interaction=connectome_lr, complex=humandb$complex, \n",
    "                   cofactor=humandb$cofactor, geneInfo=humandb$geneInfo)"
   ]
  },
  {
   "cell_type": "markdown",
   "id": "interracial-childhood",
   "metadata": {},
   "source": [
    "# Preprocess \n",
    "as in cellchat_benchmark/05B"
   ]
  },
  {
   "cell_type": "code",
   "execution_count": 55,
   "id": "instructional-discipline",
   "metadata": {},
   "outputs": [],
   "source": [
    "fns = list()\n",
    "for (fn in list.files(expression_data_path)){\n",
    "    sn = strsplit(fn, '_')[[1]]\n",
    "    sample.name = sn[[2]]\n",
    "    type = sn[[1]]\n",
    "    fns[[sample.name]][[type]] = fn\n",
    "}\n",
    "sample.names<-names(fns)"
   ]
  },
  {
   "cell_type": "code",
   "execution_count": 56,
   "id": "republican-curve",
   "metadata": {},
   "outputs": [],
   "source": [
    "# load the UMI counts\n",
    "read_sample_csv<-function(sn){\n",
    "    counts<-as.data.frame(fread(paste0(expression_data_path, fns[[sn]]$DGE)))\n",
    "    rownames(counts)<-counts$Gene\n",
    "    counts<-counts[ , !(colnames(counts) %in% c('Gene'))]\n",
    "    if(external_expression_path){colnames(counts)<-paste0(sn, '.', colnames(counts))} # consistency with metadata\n",
    "    return(as.matrix(counts))\n",
    "}\n",
    "\n",
    "read_meta<-function(sn){\n",
    "    meta<-read.csv(paste0(expression_data_path, fns[[sn]]$Meta))\n",
    "    rownames(meta) = meta$Cell\n",
    "    return(meta)\n",
    "}\n",
    "\n",
    "\n",
    "if (!group){                             \n",
    "    counts<-lapply(setNames(sample.names, sample.names), function(sn) read_sample_csv(sn))\n",
    "    meta<-lapply(setNames(sample.names, sample.names), function(sn) read_meta(sn))\n",
    "                                  \n",
    "}else{ # group by context\n",
    "    stop('Should not group by context for classification')        \n",
    "}\n",
    "\n",
    "md.cell<-do.call(\"rbind\", meta)\n",
    "if (!external_expression_path){rownames(md.cell)<-md.cell$ID}\n",
    "if (type_ == 'functional'){# functional requires same cell types to work                \n",
    "    # filter for intersection of cell types across samples/contexts - to make comparable with Tensor-cell2cell\n",
    "    cell.types<-Reduce(intersect, lapply(counts, function(df) unique(md.cell[colnames(df), cell_grouper])))\n",
    "    cell.ids<-rownames(md.cell[md.cell[[cell_grouper]] %in% cell.types, ])   \n",
    "    for (n in names(counts)){\n",
    "        df<-counts[[n]]\n",
    "        counts[[n]]<-df[,colnames(df) %in% cell.ids]\n",
    "    }\n",
    "}       "
   ]
  },
  {
   "cell_type": "markdown",
   "id": "private-canon",
   "metadata": {},
   "source": [
    "# Run Cellchat"
   ]
  },
  {
   "cell_type": "code",
   "execution_count": null,
   "id": "cleared-trace",
   "metadata": {},
   "outputs": [],
   "source": [
    "print('Run cellchat')\n",
    "suppressWarnings({\n",
    "    suppressMessages({\n",
    "        # create cellchat object for each sample or sample.name\n",
    "        covid<-list()\n",
    "        for (sample.name in names(counts)){\n",
    "            print(sample.name)\n",
    "            # loop through each sample.name and create a cell type future\n",
    "            expr<-CellChat::normalizeData(counts[[sample.name]])\n",
    "            cellchat<-createCellChat(object = as(expr, \"dgCMatrix\"), meta = md.cell[colnames(expr),], \n",
    "                                           group.by = cell_grouper)\n",
    "            cellchat@DB <- connectome_db # human organism\n",
    "\n",
    "            cellchat <- subsetData(cellchat) # subset the expression data of signaling genes, assign to @data.signalling \n",
    "            cellchat <- identifyOverExpressedGenes(cellchat)\n",
    "            cellchat <- identifyOverExpressedInteractions(cellchat) # generate @ LR slot used by computeCommunProb\n",
    "            cellchat <- projectData(cellchat, PPI.human) # shallow sequencing depth\n",
    "\n",
    "            cellchat <- computeCommunProb(cellchat, raw.use = F, type = 'triMean', trim = NULL, seed.use = seed, \n",
    "                                         population.size = F) \n",
    "\n",
    "            # The functional similarity analysis requires the same cell population composition between two datasets.\n",
    "            cellchat <- filterCommunication(cellchat, min.cells = 10)\n",
    "            covid[[sample.name]]<-cellchat\n",
    "        }\n",
    "    })\n",
    "})\n",
    "saveRDS(covid, \n",
    "        paste0(rev_path, 'interim/tc2c_external_inputs/cellchat/', 'covid_balf_cellchatobjects.rds'))\n",
    "print('complete')\n"
   ]
  },
  {
   "cell_type": "code",
   "execution_count": 11,
   "id": "exciting-sleeve",
   "metadata": {},
   "outputs": [],
   "source": [
    "# reformat for input to tensor-cell2cell\n",
    "suppressWarnings({\n",
    "    cm_list<-list()\n",
    "    for (sample in names(covid)){\n",
    "        # get communication array and format into a CCxLR matrix\n",
    "        cm<-melt(covid[[sample]]@net$prob)\n",
    "        colnames(cm)<-c('Sender', 'Receiver', 'LR', 'Score')\n",
    "\n",
    "        # map LRs to appropriate naming convention\n",
    "        lr_map<-covid[[sample]]@LR$LRsig\n",
    "        lr_map<-apply(lr_map[, c(1,2)], 1, paste, collapse = '&')\n",
    "        cm[['LR']]<-unname(lr_map[cm$LR])\n",
    "\n",
    "        # recast into CCxLR\n",
    "        cm['Sender.Receiver']<-apply(cm[, c('Sender', 'Receiver')], 1, paste, collapse = '-')\n",
    "        cm<-cm[!(colnames(cm) %in% c('Sender', 'Receiver'))]\n",
    "        cm<-reshape2::dcast(cm, LR~Sender.Receiver, value.var='Score')\n",
    "        rownames(cm)<-cm$LR\n",
    "        cm<-cm[colnames(cm) != 'LR']\n",
    "        \n",
    "        cm[['Sample']]<-sample\n",
    "        cm_list[[sample]]<-cm\n",
    "    }\n",
    "})\n",
    "cm_all<-do.call(rbind,cm_list)\n",
    "write.csv(cm_all, paste0(rev_path, 'interim/tc2c_external_inputs/cellchat/', 'cellchat_balf.csv'))"
   ]
  }
 ],
 "metadata": {
  "kernelspec": {
   "display_name": "R [conda env:cellchat]",
   "language": "R",
   "name": "conda-env-cellchat-r"
  },
  "language_info": {
   "codemirror_mode": "r",
   "file_extension": ".r",
   "mimetype": "text/x-r-source",
   "name": "R",
   "pygments_lexer": "r",
   "version": "4.1.0"
  }
 },
 "nbformat": 4,
 "nbformat_minor": 5
}
