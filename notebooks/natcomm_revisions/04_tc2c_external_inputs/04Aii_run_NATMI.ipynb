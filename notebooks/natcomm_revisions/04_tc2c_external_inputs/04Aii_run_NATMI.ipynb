{
 "cells": [
  {
   "cell_type": "markdown",
   "id": "impossible-species",
   "metadata": {},
   "source": [
    "Get communication scores from NATMI in each context of BALF data to use as input to tensor cell2cell\n",
    "\n",
    "env_name: cci_dt"
   ]
  },
  {
   "cell_type": "code",
   "execution_count": 24,
   "id": "handy-nevada",
   "metadata": {},
   "outputs": [],
   "source": [
    "import os\n",
    "from tqdm import tqdm\n",
    "\n",
    "import pandas as pd\n",
    "import numpy as np\n",
    "import scanpy as sc\n",
    "\n",
    "import cell2cell as c2c\n",
    "\n",
    "\n",
    "expr_files = '/data2/eric/Tensor-Revisions/COVID-19-BALF-log1p.h5ad' # the log(1+CPM) files from Erick\n",
    "rev_path = '/data3/hratch/tc2c_analyses_1/natcomm_revisions/'\n",
    "natmi_path = '/data2/hratch/Software/NATMI/'\n",
    "n_cores = 20\n",
    "# installed for this:\n",
    "# xlsxwriter=3.0.2\n",
    "# xlrd=2.0.1\n",
    "# NATMI: git clone https://github.com/asrhou/NATMI.git commit: f35f677cb2e4c8a176a6c5501a9483c9e28661a1"
   ]
  },
  {
   "cell_type": "code",
   "execution_count": 1,
   "id": "modular-welding",
   "metadata": {},
   "outputs": [],
   "source": [
    "import sys\n",
    "sys.path.insert(1, '/home/hratch/Projects/CCC/tc2c_analyses_1/notebooks/natcomm_revisions/')\n",
    "from utility import natmi_edgelist_to_communication_matrix"
   ]
  },
  {
   "cell_type": "markdown",
   "id": "certified-burton",
   "metadata": {},
   "source": [
    "NATMI uses connectomeDB2020 by default"
   ]
  },
  {
   "cell_type": "markdown",
   "id": "commercial-florida",
   "metadata": {},
   "source": [
    "# Prepare the Expression Data and MD"
   ]
  },
  {
   "cell_type": "code",
   "execution_count": 13,
   "id": "worldwide-standing",
   "metadata": {},
   "outputs": [],
   "source": [
    "def format_for_natmi(adata_sample):\n",
    "    \"\"\"Format adata of a sample for input to NATMI\"\"\"\n",
    "    # convert to CPM with genes as rows and cells as columns\n",
    "    expr = pd.DataFrame(np.exp(adata_sample.X.toarray()) - 1 ).T\n",
    "    expr.index = adata_sample.var.index.tolist()\n",
    "    expr.columns = adata_sample.obs.index.tolist()\n",
    "\n",
    "    # get the cell type annotation\n",
    "    md = pd.DataFrame(adata_sample.obs['celltype'])\n",
    "    md.reset_index(inplace = True)\n",
    "    md.rename(columns = {'index': 'Cell', 'celltype': 'Annotation'}, inplace = True)\n",
    "    \n",
    "    return expr, md\n",
    "\n",
    "def run_natmi(fp):\n",
    "    \"\"\"Run NATMI on inputs generated from 'format_for_natmi'\"\"\"\n",
    "    # connectomeDB2020, human species, and gene symbol by default are correct\n",
    "    cmd = ['python', natmi_path + 'ExtractEdges.py'] \n",
    "    cmd += ['--emFile', fp + '_CPM_expr.csv']\n",
    "    cmd += ['--annFile', fp + '_metadata.csv']\n",
    "    # cmd += ['--interDB', natmi_path + 'lrdbs/lrc2p.csv'] # connectomeDB2020\n",
    "\n",
    "    if n_cores is not None and n_cores >1:\n",
    "        cmd += ['--coreNum', str(n_cores)]\n",
    "    cmd += ['--out', rev_path + 'interim/tc2c_external_inputs/natmi/natmi_outputs/' + sample]\n",
    "    cmd = ' '.join(cmd)\n",
    "    return cmd"
   ]
  },
  {
   "cell_type": "code",
   "execution_count": 149,
   "id": "registered-height",
   "metadata": {},
   "outputs": [
    {
     "name": "stderr",
     "output_type": "stream",
     "text": [
      "<ipython-input-149-074b19815d63>:6: RuntimeWarning: overflow encountered in exp\n",
      "  expr = pd.DataFrame(np.exp(adata_sample.X.toarray()) - 1 ).T\n"
     ]
    }
   ],
   "source": [
    "adata = sc.read_h5ad(expr_files) # log(1+CPM) BALF from Erick\n",
    "samples = adata.obs['sample'].unique()\n",
    "\n",
    "for sample in tqdm(samples):\n",
    "    fp = rev_path + 'interim/tc2c_external_inputs/natmi/natmi_inputs/' + sample \n",
    "\n",
    "    adata_sample = adata[adata.obs['sample'] == sample] # subset to sample of interest\n",
    "    expr,md = format_for_natmi(adata_sample) # format for input to NATMI\n",
    "\n",
    "    # files must be written because NATMI is command-line only\n",
    "    expr.to_csv(fp + '_CPM_expr.csv', index=True, header=True)\n",
    "    md.to_csv(fp + '_metadata.csv', index=False, header=True)\n",
    "\n",
    "    cmd = run_natmi(fp)\n",
    "    os.system(cmd) # this must be run within the NATMI directory, otherwise permission errors\n",
    "\n",
    "    # load resultant edge list and format for input to tensor-cell2cell\n",
    "    edge_file = rev_path + 'interim/tc2c_external_inputs/natmi/natmi_outputs/' + sample + '/Edges_lrc2p.csv'\n",
    "    cm = natmi_edgelist_to_communication_matrix(edge_file) \n",
    "    cm.to_csv(rev_path + 'interim/tc2c_external_inputs/natmi/' + sample + '_communication_matrix.csv')"
   ]
  }
 ],
 "metadata": {
  "kernelspec": {
   "display_name": "Python [conda env:cci_dt] *",
   "language": "python",
   "name": "conda-env-cci_dt-py"
  },
  "language_info": {
   "codemirror_mode": {
    "name": "ipython",
    "version": 3
   },
   "file_extension": ".py",
   "mimetype": "text/x-python",
   "name": "python",
   "nbconvert_exporter": "python",
   "pygments_lexer": "ipython3",
   "version": "3.9.1"
  }
 },
 "nbformat": 4,
 "nbformat_minor": 5
}
