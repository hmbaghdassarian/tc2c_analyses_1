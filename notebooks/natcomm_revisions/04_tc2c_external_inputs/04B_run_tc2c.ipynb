{
 "cells": [
  {
   "cell_type": "markdown",
   "id": "decimal-irish",
   "metadata": {},
   "source": [
    "Run tensor cell2cell on outputs of various communication scoring tools\n",
    "\n",
    "env name: cci_dt\n"
   ]
  },
  {
   "cell_type": "code",
   "execution_count": 1,
   "id": "wired-professor",
   "metadata": {},
   "outputs": [],
   "source": [
    "import os\n",
    "from collections import OrderedDict\n",
    "import itertools\n",
    "import numpy as np\n",
    "import pandas as pd\n",
    "\n",
    "import cell2cell as c2c\n",
    "\n",
    "seed = 888\n",
    "np.random.seed(seed)\n",
    "\n",
    "rev_path = '/data3/hratch/tc2c_analyses_1/natcomm_revisions/'\n",
    "expression_data_path = '/data2/hratch/immune_CCI/covid/expression_data/covid_data/'\n",
    "\n",
    "cp_delim = '-'\n",
    "lr_delim = '&'"
   ]
  },
  {
   "cell_type": "code",
   "execution_count": 2,
   "id": "greek-blink",
   "metadata": {},
   "outputs": [],
   "source": [
    "import sys\n",
    "sys.path.insert(1, '/home/hratch/Projects/CCC/tc2c_analyses_1/notebooks/natcomm_revisions/')\n",
    "from utility import matrix_to_interaction_tensor"
   ]
  },
  {
   "cell_type": "markdown",
   "id": "outstanding-moore",
   "metadata": {},
   "source": [
    "Load output of the different communication scoring pipelines"
   ]
  },
  {
   "cell_type": "code",
   "execution_count": 6,
   "id": "oriented-damage",
   "metadata": {},
   "outputs": [],
   "source": [
    "samples = ['C51', 'C52', 'C100', 'C141', 'C142',  'C144',\n",
    " 'C145', 'C143', 'C146', 'C148', 'C149', 'C152']"
   ]
  },
  {
   "cell_type": "code",
   "execution_count": 7,
   "id": "higher-arrangement",
   "metadata": {},
   "outputs": [],
   "source": [
    "# load cellchat\n",
    "cellchat_cm = pd.read_csv(rev_path + 'interim/tc2c_external_inputs/cellchat/cellchat_balf.csv', index_col = 0)\n",
    "cellchat = OrderedDict()\n",
    "for sample in samples:\n",
    "    df = cellchat_cm[cellchat_cm.Sample == sample]\n",
    "    df.drop(columns = ['Sample'], inplace = True)\n",
    "    df.index = pd.Series(df.index).apply(lambda x: x.split('.')[1]).tolist()\n",
    "    cellchat[sample] = df"
   ]
  },
  {
   "cell_type": "code",
   "execution_count": 8,
   "id": "million-involvement",
   "metadata": {},
   "outputs": [],
   "source": [
    "# load NATMI\n",
    "natmi_out_path = rev_path + 'interim/tc2c_external_inputs/natmi/'\n",
    "natmi = OrderedDict()\n",
    "for sample in samples:\n",
    "    natmi[sample] = pd.read_csv(natmi_out_path + sample + '_communication_matrix.csv', index_col = 0)\n"
   ]
  },
  {
   "cell_type": "code",
   "execution_count": 120,
   "id": "sensitive-drink",
   "metadata": {},
   "outputs": [],
   "source": [
    "cellchat_tensor = matrix_to_interaction_tensor(scores = cellchat, cell_delim='-', lr_delim='&', \n",
    "                                              lr_how='outer', lr_fill=float('nan'), \n",
    "                                              cell_how='outer', cell_fill=0, \n",
    "                                              prioritize_lr_fill=False)\n",
    "\n",
    "natmi_tensor = matrix_to_interaction_tensor(scores = natmi, cell_delim='-', lr_delim='&', \n",
    "                                              lr_how='outer', lr_fill=float('nan'), \n",
    "                                              cell_how='outer', cell_fill=0, \n",
    "                                              prioritize_lr_fill=False)"
   ]
  },
  {
   "cell_type": "code",
   "execution_count": 14,
   "id": "functioning-harrison",
   "metadata": {},
   "outputs": [
    {
     "data": {
      "text/plain": [
       "(6, 6, 446, 12)"
      ]
     },
     "execution_count": 14,
     "metadata": {},
     "output_type": "execute_result"
    }
   ],
   "source": [
    "cellchat_tensor.tensor.shape"
   ]
  },
  {
   "cell_type": "code",
   "execution_count": 15,
   "id": "revised-brown",
   "metadata": {},
   "outputs": [
    {
     "data": {
      "text/plain": [
       "(6, 6, 446, 12)"
      ]
     },
     "execution_count": 15,
     "metadata": {},
     "output_type": "execute_result"
    }
   ],
   "source": [
    "natmi_tensor_inner.tensor.shape"
   ]
  },
  {
   "cell_type": "code",
   "execution_count": null,
   "id": "faced-maximum",
   "metadata": {},
   "outputs": [],
   "source": [
    "# make sure all tensors are same shape and in same order"
   ]
  },
  {
   "cell_type": "markdown",
   "id": "amazing-combination",
   "metadata": {},
   "source": [
    "Transform into 4D Interaction Tensor\n",
    "Make all communication matrices consistent -- contain all same LR and CC pairs in the same order"
   ]
  },
  {
   "cell_type": "code",
   "execution_count": 26,
   "id": "retained-struggle",
   "metadata": {},
   "outputs": [],
   "source": [
    "# # get all possible cell type pairs -- union of all LR pairs and CC pairs measured by all methods\n",
    "\n",
    "# # only necessary bc multiple pipelines, otherwise can feed directly into \"matrix_to_communication_tensor\" with how = 'outer'\n",
    "# score_methods = [cellchat, ]\n",
    "# method_names = ['cellchat', ]\n",
    "\n",
    "\n",
    "# cell_pairs = []\n",
    "# lr_pairs = []\n",
    "# for score_method in score_methods:\n",
    "#     cp = [df.columns.tolist() for df in score_method.values()]\n",
    "#     cp = [item for sublist in cp for item in sublist]\n",
    "#     cell_pairs += cp\n",
    "    \n",
    "#     lr = [df.index.tolist() for df in score_method.values()]\n",
    "#     lr = [item for sublist in lr for item in sublist]\n",
    "#     lr_pairs += lr"
   ]
  },
  {
   "cell_type": "code",
   "execution_count": 27,
   "id": "compatible-wound",
   "metadata": {},
   "outputs": [],
   "source": [
    "# cell_pairs = sorted(set(cell_pairs))\n",
    "# lr_pairs = sorted(set(lr_pairs))\n",
    "\n"
   ]
  },
  {
   "cell_type": "code",
   "execution_count": 32,
   "id": "taken-prime",
   "metadata": {},
   "outputs": [
    {
     "name": "stderr",
     "output_type": "stream",
     "text": [
      "\r",
      "  0%|          | 0/12 [00:00<?, ?it/s]"
     ]
    },
    {
     "name": "stdout",
     "output_type": "stream",
     "text": [
      "cellchat\n"
     ]
    },
    {
     "name": "stderr",
     "output_type": "stream",
     "text": [
      "100%|██████████| 12/12 [00:24<00:00,  2.05s/it]\n"
     ]
    }
   ],
   "source": [
    "# def create_nan_vals_all(df, lr_pairs, cell_pairs):\n",
    "#     \"\"\"Adds nan communication scores if pipeline did not include a certain sender-receiver cell pair\"\"\"\n",
    "#     df = pd.concat([df, pd.DataFrame(index = set(lr_pairs).difference(df.index),columns = df.columns)])\n",
    "#     for col in set(cell_pairs).difference(df.columns):\n",
    "#         df[col] = float('nan')\n",
    "    \n",
    "#     df = df.loc[lr_pairs, cell_pairs] # make the order the same\n",
    "#     return df\n",
    "\n",
    "# tensors = {}\n",
    "# for idx, score_method in enumerate(score_methods):\n",
    "#     print(method_names[idx])\n",
    "#     scores = OrderedDict({k: create_nan_vals_all(df=score_method[k], lr_pairs=lr_pairs, cell_pairs=cell_pairs) for k in samples})\n",
    "#     score_methods[idx] = scores\n",
    "#     tensors[method_names[idx]] = matrix_to_interaction_tensor(scores, how = 'outer', \n",
    "#                                                              cp_delim='-', lr_delim='&')"
   ]
  }
 ],
 "metadata": {
  "kernelspec": {
   "display_name": "Python [conda env:cci_dt] *",
   "language": "python",
   "name": "conda-env-cci_dt-py"
  },
  "language_info": {
   "codemirror_mode": {
    "name": "ipython",
    "version": 3
   },
   "file_extension": ".py",
   "mimetype": "text/x-python",
   "name": "python",
   "nbconvert_exporter": "python",
   "pygments_lexer": "ipython3",
   "version": "3.9.1"
  }
 },
 "nbformat": 4,
 "nbformat_minor": 5
}
