{
 "cells": [
  {
   "cell_type": "markdown",
   "id": "decimal-irish",
   "metadata": {},
   "source": [
    "Run tensor cell2cell on outputs of various communication scoring tools\n",
    "\n",
    "env name: cci_dt\n"
   ]
  },
  {
   "cell_type": "code",
   "execution_count": 9,
   "id": "wired-professor",
   "metadata": {},
   "outputs": [],
   "source": [
    "import os\n",
    "import warnings\n",
    "warnings.simplefilter('ignore')\n",
    "from collections import OrderedDict\n",
    "from tqdm import tqdm\n",
    "import itertools\n",
    "import numpy as np\n",
    "import pandas as pd\n",
    "\n",
    "import cell2cell as c2c\n",
    "\n",
    "seed = 888\n",
    "np.random.seed(seed)\n",
    "\n",
    "rev_path = '/data3/hratch/tc2c_analyses_1/natcomm_revisions/'\n",
    "scores_path = rev_path + 'interim/tc2c_external_inputs/liana/liana_outputs/'\n",
    "\n",
    "cp_delim = '-'\n",
    "lr_delim = '^'"
   ]
  },
  {
   "cell_type": "code",
   "execution_count": 10,
   "id": "greek-blink",
   "metadata": {},
   "outputs": [],
   "source": [
    "import sys\n",
    "sys.path.insert(1, '/home/hratch/Projects/CCC/tc2c_analyses_1/notebooks/natcomm_revisions/')\n",
    "from utility import edgelist_to_communication_matrix, matrix_to_interaction_tensor\n",
    "from subset import subset_tensor\n",
    "from corrindex import correlation_index"
   ]
  },
  {
   "cell_type": "code",
   "execution_count": 11,
   "id": "intelligent-document",
   "metadata": {},
   "outputs": [],
   "source": [
    "score_methods = {file_name.split('_')[-1].split('.csv')[0] for file_name in os.listdir(scores_path)}\n",
    "\n",
    "# score_methods = {'natmi', 'sca', 'cellchat'}\n",
    "\n",
    "\n",
    "samples = {file_name.split('_')[0] for file_name in os.listdir(scores_path)}"
   ]
  },
  {
   "cell_type": "markdown",
   "id": "static-slope",
   "metadata": {},
   "source": [
    "# Generate Tensor for Each Method"
   ]
  },
  {
   "cell_type": "code",
   "execution_count": 12,
   "id": "palestinian-julian",
   "metadata": {},
   "outputs": [],
   "source": [
    "# map the method-specific column names for the edge list\n",
    "score_labels = {'natmi': {'score': 'edge_specificity', \n",
    "                            'sender': 'source', 'receiver': 'target', \n",
    "                            'ligand': 'ligand.complex', 'receptor': 'receptor.complex'}, \n",
    "               'cellchat': {'score': 'prob', \n",
    "                            'sender': 'source', 'receiver': 'target', \n",
    "                            'ligand': 'ligand', 'receptor': 'receptor'}, \n",
    "               'cellphonedb': {'score': 'lr.mean', \n",
    "                            'sender': 'source', 'receiver': 'target', \n",
    "                            'ligand': 'ligand.complex', 'receptor': 'receptor.complex'}, \n",
    "               'sca': {'score': 'LRscore', \n",
    "                            'sender': 'source', 'receiver': 'target', \n",
    "                            'ligand': 'ligand.complex', 'receptor': 'receptor.complex'}\n",
    "               }\n",
    "#                'connectome': {'score': 'weight_sc', \n",
    "#                             'sender': 'source', 'receiver': 'target', \n",
    "#                             'ligand': 'ligand.complex', 'receptor': 'receptor.complex'}, \n",
    "#                'logfc': {'score': 'logfc_comb', \n",
    "#                             'sender': 'source', 'receiver': 'target', \n",
    "#                             'ligand': 'ligand.complex', 'receptor': 'receptor.complex'}}"
   ]
  },
  {
   "cell_type": "code",
   "execution_count": 13,
   "id": "superior-report",
   "metadata": {},
   "outputs": [],
   "source": [
    "def drop_redundant_complexes(edge_list, score_method):\n",
    "    \"\"\"some complexes generated redundant rows due to distinct ligands or receptors\n",
    "    double check that the communication score is the same b/w redundant complex rows\n",
    "    then drop those duplicated scores.\"\"\"\n",
    "    \n",
    "    dup_cols = list(score_labels[score_method].values())\n",
    "    dup_cols.remove(score_labels[score_method]['score'])\n",
    "    dup_idx = edge_list[edge_list[dup_cols].duplicated(subset = dup_cols)].index.tolist()\n",
    "\n",
    "    for i in dup_idx:\n",
    "        dup_val = edge_list.loc[i, dup_cols]\n",
    "        unique_scores = edge_list[(edge_list[dup_cols[0]] == dup_val.loc[dup_cols[0]]) & \n",
    "                 (edge_list[dup_cols[1]] == dup_val.loc[dup_cols[1]]) & \n",
    "                 (edge_list[dup_cols[2]] == dup_val.loc[dup_cols[2]]) & \n",
    "                 (edge_list[dup_cols[3]] == dup_val.loc[dup_cols[3]])][score_labels[score_method]['score']].unique()\n",
    "        if len(unique_scores) > 1:\n",
    "            raise ValueError('Unexpected inconsistency in communication scores b/w complexs')\n",
    "\n",
    "\n",
    "    el = edge_list.drop_duplicates(subset = dup_cols) \n",
    "    return el"
   ]
  },
  {
   "cell_type": "code",
   "execution_count": 21,
   "id": "compact-hebrew",
   "metadata": {},
   "outputs": [],
   "source": [
    "# convert LIANA edgelist to communication matrix format for all contexts/methods\n",
    "score_matrices = dict()\n",
    "\n",
    "for score_method in score_methods:\n",
    "    for sample in samples:\n",
    "        edge_list = pd.read_csv(scores_path + ''.join([sample, '_communication_scores_', score_method, '.csv']))\n",
    "        edge_list = drop_redundant_complexes(edge_list, score_method)\n",
    "\n",
    "\n",
    "        cm = edgelist_to_communication_matrix(edge_list, \n",
    "                                        score_col = score_labels[score_method]['score'], \n",
    "                                        sender_cell_col = score_labels[score_method]['sender'], \n",
    "                                        receiver_cell_col = score_labels[score_method]['receiver'], \n",
    "                                        ligand_col = score_labels[score_method]['ligand'], \n",
    "                                        receptor_col = score_labels[score_method]['receptor'], \n",
    "                                             fillna_val=0)\n",
    "        if score_method in score_matrices:\n",
    "            score_matrices[score_method][sample] = cm\n",
    "        else:\n",
    "            score_matrices[score_method] = {sample: cm}"
   ]
  },
  {
   "cell_type": "code",
   "execution_count": null,
   "id": "fifteen-portland",
   "metadata": {},
   "outputs": [],
   "source": [
    "# HERE: check on sparsity"
   ]
  },
  {
   "cell_type": "code",
   "execution_count": 22,
   "id": "proud-zoning",
   "metadata": {},
   "outputs": [
    {
     "name": "stderr",
     "output_type": "stream",
     "text": [
      "100%|██████████| 12/12 [00:15<00:00,  1.33s/it]\n",
      "/home/hratch/anaconda3/envs/cci_dt/lib/python3.9/site-packages/IPython/core/interactiveshell.py:3427: FutureWarning: arrays to stack must be passed as a \"sequence\" type such as list or tuple. Support for non-sequence iterables such as generators is deprecated as of NumPy 1.16 and will raise an error in the future.\n",
      "  exec(code_obj, self.user_global_ns, self.user_ns)\n",
      "100%|██████████| 12/12 [00:15<00:00,  1.32s/it]\n",
      "100%|██████████| 12/12 [00:13<00:00,  1.09s/it]\n"
     ]
    }
   ],
   "source": [
    "tensors = {}\n",
    "for method, scores in score_matrices.items():\n",
    "    tensors[method] = matrix_to_interaction_tensor(scores=scores, \n",
    "                             lr_how = 'inner', cell_how='inner')"
   ]
  },
  {
   "cell_type": "code",
   "execution_count": 23,
   "id": "popular-poland",
   "metadata": {},
   "outputs": [],
   "source": [
    "# take inner across all tensors to have consistent comparisons\n",
    "# and order the indeces\n",
    "context_order = ['C51', 'C52', 'C100', 'C141', 'C142', 'C144', 'C145', 'C143', 'C146', 'C148', 'C149', 'C152']\n",
    "\n",
    "# add the cell2cell tensors\n",
    "# match formatting of other tensors\n",
    "c2c_tensor = c2c.io.load_variable_with_pickle(rev_path + 'processed/Tensor-BALF.pkl')\n",
    "c2c_tensor.order_names[0] = context_order \n",
    "c2c_tensor.order_names[1] = ['_'.join(lr.split('&')) for lr in c2c_tensor.order_names[1]] # match liana formatting (complexes joing by _ rather than &)\n",
    "tensors['cell2cell'] = c2c_tensor\n",
    "\n",
    "inner_lr = set.intersection(*map(set,[tensor.order_names[1] for tensor in tensors.values()]))\n",
    "inner_cells = set.intersection(*map(set,[tensor.order_names[2] for tensor in tensors.values()]))\n",
    "\n",
    "for method, tensor in tensors.items():\n",
    "    tensors[method] = subset_tensor(interaction_tensor = tensor, \n",
    "                                     subset_dict = {0: context_order, \n",
    "                                                    1: sorted(inner_lr), \n",
    "                                                   2: sorted(inner_cells), \n",
    "                                                   3: sorted(inner_cells)}, \n",
    "                                   original_order=False)"
   ]
  },
  {
   "cell_type": "code",
   "execution_count": 24,
   "id": "female-munich",
   "metadata": {},
   "outputs": [
    {
     "data": {
      "text/plain": [
       "[(12, 172, 6, 6), (12, 172, 6, 6), (12, 172, 6, 6), (12, 172, 6, 6)]"
      ]
     },
     "execution_count": 24,
     "metadata": {},
     "output_type": "execute_result"
    }
   ],
   "source": [
    "[tensor.tensor.shape for tensor in tensors.values()]"
   ]
  },
  {
   "cell_type": "code",
   "execution_count": 25,
   "id": "superb-skill",
   "metadata": {},
   "outputs": [],
   "source": [
    "# HERE: double check here that c2c LR has good overlap with rest of  methods"
   ]
  },
  {
   "cell_type": "markdown",
   "id": "driving-singles",
   "metadata": {},
   "source": [
    "# Run decomposition"
   ]
  },
  {
   "cell_type": "code",
   "execution_count": 26,
   "id": "marine-pharmacology",
   "metadata": {},
   "outputs": [
    {
     "name": "stderr",
     "output_type": "stream",
     "text": [
      "100%|██████████| 4/4 [00:58<00:00, 14.68s/it]\n"
     ]
    }
   ],
   "source": [
    "rank = 10 # same tensor rank as in original BALF\n",
    "for method, tensor in tqdm(tensors.items()):\n",
    "    tensor.compute_tensor_factorization(rank=rank,\n",
    "                                        init='svd',\n",
    "                                        random_state=seed)"
   ]
  },
  {
   "cell_type": "markdown",
   "id": "coral-nothing",
   "metadata": {},
   "source": [
    "# Calculate CorrIndex\n",
    "assess consistency between decompositions"
   ]
  },
  {
   "cell_type": "code",
   "execution_count": 27,
   "id": "confidential-brass",
   "metadata": {},
   "outputs": [],
   "source": [
    "corrindex_df = pd.DataFrame(columns = tensors.keys(), index = tensors.keys()) # initialize"
   ]
  },
  {
   "cell_type": "code",
   "execution_count": 29,
   "id": "weighted-disney",
   "metadata": {},
   "outputs": [],
   "source": [
    "for method_1 in corrindex_df.index:\n",
    "    for method_2 in corrindex_df.columns:\n",
    "        corrindex_df.loc[method_1, method_2] = correlation_index(list(tensors[method_1].factors.values()), \n",
    "                                                        list(tensors[method_2].factors.values()), \n",
    "                                                                method = 'max_score')"
   ]
  },
  {
   "cell_type": "code",
   "execution_count": 30,
   "id": "funny-cooling",
   "metadata": {},
   "outputs": [
    {
     "data": {
      "text/html": [
       "<div>\n",
       "<style scoped>\n",
       "    .dataframe tbody tr th:only-of-type {\n",
       "        vertical-align: middle;\n",
       "    }\n",
       "\n",
       "    .dataframe tbody tr th {\n",
       "        vertical-align: top;\n",
       "    }\n",
       "\n",
       "    .dataframe thead th {\n",
       "        text-align: right;\n",
       "    }\n",
       "</style>\n",
       "<table border=\"1\" class=\"dataframe\">\n",
       "  <thead>\n",
       "    <tr style=\"text-align: right;\">\n",
       "      <th></th>\n",
       "      <th>sca</th>\n",
       "      <th>natmi</th>\n",
       "      <th>cellchat</th>\n",
       "      <th>cell2cell</th>\n",
       "    </tr>\n",
       "  </thead>\n",
       "  <tbody>\n",
       "    <tr>\n",
       "      <th>sca</th>\n",
       "      <td>0</td>\n",
       "      <td>0.328983</td>\n",
       "      <td>0.412228</td>\n",
       "      <td>0.203697</td>\n",
       "    </tr>\n",
       "    <tr>\n",
       "      <th>natmi</th>\n",
       "      <td>0.328983</td>\n",
       "      <td>0</td>\n",
       "      <td>0.615927</td>\n",
       "      <td>0.378826</td>\n",
       "    </tr>\n",
       "    <tr>\n",
       "      <th>cellchat</th>\n",
       "      <td>0.412228</td>\n",
       "      <td>0.615927</td>\n",
       "      <td>0</td>\n",
       "      <td>0.402552</td>\n",
       "    </tr>\n",
       "    <tr>\n",
       "      <th>cell2cell</th>\n",
       "      <td>0.203697</td>\n",
       "      <td>0.378826</td>\n",
       "      <td>0.402552</td>\n",
       "      <td>0</td>\n",
       "    </tr>\n",
       "  </tbody>\n",
       "</table>\n",
       "</div>"
      ],
      "text/plain": [
       "                sca     natmi  cellchat cell2cell\n",
       "sca               0  0.328983  0.412228  0.203697\n",
       "natmi      0.328983         0  0.615927  0.378826\n",
       "cellchat   0.412228  0.615927         0  0.402552\n",
       "cell2cell  0.203697  0.378826  0.402552         0"
      ]
     },
     "execution_count": 30,
     "metadata": {},
     "output_type": "execute_result"
    }
   ],
   "source": [
    "corrindex_df # worse with higher thresholding"
   ]
  },
  {
   "cell_type": "code",
   "execution_count": 24,
   "id": "inner-internet",
   "metadata": {},
   "outputs": [
    {
     "data": {
      "text/html": [
       "<div>\n",
       "<style scoped>\n",
       "    .dataframe tbody tr th:only-of-type {\n",
       "        vertical-align: middle;\n",
       "    }\n",
       "\n",
       "    .dataframe tbody tr th {\n",
       "        vertical-align: top;\n",
       "    }\n",
       "\n",
       "    .dataframe thead th {\n",
       "        text-align: right;\n",
       "    }\n",
       "</style>\n",
       "<table border=\"1\" class=\"dataframe\">\n",
       "  <thead>\n",
       "    <tr style=\"text-align: right;\">\n",
       "      <th></th>\n",
       "      <th>cellchat</th>\n",
       "      <th>natmi</th>\n",
       "      <th>sca</th>\n",
       "      <th>cellphonedb</th>\n",
       "      <th>cell2cell</th>\n",
       "    </tr>\n",
       "  </thead>\n",
       "  <tbody>\n",
       "    <tr>\n",
       "      <th>cellchat</th>\n",
       "      <td>0.0</td>\n",
       "      <td>0.248849</td>\n",
       "      <td>0.250414</td>\n",
       "      <td>0.223994</td>\n",
       "      <td>0.211958</td>\n",
       "    </tr>\n",
       "    <tr>\n",
       "      <th>natmi</th>\n",
       "      <td>0.248849</td>\n",
       "      <td>0.0</td>\n",
       "      <td>0.112135</td>\n",
       "      <td>0.11906</td>\n",
       "      <td>0.111536</td>\n",
       "    </tr>\n",
       "    <tr>\n",
       "      <th>sca</th>\n",
       "      <td>0.250414</td>\n",
       "      <td>0.112135</td>\n",
       "      <td>0.0</td>\n",
       "      <td>0.080795</td>\n",
       "      <td>0.109123</td>\n",
       "    </tr>\n",
       "    <tr>\n",
       "      <th>cellphonedb</th>\n",
       "      <td>0.223994</td>\n",
       "      <td>0.11906</td>\n",
       "      <td>0.080795</td>\n",
       "      <td>0.0</td>\n",
       "      <td>0.087406</td>\n",
       "    </tr>\n",
       "    <tr>\n",
       "      <th>cell2cell</th>\n",
       "      <td>0.211958</td>\n",
       "      <td>0.111536</td>\n",
       "      <td>0.109123</td>\n",
       "      <td>0.087406</td>\n",
       "      <td>0.0</td>\n",
       "    </tr>\n",
       "  </tbody>\n",
       "</table>\n",
       "</div>"
      ],
      "text/plain": [
       "             cellchat     natmi       sca cellphonedb cell2cell\n",
       "cellchat          0.0  0.248849  0.250414    0.223994  0.211958\n",
       "natmi        0.248849       0.0  0.112135     0.11906  0.111536\n",
       "sca          0.250414  0.112135       0.0    0.080795  0.109123\n",
       "cellphonedb  0.223994   0.11906  0.080795         0.0  0.087406\n",
       "cell2cell    0.211958  0.111536  0.109123    0.087406       0.0"
      ]
     },
     "execution_count": 24,
     "metadata": {},
     "output_type": "execute_result"
    }
   ],
   "source": [
    "# cellphonedb\n",
    "# visualization \n",
    "# send erick edge list to test on\n",
    "# cellchat clusterfuck figure"
   ]
  }
 ],
 "metadata": {
  "kernelspec": {
   "display_name": "Python [conda env:cci_dt] *",
   "language": "python",
   "name": "conda-env-cci_dt-py"
  },
  "language_info": {
   "codemirror_mode": {
    "name": "ipython",
    "version": 3
   },
   "file_extension": ".py",
   "mimetype": "text/x-python",
   "name": "python",
   "nbconvert_exporter": "python",
   "pygments_lexer": "ipython3",
   "version": "3.9.1"
  }
 },
 "nbformat": 4,
 "nbformat_minor": 5
}
