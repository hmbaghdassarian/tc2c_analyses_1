{
 "cells": [
  {
   "cell_type": "markdown",
   "id": "decimal-irish",
   "metadata": {},
   "source": [
    "Run tensor cell2cell on outputs of various communication scoring tools\n",
    "\n",
    "env name: cci_dt\n"
   ]
  },
  {
   "cell_type": "code",
   "execution_count": 1,
   "id": "wired-professor",
   "metadata": {},
   "outputs": [],
   "source": [
    "import os\n",
    "import warnings\n",
    "warnings.simplefilter('ignore')\n",
    "from collections import OrderedDict\n",
    "from tqdm import tqdm\n",
    "import itertools\n",
    "import numpy as np\n",
    "import pandas as pd\n",
    "\n",
    "import cell2cell as c2c\n",
    "\n",
    "seed = 888\n",
    "np.random.seed(seed)\n",
    "\n",
    "rev_path = '/data3/hratch/tc2c_analyses_1/natcomm_revisions/'\n",
    "scores_path = rev_path + 'interim/tc2c_external_inputs/liana/liana_outputs/'\n",
    "\n",
    "cp_delim = '-'\n",
    "lr_delim = '^'"
   ]
  },
  {
   "cell_type": "code",
   "execution_count": 2,
   "id": "absent-porcelain",
   "metadata": {},
   "outputs": [
    {
     "data": {
      "text/plain": [
       "'0.5.9'"
      ]
     },
     "execution_count": 2,
     "metadata": {},
     "output_type": "execute_result"
    }
   ],
   "source": [
    "c2c.__version__"
   ]
  },
  {
   "cell_type": "code",
   "execution_count": 3,
   "id": "greek-blink",
   "metadata": {},
   "outputs": [],
   "source": [
    "import sys\n",
    "sys.path.insert(1, '/home/hratch/Projects/CCC/tc2c_analyses_1/notebooks/natcomm_revisions/')\n",
    "from utility import edgelist_to_communication_matrix, matrix_to_interaction_tensor\n",
    "from corrindex import correlation_index"
   ]
  },
  {
   "cell_type": "code",
   "execution_count": 4,
   "id": "intelligent-document",
   "metadata": {},
   "outputs": [],
   "source": [
    "score_methods = {file_name.split('_')[-1].split('.csv')[0] for file_name in os.listdir(scores_path)}\n",
    "samples = {file_name.split('_')[0] for file_name in os.listdir(scores_path)}"
   ]
  },
  {
   "cell_type": "markdown",
   "id": "static-slope",
   "metadata": {},
   "source": [
    "# Generate Tensor for Each Method"
   ]
  },
  {
   "cell_type": "code",
   "execution_count": 5,
   "id": "palestinian-julian",
   "metadata": {},
   "outputs": [],
   "source": [
    "# map the method-specific column names for the edge list\n",
    "score_labels = {'natmi': {'score': 'edge_specificity', \n",
    "                            'sender': 'source', 'receiver': 'target', \n",
    "                            'ligand': 'ligand.complex', 'receptor': 'receptor.complex'}, \n",
    "               'cellchat': {'score': 'prob', \n",
    "                            'sender': 'source', 'receiver': 'target', \n",
    "                            'ligand': 'ligand', 'receptor': 'receptor'}, \n",
    "               'cellphonedb': {'score': 'lr.mean', \n",
    "                            'sender': 'source', 'receiver': 'target', \n",
    "                            'ligand': 'ligand.complex', 'receptor': 'receptor.complex'}, \n",
    "               'sca': {'score': 'LRscore', \n",
    "                            'sender': 'source', 'receiver': 'target', \n",
    "                            'ligand': 'ligand.complex', 'receptor': 'receptor.complex'}\n",
    "               }\n",
    "#                'connectome': {'score': 'weight_sc', \n",
    "#                             'sender': 'source', 'receiver': 'target', \n",
    "#                             'ligand': 'ligand.complex', 'receptor': 'receptor.complex'}, \n",
    "#                'logfc': {'score': 'logfc_comb', \n",
    "#                             'sender': 'source', 'receiver': 'target', \n",
    "#                             'ligand': 'ligand.complex', 'receptor': 'receptor.complex'}}"
   ]
  },
  {
   "cell_type": "code",
   "execution_count": 6,
   "id": "superior-report",
   "metadata": {},
   "outputs": [],
   "source": [
    "def drop_redundant_complexes(edge_list, score_method):\n",
    "    \"\"\"some complexes generated redundant rows due to distinct ligands or receptors\n",
    "    double check that the communication score is the same b/w redundant complex rows\n",
    "    then drop those duplicated scores.\"\"\"\n",
    "    \n",
    "    dup_cols = list(score_labels[score_method].values())\n",
    "    dup_cols.remove(score_labels[score_method]['score'])\n",
    "    dup_idx = edge_list[edge_list[dup_cols].duplicated(subset = dup_cols)].index.tolist()\n",
    "\n",
    "    for i in dup_idx:\n",
    "        dup_val = edge_list.loc[i, dup_cols]\n",
    "        unique_scores = edge_list[(edge_list[dup_cols[0]] == dup_val.loc[dup_cols[0]]) & \n",
    "                 (edge_list[dup_cols[1]] == dup_val.loc[dup_cols[1]]) & \n",
    "                 (edge_list[dup_cols[2]] == dup_val.loc[dup_cols[2]]) & \n",
    "                 (edge_list[dup_cols[3]] == dup_val.loc[dup_cols[3]])][score_labels[score_method]['score']].unique()\n",
    "        if len(unique_scores) > 1:\n",
    "            raise ValueError('Unexpected inconsistency in communication scores b/w complexs')\n",
    "\n",
    "\n",
    "    el = edge_list.drop_duplicates(subset = dup_cols) \n",
    "    return el"
   ]
  },
  {
   "cell_type": "code",
   "execution_count": 7,
   "id": "compact-hebrew",
   "metadata": {},
   "outputs": [],
   "source": [
    "# convert LIANA edgelist to communication matrix format for all contexts/methods\n",
    "score_matrices = dict()\n",
    "\n",
    "for score_method in score_methods:\n",
    "    for sample in samples:\n",
    "        edge_list = pd.read_csv(scores_path + ''.join([sample, '_communication_scores_', score_method, '.csv']))\n",
    "        edge_list = drop_redundant_complexes(edge_list, score_method)\n",
    "\n",
    "\n",
    "        cm = edgelist_to_communication_matrix(edge_list, \n",
    "                                        score_col = score_labels[score_method]['score'], \n",
    "                                        sender_cell_col = score_labels[score_method]['sender'], \n",
    "                                        receiver_cell_col = score_labels[score_method]['receiver'], \n",
    "                                        ligand_col = score_labels[score_method]['ligand'], \n",
    "                                        receptor_col = score_labels[score_method]['receptor'], \n",
    "                                             fillna_val=0) # fill missing values with 0\n",
    "        if score_method in score_matrices:\n",
    "            score_matrices[score_method][sample] = cm\n",
    "        else:\n",
    "            score_matrices[score_method] = {sample: cm}"
   ]
  },
  {
   "cell_type": "code",
   "execution_count": 8,
   "id": "proud-zoning",
   "metadata": {},
   "outputs": [
    {
     "name": "stderr",
     "output_type": "stream",
     "text": [
      "100%|██████████| 12/12 [00:15<00:00,  1.31s/it]\n",
      "100%|██████████| 12/12 [00:15<00:00,  1.30s/it]\n",
      "100%|██████████| 12/12 [00:12<00:00,  1.07s/it]\n",
      "100%|██████████| 12/12 [00:15<00:00,  1.32s/it]\n"
     ]
    }
   ],
   "source": [
    "tensors = {}\n",
    "for method, scores in score_matrices.items():\n",
    "    tensors[method] = matrix_to_interaction_tensor(scores=scores, \n",
    "                             lr_how = 'inner', cell_how='inner')"
   ]
  },
  {
   "cell_type": "code",
   "execution_count": 9,
   "id": "aware-rolling",
   "metadata": {},
   "outputs": [
    {
     "data": {
      "text/plain": [
       "dict_keys(['natmi', 'sca', 'cellchat', 'cellphonedb'])"
      ]
     },
     "execution_count": 9,
     "metadata": {},
     "output_type": "execute_result"
    }
   ],
   "source": [
    "tensors.keys()"
   ]
  },
  {
   "cell_type": "code",
   "execution_count": 10,
   "id": "figured-sierra",
   "metadata": {},
   "outputs": [
    {
     "data": {
      "text/plain": [
       "[(12, 272, 6, 6), (12, 272, 6, 6), (12, 226, 6, 6), (12, 272, 6, 6)]"
      ]
     },
     "execution_count": 10,
     "metadata": {},
     "output_type": "execute_result"
    }
   ],
   "source": [
    "[tensor.tensor.shape for tensor in tensors.values()] # context, LR, sender cell, receiver cell"
   ]
  },
  {
   "cell_type": "code",
   "execution_count": 11,
   "id": "popular-poland",
   "metadata": {},
   "outputs": [
    {
     "name": "stdout",
     "output_type": "stream",
     "text": [
      "The cell2cell tensor shape is: \n",
      "(12, 189, 6, 6)\n"
     ]
    }
   ],
   "source": [
    "# take inner across all tensors to have consistent comparisons\n",
    "# and order the indeces\n",
    "context_order = ['C51', 'C52', 'C100', 'C141', 'C142', 'C144', 'C145', 'C143', 'C146', 'C148', 'C149', 'C152']\n",
    "\n",
    "# add the cell2cell tensors\n",
    "# match formatting of other tensors\n",
    "c2c_tensor = c2c.io.load_variable_with_pickle(rev_path + 'processed/Tensor-BALF.pkl')\n",
    "c2c_tensor.order_names[0] = context_order \n",
    "c2c_tensor.order_names[1] = ['_'.join(lr.split('&')) for lr in c2c_tensor.order_names[1]] # match liana formatting (complexes joing by _ rather than &)\n",
    "order_labels = ['Samples/Contexts', 'Ligand-Receptor Pairs', 'Sender Cells', 'Receiver Cells']\n",
    "c2c_tensor.order_labels = order_labels\n",
    "\n",
    "print('The cell2cell tensor shape is: ')\n",
    "print(c2c_tensor.tensor.shape)\n",
    "tensors['cell2cell'] = c2c_tensor\n",
    "\n",
    "inner_lr = set.intersection(*map(set,[tensor.order_names[1] for tensor in tensors.values()]))\n",
    "inner_cells = set.intersection(*map(set,[tensor.order_names[2] for tensor in tensors.values()]))\n",
    "\n",
    "for method, tensor in tensors.items():\n",
    "    tensors[method] = c2c.tensor.subset_tensor(interaction_tensor = tensor, \n",
    "                                     subset_dict = {0: context_order, \n",
    "                                                    1: sorted(inner_lr), \n",
    "                                                   2: sorted(inner_cells), \n",
    "                                                   3: sorted(inner_cells)}, \n",
    "                                   original_order=False)"
   ]
  },
  {
   "cell_type": "code",
   "execution_count": 12,
   "id": "cardiac-confidentiality",
   "metadata": {},
   "outputs": [
    {
     "data": {
      "text/plain": [
       "dict_keys(['natmi', 'sca', 'cellchat', 'cellphonedb', 'cell2cell'])"
      ]
     },
     "execution_count": 12,
     "metadata": {},
     "output_type": "execute_result"
    }
   ],
   "source": [
    "tensors.keys()"
   ]
  },
  {
   "cell_type": "code",
   "execution_count": 13,
   "id": "female-munich",
   "metadata": {},
   "outputs": [
    {
     "name": "stdout",
     "output_type": "stream",
     "text": [
      "After taking the LR and cell types common across all tools: \n"
     ]
    },
    {
     "data": {
      "text/plain": [
       "[(12, 172, 6, 6),\n",
       " (12, 172, 6, 6),\n",
       " (12, 172, 6, 6),\n",
       " (12, 172, 6, 6),\n",
       " (12, 172, 6, 6)]"
      ]
     },
     "execution_count": 13,
     "metadata": {},
     "output_type": "execute_result"
    }
   ],
   "source": [
    "print('After taking the LR and cell types common across all tools: ')\n",
    "[tensor.tensor.shape for tensor in tensors.values()]"
   ]
  },
  {
   "cell_type": "markdown",
   "id": "driving-singles",
   "metadata": {},
   "source": [
    "# Run decomposition"
   ]
  },
  {
   "cell_type": "code",
   "execution_count": 14,
   "id": "marine-pharmacology",
   "metadata": {},
   "outputs": [
    {
     "name": "stderr",
     "output_type": "stream",
     "text": [
      "100%|██████████| 5/5 [01:14<00:00, 14.88s/it]\n"
     ]
    }
   ],
   "source": [
    "rank = 10 # same tensor rank as in original BALF\n",
    "for method, tensor in tqdm(tensors.items()):\n",
    "    tensor.compute_tensor_factorization(rank=rank,\n",
    "                                        init='svd',\n",
    "                                        var_ordered_factors = False,\n",
    "                                        random_state=seed)"
   ]
  },
  {
   "cell_type": "markdown",
   "id": "coral-nothing",
   "metadata": {},
   "source": [
    "# Calculate CorrIndex\n",
    "assess consistency between decompositions"
   ]
  },
  {
   "cell_type": "code",
   "execution_count": 15,
   "id": "confidential-brass",
   "metadata": {},
   "outputs": [
    {
     "data": {
      "text/html": [
       "<div>\n",
       "<style scoped>\n",
       "    .dataframe tbody tr th:only-of-type {\n",
       "        vertical-align: middle;\n",
       "    }\n",
       "\n",
       "    .dataframe tbody tr th {\n",
       "        vertical-align: top;\n",
       "    }\n",
       "\n",
       "    .dataframe thead th {\n",
       "        text-align: right;\n",
       "    }\n",
       "</style>\n",
       "<table border=\"1\" class=\"dataframe\">\n",
       "  <thead>\n",
       "    <tr style=\"text-align: right;\">\n",
       "      <th></th>\n",
       "      <th>natmi</th>\n",
       "      <th>sca</th>\n",
       "      <th>cellchat</th>\n",
       "      <th>cellphonedb</th>\n",
       "      <th>cell2cell</th>\n",
       "    </tr>\n",
       "  </thead>\n",
       "  <tbody>\n",
       "    <tr>\n",
       "      <th>natmi</th>\n",
       "      <td>0</td>\n",
       "      <td>0.328983</td>\n",
       "      <td>0.650029</td>\n",
       "      <td>0.378576</td>\n",
       "      <td>0.378826</td>\n",
       "    </tr>\n",
       "    <tr>\n",
       "      <th>sca</th>\n",
       "      <td>0.328983</td>\n",
       "      <td>0</td>\n",
       "      <td>0.446584</td>\n",
       "      <td>0.239939</td>\n",
       "      <td>0.203697</td>\n",
       "    </tr>\n",
       "    <tr>\n",
       "      <th>cellchat</th>\n",
       "      <td>0.650029</td>\n",
       "      <td>0.446584</td>\n",
       "      <td>0</td>\n",
       "      <td>0.423321</td>\n",
       "      <td>0.446137</td>\n",
       "    </tr>\n",
       "    <tr>\n",
       "      <th>cellphonedb</th>\n",
       "      <td>0.378576</td>\n",
       "      <td>0.239939</td>\n",
       "      <td>0.423321</td>\n",
       "      <td>0</td>\n",
       "      <td>0.072321</td>\n",
       "    </tr>\n",
       "    <tr>\n",
       "      <th>cell2cell</th>\n",
       "      <td>0.378826</td>\n",
       "      <td>0.203697</td>\n",
       "      <td>0.446137</td>\n",
       "      <td>0.072321</td>\n",
       "      <td>0</td>\n",
       "    </tr>\n",
       "  </tbody>\n",
       "</table>\n",
       "</div>"
      ],
      "text/plain": [
       "                natmi       sca  cellchat cellphonedb cell2cell\n",
       "natmi               0  0.328983  0.650029    0.378576  0.378826\n",
       "sca          0.328983         0  0.446584    0.239939  0.203697\n",
       "cellchat     0.650029  0.446584         0    0.423321  0.446137\n",
       "cellphonedb  0.378576  0.239939  0.423321           0  0.072321\n",
       "cell2cell    0.378826  0.203697  0.446137    0.072321         0"
      ]
     },
     "execution_count": 15,
     "metadata": {},
     "output_type": "execute_result"
    }
   ],
   "source": [
    "corrindex_df_stringent = pd.DataFrame(columns = tensors.keys(), index = tensors.keys()) # initialize\n",
    "for method_1 in corrindex_df_stringent.index:\n",
    "    for method_2 in corrindex_df_stringent.columns:\n",
    "        corrindex_df_stringent.loc[method_1, method_2] = c2c.tensor.correlation_index(tensors[method_1].factors, \n",
    "                                                                            tensors[method_2].factors, \n",
    "                                                                            method = 'max_score')\n",
    "corrindex_df_stringent"
   ]
  },
  {
   "cell_type": "code",
   "execution_count": 36,
   "id": "middle-cleaning",
   "metadata": {},
   "outputs": [
    {
     "data": {
      "text/html": [
       "<div>\n",
       "<style scoped>\n",
       "    .dataframe tbody tr th:only-of-type {\n",
       "        vertical-align: middle;\n",
       "    }\n",
       "\n",
       "    .dataframe tbody tr th {\n",
       "        vertical-align: top;\n",
       "    }\n",
       "\n",
       "    .dataframe thead th {\n",
       "        text-align: right;\n",
       "    }\n",
       "</style>\n",
       "<table border=\"1\" class=\"dataframe\">\n",
       "  <thead>\n",
       "    <tr style=\"text-align: right;\">\n",
       "      <th></th>\n",
       "      <th>natmi</th>\n",
       "      <th>sca</th>\n",
       "      <th>cellchat</th>\n",
       "      <th>cellphonedb</th>\n",
       "      <th>cell2cell</th>\n",
       "    </tr>\n",
       "  </thead>\n",
       "  <tbody>\n",
       "    <tr>\n",
       "      <th>natmi</th>\n",
       "      <td>1</td>\n",
       "      <td>0.671017</td>\n",
       "      <td>0.349971</td>\n",
       "      <td>0.621424</td>\n",
       "      <td>0.621174</td>\n",
       "    </tr>\n",
       "    <tr>\n",
       "      <th>sca</th>\n",
       "      <td>0.671017</td>\n",
       "      <td>1</td>\n",
       "      <td>0.553416</td>\n",
       "      <td>0.760061</td>\n",
       "      <td>0.796303</td>\n",
       "    </tr>\n",
       "    <tr>\n",
       "      <th>cellchat</th>\n",
       "      <td>0.349971</td>\n",
       "      <td>0.553416</td>\n",
       "      <td>1</td>\n",
       "      <td>0.576679</td>\n",
       "      <td>0.553863</td>\n",
       "    </tr>\n",
       "    <tr>\n",
       "      <th>cellphonedb</th>\n",
       "      <td>0.621424</td>\n",
       "      <td>0.760061</td>\n",
       "      <td>0.576679</td>\n",
       "      <td>1</td>\n",
       "      <td>0.927679</td>\n",
       "    </tr>\n",
       "    <tr>\n",
       "      <th>cell2cell</th>\n",
       "      <td>0.621174</td>\n",
       "      <td>0.796303</td>\n",
       "      <td>0.553863</td>\n",
       "      <td>0.927679</td>\n",
       "      <td>1</td>\n",
       "    </tr>\n",
       "  </tbody>\n",
       "</table>\n",
       "</div>"
      ],
      "text/plain": [
       "                natmi       sca  cellchat cellphonedb cell2cell\n",
       "natmi               1  0.671017  0.349971    0.621424  0.621174\n",
       "sca          0.671017         1  0.553416    0.760061  0.796303\n",
       "cellchat     0.349971  0.553416         1    0.576679  0.553863\n",
       "cellphonedb  0.621424  0.760061  0.576679           1  0.927679\n",
       "cell2cell    0.621174  0.796303  0.553863    0.927679         1"
      ]
     },
     "execution_count": 36,
     "metadata": {},
     "output_type": "execute_result"
    }
   ],
   "source": [
    "1-corrindex_df_stringent"
   ]
  },
  {
   "cell_type": "code",
   "execution_count": 16,
   "id": "laughing-bridges",
   "metadata": {},
   "outputs": [
    {
     "data": {
      "text/html": [
       "<div>\n",
       "<style scoped>\n",
       "    .dataframe tbody tr th:only-of-type {\n",
       "        vertical-align: middle;\n",
       "    }\n",
       "\n",
       "    .dataframe tbody tr th {\n",
       "        vertical-align: top;\n",
       "    }\n",
       "\n",
       "    .dataframe thead th {\n",
       "        text-align: right;\n",
       "    }\n",
       "</style>\n",
       "<table border=\"1\" class=\"dataframe\">\n",
       "  <thead>\n",
       "    <tr style=\"text-align: right;\">\n",
       "      <th></th>\n",
       "      <th>natmi</th>\n",
       "      <th>sca</th>\n",
       "      <th>cellchat</th>\n",
       "      <th>cellphonedb</th>\n",
       "      <th>cell2cell</th>\n",
       "    </tr>\n",
       "  </thead>\n",
       "  <tbody>\n",
       "    <tr>\n",
       "      <th>natmi</th>\n",
       "      <td>0</td>\n",
       "      <td>0.21637</td>\n",
       "      <td>0.320815</td>\n",
       "      <td>0.230649</td>\n",
       "      <td>0.247782</td>\n",
       "    </tr>\n",
       "    <tr>\n",
       "      <th>sca</th>\n",
       "      <td>0.21637</td>\n",
       "      <td>0</td>\n",
       "      <td>0.214246</td>\n",
       "      <td>0.118119</td>\n",
       "      <td>0.101416</td>\n",
       "    </tr>\n",
       "    <tr>\n",
       "      <th>cellchat</th>\n",
       "      <td>0.320815</td>\n",
       "      <td>0.214246</td>\n",
       "      <td>0</td>\n",
       "      <td>0.17128</td>\n",
       "      <td>0.190158</td>\n",
       "    </tr>\n",
       "    <tr>\n",
       "      <th>cellphonedb</th>\n",
       "      <td>0.230649</td>\n",
       "      <td>0.118119</td>\n",
       "      <td>0.17128</td>\n",
       "      <td>0</td>\n",
       "      <td>0.041851</td>\n",
       "    </tr>\n",
       "    <tr>\n",
       "      <th>cell2cell</th>\n",
       "      <td>0.247782</td>\n",
       "      <td>0.101416</td>\n",
       "      <td>0.190158</td>\n",
       "      <td>0.041851</td>\n",
       "      <td>0</td>\n",
       "    </tr>\n",
       "  </tbody>\n",
       "</table>\n",
       "</div>"
      ],
      "text/plain": [
       "                natmi       sca  cellchat cellphonedb cell2cell\n",
       "natmi               0   0.21637  0.320815    0.230649  0.247782\n",
       "sca           0.21637         0  0.214246    0.118119  0.101416\n",
       "cellchat     0.320815  0.214246         0     0.17128  0.190158\n",
       "cellphonedb  0.230649  0.118119   0.17128           0  0.041851\n",
       "cell2cell    0.247782  0.101416  0.190158    0.041851         0"
      ]
     },
     "execution_count": 16,
     "metadata": {},
     "output_type": "execute_result"
    }
   ],
   "source": [
    "corrindex_df_stacked = pd.DataFrame(columns = tensors.keys(), index = tensors.keys()) # initialize\n",
    "for method_1 in corrindex_df_stacked.index:\n",
    "    for method_2 in corrindex_df_stacked.columns:\n",
    "        corrindex_df_stacked.loc[method_1, method_2] = c2c.tensor.correlation_index(tensors[method_1].factors, \n",
    "                                                                            tensors[method_2].factors, \n",
    "                                                                            method = 'stacked')\n",
    "corrindex_df_stacked"
   ]
  },
  {
   "cell_type": "code",
   "execution_count": 19,
   "id": "alert-dance",
   "metadata": {},
   "outputs": [],
   "source": [
    "corr_idx_dim = {}\n",
    "for idx, ol in enumerate(order_labels):\n",
    "    corr_idx_dim_df = pd.DataFrame(columns = tensors.keys(), index = tensors.keys()) # initialize\n",
    "    for method_1 in corr_idx_dim_df.index:\n",
    "        for method_2 in corr_idx_dim_df.columns:\n",
    "            corr_idx_dim_df.loc[method_1, method_2] = c2c.tensor.correlation_index({ol: tensors[method_1].factors[ol]}, \n",
    "                                                                                        {ol: tensors[method_2].factors[ol]})\n",
    "\n",
    "    corr_idx_dim[ol] = corr_idx_dim_df"
   ]
  },
  {
   "cell_type": "code",
   "execution_count": 20,
   "id": "following-prototype",
   "metadata": {},
   "outputs": [
    {
     "data": {
      "text/plain": [
       "dict_keys(['Samples/Contexts', 'Ligand-Receptor Pairs', 'Sender Cells', 'Receiver Cells'])"
      ]
     },
     "execution_count": 20,
     "metadata": {},
     "output_type": "execute_result"
    }
   ],
   "source": [
    "corr_idx_dim.keys()"
   ]
  },
  {
   "cell_type": "code",
   "execution_count": 37,
   "id": "changing-gathering",
   "metadata": {},
   "outputs": [
    {
     "data": {
      "text/html": [
       "<div>\n",
       "<style scoped>\n",
       "    .dataframe tbody tr th:only-of-type {\n",
       "        vertical-align: middle;\n",
       "    }\n",
       "\n",
       "    .dataframe tbody tr th {\n",
       "        vertical-align: top;\n",
       "    }\n",
       "\n",
       "    .dataframe thead th {\n",
       "        text-align: right;\n",
       "    }\n",
       "</style>\n",
       "<table border=\"1\" class=\"dataframe\">\n",
       "  <thead>\n",
       "    <tr style=\"text-align: right;\">\n",
       "      <th></th>\n",
       "      <th>natmi</th>\n",
       "      <th>sca</th>\n",
       "      <th>cellchat</th>\n",
       "      <th>cellphonedb</th>\n",
       "      <th>cell2cell</th>\n",
       "    </tr>\n",
       "  </thead>\n",
       "  <tbody>\n",
       "    <tr>\n",
       "      <th>natmi</th>\n",
       "      <td>0</td>\n",
       "      <td>0.072347</td>\n",
       "      <td>0.134199</td>\n",
       "      <td>0.069589</td>\n",
       "      <td>0.076792</td>\n",
       "    </tr>\n",
       "    <tr>\n",
       "      <th>sca</th>\n",
       "      <td>0.072347</td>\n",
       "      <td>0</td>\n",
       "      <td>0.073417</td>\n",
       "      <td>0.028359</td>\n",
       "      <td>0.041558</td>\n",
       "    </tr>\n",
       "    <tr>\n",
       "      <th>cellchat</th>\n",
       "      <td>0.134199</td>\n",
       "      <td>0.073417</td>\n",
       "      <td>0</td>\n",
       "      <td>0.044572</td>\n",
       "      <td>0.064225</td>\n",
       "    </tr>\n",
       "    <tr>\n",
       "      <th>cellphonedb</th>\n",
       "      <td>0.069589</td>\n",
       "      <td>0.028359</td>\n",
       "      <td>0.044572</td>\n",
       "      <td>0</td>\n",
       "      <td>0.024885</td>\n",
       "    </tr>\n",
       "    <tr>\n",
       "      <th>cell2cell</th>\n",
       "      <td>0.076792</td>\n",
       "      <td>0.041558</td>\n",
       "      <td>0.064225</td>\n",
       "      <td>0.024885</td>\n",
       "      <td>0</td>\n",
       "    </tr>\n",
       "  </tbody>\n",
       "</table>\n",
       "</div>"
      ],
      "text/plain": [
       "                natmi       sca  cellchat cellphonedb cell2cell\n",
       "natmi               0  0.072347  0.134199    0.069589  0.076792\n",
       "sca          0.072347         0  0.073417    0.028359  0.041558\n",
       "cellchat     0.134199  0.073417         0    0.044572  0.064225\n",
       "cellphonedb  0.069589  0.028359  0.044572           0  0.024885\n",
       "cell2cell    0.076792  0.041558  0.064225    0.024885         0"
      ]
     },
     "execution_count": 37,
     "metadata": {},
     "output_type": "execute_result"
    }
   ],
   "source": [
    "corr_idx_dim['Samples/Contexts']"
   ]
  },
  {
   "cell_type": "code",
   "execution_count": 25,
   "id": "bigger-mirror",
   "metadata": {},
   "outputs": [
    {
     "data": {
      "text/plain": [
       "natmi          0.347283\n",
       "sca            0.243841\n",
       "cellchat       0.393214\n",
       "cellphonedb    0.222831\n",
       "cell2cell      0.220196\n",
       "dtype: float64"
      ]
     },
     "execution_count": 25,
     "metadata": {},
     "output_type": "execute_result"
    }
   ],
   "source": [
    "corr_idx_dim['Ligand-Receptor Pairs'].mean()"
   ]
  },
  {
   "cell_type": "code",
   "execution_count": 27,
   "id": "devoted-cigarette",
   "metadata": {},
   "outputs": [
    {
     "data": {
      "text/html": [
       "<div>\n",
       "<style scoped>\n",
       "    .dataframe tbody tr th:only-of-type {\n",
       "        vertical-align: middle;\n",
       "    }\n",
       "\n",
       "    .dataframe tbody tr th {\n",
       "        vertical-align: top;\n",
       "    }\n",
       "\n",
       "    .dataframe thead th {\n",
       "        text-align: right;\n",
       "    }\n",
       "</style>\n",
       "<table border=\"1\" class=\"dataframe\">\n",
       "  <thead>\n",
       "    <tr style=\"text-align: right;\">\n",
       "      <th></th>\n",
       "      <th>natmi</th>\n",
       "      <th>sca</th>\n",
       "      <th>cellchat</th>\n",
       "      <th>cellphonedb</th>\n",
       "      <th>cell2cell</th>\n",
       "    </tr>\n",
       "  </thead>\n",
       "  <tbody>\n",
       "    <tr>\n",
       "      <th>natmi</th>\n",
       "      <td>0</td>\n",
       "      <td>0.328983</td>\n",
       "      <td>0.650029</td>\n",
       "      <td>0.378576</td>\n",
       "      <td>0.378826</td>\n",
       "    </tr>\n",
       "    <tr>\n",
       "      <th>sca</th>\n",
       "      <td>0.328983</td>\n",
       "      <td>0</td>\n",
       "      <td>0.446584</td>\n",
       "      <td>0.239939</td>\n",
       "      <td>0.203697</td>\n",
       "    </tr>\n",
       "    <tr>\n",
       "      <th>cellchat</th>\n",
       "      <td>0.650029</td>\n",
       "      <td>0.446584</td>\n",
       "      <td>0</td>\n",
       "      <td>0.423321</td>\n",
       "      <td>0.446137</td>\n",
       "    </tr>\n",
       "    <tr>\n",
       "      <th>cellphonedb</th>\n",
       "      <td>0.378576</td>\n",
       "      <td>0.239939</td>\n",
       "      <td>0.423321</td>\n",
       "      <td>0</td>\n",
       "      <td>0.072321</td>\n",
       "    </tr>\n",
       "    <tr>\n",
       "      <th>cell2cell</th>\n",
       "      <td>0.378826</td>\n",
       "      <td>0.203697</td>\n",
       "      <td>0.446137</td>\n",
       "      <td>0.072321</td>\n",
       "      <td>0</td>\n",
       "    </tr>\n",
       "  </tbody>\n",
       "</table>\n",
       "</div>"
      ],
      "text/plain": [
       "                natmi       sca  cellchat cellphonedb cell2cell\n",
       "natmi               0  0.328983  0.650029    0.378576  0.378826\n",
       "sca          0.328983         0  0.446584    0.239939  0.203697\n",
       "cellchat     0.650029  0.446584         0    0.423321  0.446137\n",
       "cellphonedb  0.378576  0.239939  0.423321           0  0.072321\n",
       "cell2cell    0.378826  0.203697  0.446137    0.072321         0"
      ]
     },
     "execution_count": 27,
     "metadata": {},
     "output_type": "execute_result"
    }
   ],
   "source": [
    "corr_idx_dim['Ligand-Receptor Pairs']"
   ]
  },
  {
   "cell_type": "code",
   "execution_count": 29,
   "id": "grave-memory",
   "metadata": {},
   "outputs": [
    {
     "data": {
      "text/html": [
       "<div>\n",
       "<style scoped>\n",
       "    .dataframe tbody tr th:only-of-type {\n",
       "        vertical-align: middle;\n",
       "    }\n",
       "\n",
       "    .dataframe tbody tr th {\n",
       "        vertical-align: top;\n",
       "    }\n",
       "\n",
       "    .dataframe thead th {\n",
       "        text-align: right;\n",
       "    }\n",
       "</style>\n",
       "<table border=\"1\" class=\"dataframe\">\n",
       "  <thead>\n",
       "    <tr style=\"text-align: right;\">\n",
       "      <th></th>\n",
       "      <th>natmi</th>\n",
       "      <th>sca</th>\n",
       "      <th>cellchat</th>\n",
       "      <th>cellphonedb</th>\n",
       "      <th>cell2cell</th>\n",
       "    </tr>\n",
       "  </thead>\n",
       "  <tbody>\n",
       "    <tr>\n",
       "      <th>natmi</th>\n",
       "      <td>0</td>\n",
       "      <td>0.328983</td>\n",
       "      <td>0.650029</td>\n",
       "      <td>0.378576</td>\n",
       "      <td>0.378826</td>\n",
       "    </tr>\n",
       "    <tr>\n",
       "      <th>sca</th>\n",
       "      <td>0.328983</td>\n",
       "      <td>0</td>\n",
       "      <td>0.446584</td>\n",
       "      <td>0.239939</td>\n",
       "      <td>0.203697</td>\n",
       "    </tr>\n",
       "    <tr>\n",
       "      <th>cellchat</th>\n",
       "      <td>0.650029</td>\n",
       "      <td>0.446584</td>\n",
       "      <td>0</td>\n",
       "      <td>0.423321</td>\n",
       "      <td>0.446137</td>\n",
       "    </tr>\n",
       "    <tr>\n",
       "      <th>cellphonedb</th>\n",
       "      <td>0.378576</td>\n",
       "      <td>0.239939</td>\n",
       "      <td>0.423321</td>\n",
       "      <td>0</td>\n",
       "      <td>0.072321</td>\n",
       "    </tr>\n",
       "    <tr>\n",
       "      <th>cell2cell</th>\n",
       "      <td>0.378826</td>\n",
       "      <td>0.203697</td>\n",
       "      <td>0.446137</td>\n",
       "      <td>0.072321</td>\n",
       "      <td>0</td>\n",
       "    </tr>\n",
       "  </tbody>\n",
       "</table>\n",
       "</div>"
      ],
      "text/plain": [
       "                natmi       sca  cellchat cellphonedb cell2cell\n",
       "natmi               0  0.328983  0.650029    0.378576  0.378826\n",
       "sca          0.328983         0  0.446584    0.239939  0.203697\n",
       "cellchat     0.650029  0.446584         0    0.423321  0.446137\n",
       "cellphonedb  0.378576  0.239939  0.423321           0  0.072321\n",
       "cell2cell    0.378826  0.203697  0.446137    0.072321         0"
      ]
     },
     "execution_count": 29,
     "metadata": {},
     "output_type": "execute_result"
    }
   ],
   "source": [
    "corrindex_df_stringent"
   ]
  },
  {
   "cell_type": "code",
   "execution_count": 35,
   "id": "congressional-flash",
   "metadata": {},
   "outputs": [
    {
     "data": {
      "text/plain": [
       "natmi          0.094001\n",
       "sca            0.062391\n",
       "cellchat       0.054352\n",
       "cellphonedb    0.047985\n",
       "cell2cell      0.058154\n",
       "dtype: float64"
      ]
     },
     "execution_count": 35,
     "metadata": {},
     "output_type": "execute_result"
    }
   ],
   "source": [
    "corr_idx_dim['Sender Cells'].mean()"
   ]
  },
  {
   "cell_type": "code",
   "execution_count": 34,
   "id": "multiple-interface",
   "metadata": {},
   "outputs": [
    {
     "data": {
      "text/plain": [
       "natmi          0.086557\n",
       "sca            0.049732\n",
       "cellchat       0.058690\n",
       "cellphonedb    0.045153\n",
       "cell2cell      0.041600\n",
       "dtype: float64"
      ]
     },
     "execution_count": 34,
     "metadata": {},
     "output_type": "execute_result"
    }
   ],
   "source": [
    "corr_idx_dim['Receiver Cells'].mean()"
   ]
  },
  {
   "cell_type": "code",
   "execution_count": null,
   "id": "still-plane",
   "metadata": {},
   "outputs": [],
   "source": [
    "# output_dir = rev_path + 'figures/'\n",
    "# cm = c2c.plotting.clustermap_cci(corrindex_df,\n",
    "#                                  method='ward',\n",
    "#                                  optimal_leaf=True,\n",
    "#                                  metadata=None,\n",
    "#                                  title='',\n",
    "#                                  cbar_title='CorrIndex', \n",
    "#                                  cmap='Blues_r',\n",
    "#                                  vmax=1.,\n",
    "#                                  vmin=0.,\n",
    "#                                  annot=True)\n",
    "\n",
    "# font = matplotlib.font_manager.FontProperties(family='arial', weight='bold', size=14)\n",
    "# for ax in [cm.ax_heatmap, cm.ax_cbar]:\n",
    "#     for tick in ax.get_xticklabels():\n",
    "#         tick.set_fontproperties(font)\n",
    "#     for tick in ax.get_yticklabels():\n",
    "#         tick.set_fontproperties(font)\n",
    "\n",
    "#     text = ax.yaxis.label\n",
    "#     text.set_font_properties(font)\n",
    "    \n",
    "# plt.savefig(os.path.join(output_dir, 'CorrIndex_methods.png'),\n",
    "#             dpi=600, \n",
    "#             bbox_inches='tight',\n",
    "#             edgecolor='none')"
   ]
  },
  {
   "cell_type": "markdown",
   "id": "crucial-stand",
   "metadata": {},
   "source": [
    "# Visualize each decomposition"
   ]
  },
  {
   "cell_type": "code",
   "execution_count": 49,
   "id": "connected-mississippi",
   "metadata": {},
   "outputs": [
    {
     "name": "stdout",
     "output_type": "stream",
     "text": [
      "Removing bidirectionality of PPI network\n"
     ]
    }
   ],
   "source": [
    "# generate metadata\n",
    "lr_pairs = pd.read_csv('https://raw.githubusercontent.com/LewisLabUCSD/Ligand-Receptor-Pairs/master/Human/Human-2020-Jin-LR-pairs.csv')\n",
    "lr_pairs['ligand2'] = lr_pairs.interaction_name_2.apply(lambda x: x.split(' - ')[0].upper())\n",
    "lr_pairs['receptor2'] = lr_pairs.interaction_name_2.apply(lambda x: x.split(' - ')[1].upper() \\\n",
    "                                                       .replace('(', '').replace(')', '').replace('+', '&'))\n",
    "lr_pairs['c2c_interaction'] = lr_pairs.apply(lambda row: row['ligand2'] + '^' + row['receptor2'], axis=1)\n",
    "int_cols = ('ligand2', 'receptor2')\n",
    "lr_pairs = c2c.preprocessing.ppi.remove_ppi_bidirectionality(ppi_data=lr_pairs, \n",
    "                                                             interaction_columns=int_cols\n",
    "                                                            )\n",
    "\n",
    "ppi_functions = dict()\n",
    "for idx, row in lr_pairs.iterrows():\n",
    "    ligand = row[int_cols[0]]\n",
    "    receptor = row[int_cols[1]]\n",
    "    ppi_label = ligand.replace('&', '_') + '^' + receptor.replace('&', '_')\n",
    "    ppi_functions[ppi_label] = row['annotation']\n",
    "    \n",
    "sample_disease = dict(zip(context_order, \n",
    "                         ['Control']*3 + ['Moderate COVID-19']*3 + ['Severe COVID-19']*6))"
   ]
  },
  {
   "cell_type": "code",
   "execution_count": 50,
   "id": "packed-shore",
   "metadata": {},
   "outputs": [],
   "source": [
    "meta_tfs = {method: c2c.tensor.generate_tensor_metadata(interaction_tensor=tensor,\n",
    "                                              metadata_dicts=[sample_disease, ppi_functions, None, None],\n",
    "                                              fill_with_order_elements=True\n",
    "                                             ) for method,tensor in tensors.items()}"
   ]
  },
  {
   "cell_type": "code",
   "execution_count": 51,
   "id": "adopted-insured",
   "metadata": {},
   "outputs": [],
   "source": [
    "cmaps = ['plasma', 'Dark2_r', 'tab20', 'tab20']"
   ]
  },
  {
   "cell_type": "code",
   "execution_count": 56,
   "id": "judicial-sitting",
   "metadata": {},
   "outputs": [],
   "source": [
    "output_folder = rev_path + 'figures/'\n",
    "for method, tensor in tqdm(tensors.items()):\n",
    "    print(method)\n",
    "    fig, axes = c2c.plotting.tensor_factors_plot(interaction_tensor=tensors[method],\n",
    "                                                 order_labels=['Samples', 'Ligand-Receptor Pairs', 'Sender Cells', 'Receiver Cells'],\n",
    "                                                 metadata = meta_tfs[method],\n",
    "                                                 sample_col='Element',\n",
    "                                                 group_col='Category',\n",
    "                                                 meta_cmaps=cmaps,\n",
    "                                                 fontsize=14,\n",
    "                                                 filename=output_folder + '/' + method + '_factorization.png'\n",
    "                                                )"
   ]
  }
 ],
 "metadata": {
  "kernelspec": {
   "display_name": "Python [conda env:cci_dt] *",
   "language": "python",
   "name": "conda-env-cci_dt-py"
  },
  "language_info": {
   "codemirror_mode": {
    "name": "ipython",
    "version": 3
   },
   "file_extension": ".py",
   "mimetype": "text/x-python",
   "name": "python",
   "nbconvert_exporter": "python",
   "pygments_lexer": "ipython3",
   "version": "3.9.1"
  }
 },
 "nbformat": 4,
 "nbformat_minor": 5
}
