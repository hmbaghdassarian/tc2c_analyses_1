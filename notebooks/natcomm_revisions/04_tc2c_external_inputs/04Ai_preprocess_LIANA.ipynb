{
 "cells": [
  {
   "cell_type": "markdown",
   "id": "compliant-inspection",
   "metadata": {},
   "source": [
    "Format the expression matrices from the BALF COVID dataset \n",
    "\n",
    "Erick sent the log(1+CPM) as an aggregated h5ad file, we will separate into expression matrices for each sample. "
   ]
  },
  {
   "cell_type": "code",
   "execution_count": 1,
   "id": "magnetic-arrival",
   "metadata": {},
   "outputs": [],
   "source": [
    "import os\n",
    "from tqdm import tqdm\n",
    "\n",
    "import pandas as pd\n",
    "import numpy as np\n",
    "import scanpy as sc\n",
    "\n",
    "\n",
    "expr_files = '/data2/eric/Tensor-Revisions/COVID-19-BALF-log1p.h5ad' # the log(1+CPM) files from Erick\n",
    "rev_path = '/data3/hratch/tc2c_analyses_1/natcomm_revisions/'"
   ]
  },
  {
   "cell_type": "code",
   "execution_count": 2,
   "id": "catholic-punch",
   "metadata": {},
   "outputs": [],
   "source": [
    "def format_for_liana(adata_sample):\n",
    "    \"\"\"Format adata of a sample for input to LIANA\"\"\"\n",
    "    expr = pd.DataFrame(adata_sample.X.toarray()).T # liana takes log(1+CPM)\n",
    "    expr.index = adata_sample.var.index.tolist()\n",
    "    expr.columns = adata_sample.obs.index.tolist()\n",
    "\n",
    "    # get the cell type annotation\n",
    "    md = pd.DataFrame(adata_sample.obs['celltype'])\n",
    "    md.reset_index(inplace = True)\n",
    "    md.rename(columns = {'index': 'Cell', 'celltype': 'Annotation'}, inplace = True)\n",
    "    \n",
    "    return expr, md"
   ]
  },
  {
   "cell_type": "code",
   "execution_count": null,
   "id": "chubby-trailer",
   "metadata": {},
   "outputs": [
    {
     "name": "stderr",
     "output_type": "stream",
     "text": [
      "\r",
      "  0%|          | 0/12 [00:00<?, ?it/s]"
     ]
    }
   ],
   "source": [
    "adata = sc.read_h5ad(expr_files) # log(1+CPM) BALF from Erick\n",
    "samples = adata.obs['sample'].unique()\n",
    "\n",
    "for sample in tqdm(samples):\n",
    "    fp = rev_path + 'interim/tc2c_external_inputs/liana/liana_inputs2/' + sample \n",
    "\n",
    "    adata_sample = adata[adata.obs['sample'] == sample] # subset to sample of interest\n",
    "    expr,md = format_for_liana(adata_sample) # format for input to NATMI\n",
    "\n",
    "    # files must be written because NATMI is command-line only\n",
    "    expr.to_csv(fp + '_CPM_expr.csv', index=True, header=True)\n",
    "    md.to_csv(fp + '_metadata.csv', index=False, header=True)"
   ]
  }
 ],
 "metadata": {
  "kernelspec": {
   "display_name": "Python [conda env:cci_dt] *",
   "language": "python",
   "name": "conda-env-cci_dt-py"
  },
  "language_info": {
   "codemirror_mode": {
    "name": "ipython",
    "version": 3
   },
   "file_extension": ".py",
   "mimetype": "text/x-python",
   "name": "python",
   "nbconvert_exporter": "python",
   "pygments_lexer": "ipython3",
   "version": "3.9.1"
  }
 },
 "nbformat": 4,
 "nbformat_minor": 5
}
