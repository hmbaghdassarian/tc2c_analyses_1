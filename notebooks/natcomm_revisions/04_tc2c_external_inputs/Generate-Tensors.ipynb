{
 "cells": [
  {
   "cell_type": "code",
   "execution_count": 1,
   "id": "634fcfd0",
   "metadata": {},
   "outputs": [
    {
     "name": "stderr",
     "output_type": "stream",
     "text": [
      "Global seed set to 0\n"
     ]
    }
   ],
   "source": [
    "import cell2cell as c2c\n",
    "import scanpy as sc\n",
    "import scanorama as sm\n",
    "import scvi\n",
    "\n",
    "import numpy as np\n",
    "import pandas as pd\n",
    "\n",
    "from tqdm.auto import tqdm\n",
    "\n",
    "import os"
   ]
  },
  {
   "cell_type": "markdown",
   "id": "ec1060fa",
   "metadata": {},
   "source": [
    "# Load Data"
   ]
  },
  {
   "cell_type": "code",
   "execution_count": 2,
   "id": "3c7fc85b",
   "metadata": {},
   "outputs": [],
   "source": [
    "data_folder = '../data/'"
   ]
  },
  {
   "cell_type": "code",
   "execution_count": 3,
   "id": "67978d8d",
   "metadata": {},
   "outputs": [],
   "source": [
    "output_folder = './outputs/'\n",
    "if not os.path.isdir(output_folder):\n",
    "        os.mkdir(output_folder)"
   ]
  },
  {
   "cell_type": "markdown",
   "id": "858b51bb",
   "metadata": {},
   "source": [
    "**scRNA-seq**"
   ]
  },
  {
   "cell_type": "code",
   "execution_count": 4,
   "id": "b86f10dc",
   "metadata": {},
   "outputs": [],
   "source": [
    "rna_folder = data_folder + 'COVID-19/'\n",
    "rna_directory = os.fsencode(rna_folder)"
   ]
  },
  {
   "cell_type": "code",
   "execution_count": 5,
   "id": "634b7817",
   "metadata": {
    "scrolled": true
   },
   "outputs": [
    {
     "name": "stdout",
     "output_type": "stream",
     "text": [
      "GSM4475051_C148_filtered_feature_bc_matrix.h5\n"
     ]
    },
    {
     "name": "stderr",
     "output_type": "stream",
     "text": [
      "Variable names are not unique. To make them unique, call `.var_names_make_unique`.\n",
      "Variable names are not unique. To make them unique, call `.var_names_make_unique`.\n"
     ]
    },
    {
     "name": "stdout",
     "output_type": "stream",
     "text": [
      "GSM4475050_C100_filtered_feature_bc_matrix.h5\n"
     ]
    },
    {
     "name": "stderr",
     "output_type": "stream",
     "text": [
      "Variable names are not unique. To make them unique, call `.var_names_make_unique`.\n",
      "Variable names are not unique. To make them unique, call `.var_names_make_unique`.\n"
     ]
    },
    {
     "name": "stdout",
     "output_type": "stream",
     "text": [
      "GSM4339770_C142_filtered_feature_bc_matrix.h5\n"
     ]
    },
    {
     "name": "stderr",
     "output_type": "stream",
     "text": [
      "Variable names are not unique. To make them unique, call `.var_names_make_unique`.\n",
      "Variable names are not unique. To make them unique, call `.var_names_make_unique`.\n"
     ]
    },
    {
     "name": "stdout",
     "output_type": "stream",
     "text": [
      "GSM4475048_C51_filtered_feature_bc_matrix.h5\n"
     ]
    },
    {
     "name": "stderr",
     "output_type": "stream",
     "text": [
      "Variable names are not unique. To make them unique, call `.var_names_make_unique`.\n",
      "Variable names are not unique. To make them unique, call `.var_names_make_unique`.\n"
     ]
    },
    {
     "name": "stdout",
     "output_type": "stream",
     "text": [
      "GSM4339774_C146_filtered_feature_bc_matrix.h5\n"
     ]
    },
    {
     "name": "stderr",
     "output_type": "stream",
     "text": [
      "Variable names are not unique. To make them unique, call `.var_names_make_unique`.\n",
      "Variable names are not unique. To make them unique, call `.var_names_make_unique`.\n"
     ]
    },
    {
     "name": "stdout",
     "output_type": "stream",
     "text": [
      "GSM4475049_C52_filtered_feature_bc_matrix.h5\n"
     ]
    },
    {
     "name": "stderr",
     "output_type": "stream",
     "text": [
      "Variable names are not unique. To make them unique, call `.var_names_make_unique`.\n",
      "Variable names are not unique. To make them unique, call `.var_names_make_unique`.\n"
     ]
    },
    {
     "name": "stdout",
     "output_type": "stream",
     "text": [
      "GSM4475052_C149_filtered_feature_bc_matrix.h5\n"
     ]
    },
    {
     "name": "stderr",
     "output_type": "stream",
     "text": [
      "Variable names are not unique. To make them unique, call `.var_names_make_unique`.\n",
      "Variable names are not unique. To make them unique, call `.var_names_make_unique`.\n"
     ]
    },
    {
     "name": "stdout",
     "output_type": "stream",
     "text": [
      "GSM4339771_C143_filtered_feature_bc_matrix.h5\n"
     ]
    },
    {
     "name": "stderr",
     "output_type": "stream",
     "text": [
      "Variable names are not unique. To make them unique, call `.var_names_make_unique`.\n",
      "Variable names are not unique. To make them unique, call `.var_names_make_unique`.\n"
     ]
    },
    {
     "name": "stdout",
     "output_type": "stream",
     "text": [
      "GSM4475053_C152_filtered_feature_bc_matrix.h5\n"
     ]
    },
    {
     "name": "stderr",
     "output_type": "stream",
     "text": [
      "Variable names are not unique. To make them unique, call `.var_names_make_unique`.\n",
      "Variable names are not unique. To make them unique, call `.var_names_make_unique`.\n"
     ]
    },
    {
     "name": "stdout",
     "output_type": "stream",
     "text": [
      "GSM4339773_C145_filtered_feature_bc_matrix.h5\n"
     ]
    },
    {
     "name": "stderr",
     "output_type": "stream",
     "text": [
      "Variable names are not unique. To make them unique, call `.var_names_make_unique`.\n",
      "Variable names are not unique. To make them unique, call `.var_names_make_unique`.\n",
      "Variable names are not unique. To make them unique, call `.var_names_make_unique`.\n",
      "Variable names are not unique. To make them unique, call `.var_names_make_unique`.\n"
     ]
    },
    {
     "name": "stdout",
     "output_type": "stream",
     "text": [
      "GSM4339772_C144_filtered_feature_bc_matrix.h5\n",
      "GSM4339769_C141_filtered_feature_bc_matrix.h5\n"
     ]
    },
    {
     "name": "stderr",
     "output_type": "stream",
     "text": [
      "Variable names are not unique. To make them unique, call `.var_names_make_unique`.\n",
      "Variable names are not unique. To make them unique, call `.var_names_make_unique`.\n"
     ]
    }
   ],
   "source": [
    "data = dict()\n",
    "for file in os.listdir(rna_directory):\n",
    "    filename = os.fsdecode(file)\n",
    "    if filename.endswith(\".h5\"): \n",
    "        print(filename)\n",
    "        basename = os.path.basename(filename)\n",
    "        sample = basename.split('_')[1]\n",
    "        data[sample] = sc.read_10x_h5(rna_folder + filename)\n",
    "    else:\n",
    "        continue"
   ]
  },
  {
   "cell_type": "code",
   "execution_count": 6,
   "id": "baba8da8",
   "metadata": {},
   "outputs": [],
   "source": [
    "meta = pd.read_csv(rna_folder + '/metadata.txt', sep='\\t')"
   ]
  },
  {
   "cell_type": "code",
   "execution_count": 7,
   "id": "fe739525",
   "metadata": {},
   "outputs": [],
   "source": [
    "meta = meta.sort_values(['sample_new', 'sample'])"
   ]
  },
  {
   "cell_type": "code",
   "execution_count": 8,
   "id": "94d0e71f",
   "metadata": {},
   "outputs": [
    {
     "data": {
      "text/html": [
       "<div>\n",
       "<style scoped>\n",
       "    .dataframe tbody tr th:only-of-type {\n",
       "        vertical-align: middle;\n",
       "    }\n",
       "\n",
       "    .dataframe tbody tr th {\n",
       "        vertical-align: top;\n",
       "    }\n",
       "\n",
       "    .dataframe thead th {\n",
       "        text-align: right;\n",
       "    }\n",
       "</style>\n",
       "<table border=\"1\" class=\"dataframe\">\n",
       "  <thead>\n",
       "    <tr style=\"text-align: right;\">\n",
       "      <th></th>\n",
       "      <th>ID</th>\n",
       "      <th>sample</th>\n",
       "      <th>sample_new</th>\n",
       "      <th>group</th>\n",
       "      <th>disease</th>\n",
       "      <th>hasnCoV</th>\n",
       "      <th>cluster</th>\n",
       "      <th>celltype</th>\n",
       "    </tr>\n",
       "  </thead>\n",
       "  <tbody>\n",
       "    <tr>\n",
       "      <th>0</th>\n",
       "      <td>AAACCTGAGACACTAA_1</td>\n",
       "      <td>C51</td>\n",
       "      <td>HC1</td>\n",
       "      <td>HC</td>\n",
       "      <td>N</td>\n",
       "      <td>N</td>\n",
       "      <td>3</td>\n",
       "      <td>Macrophages</td>\n",
       "    </tr>\n",
       "    <tr>\n",
       "      <th>1</th>\n",
       "      <td>AAACCTGAGGAGTACC_1</td>\n",
       "      <td>C51</td>\n",
       "      <td>HC1</td>\n",
       "      <td>HC</td>\n",
       "      <td>N</td>\n",
       "      <td>N</td>\n",
       "      <td>3</td>\n",
       "      <td>Macrophages</td>\n",
       "    </tr>\n",
       "    <tr>\n",
       "      <th>2</th>\n",
       "      <td>AAACCTGAGGATATAC_1</td>\n",
       "      <td>C51</td>\n",
       "      <td>HC1</td>\n",
       "      <td>HC</td>\n",
       "      <td>N</td>\n",
       "      <td>N</td>\n",
       "      <td>3</td>\n",
       "      <td>Macrophages</td>\n",
       "    </tr>\n",
       "    <tr>\n",
       "      <th>3</th>\n",
       "      <td>AAACCTGAGGTCATCT_1</td>\n",
       "      <td>C51</td>\n",
       "      <td>HC1</td>\n",
       "      <td>HC</td>\n",
       "      <td>N</td>\n",
       "      <td>N</td>\n",
       "      <td>3</td>\n",
       "      <td>Macrophages</td>\n",
       "    </tr>\n",
       "    <tr>\n",
       "      <th>4</th>\n",
       "      <td>AAACCTGCACGGATAG_1</td>\n",
       "      <td>C51</td>\n",
       "      <td>HC1</td>\n",
       "      <td>HC</td>\n",
       "      <td>N</td>\n",
       "      <td>N</td>\n",
       "      <td>5</td>\n",
       "      <td>Macrophages</td>\n",
       "    </tr>\n",
       "  </tbody>\n",
       "</table>\n",
       "</div>"
      ],
      "text/plain": [
       "                   ID sample sample_new group disease hasnCoV  cluster  \\\n",
       "0  AAACCTGAGACACTAA_1    C51        HC1    HC       N       N        3   \n",
       "1  AAACCTGAGGAGTACC_1    C51        HC1    HC       N       N        3   \n",
       "2  AAACCTGAGGATATAC_1    C51        HC1    HC       N       N        3   \n",
       "3  AAACCTGAGGTCATCT_1    C51        HC1    HC       N       N        3   \n",
       "4  AAACCTGCACGGATAG_1    C51        HC1    HC       N       N        5   \n",
       "\n",
       "      celltype  \n",
       "0  Macrophages  \n",
       "1  Macrophages  \n",
       "2  Macrophages  \n",
       "3  Macrophages  \n",
       "4  Macrophages  "
      ]
     },
     "execution_count": 8,
     "metadata": {},
     "output_type": "execute_result"
    }
   ],
   "source": [
    "meta.head()"
   ]
  },
  {
   "cell_type": "markdown",
   "id": "4a680e67",
   "metadata": {},
   "source": [
    "**LR pairs**"
   ]
  },
  {
   "cell_type": "code",
   "execution_count": 9,
   "id": "e2cc8720",
   "metadata": {},
   "outputs": [],
   "source": [
    "lr_pairs = pd.read_csv(data_folder + '/LR-pairs/Human-2020-Jin-LR-pairs.csv')"
   ]
  },
  {
   "cell_type": "code",
   "execution_count": 10,
   "id": "f1445ca6",
   "metadata": {},
   "outputs": [
    {
     "data": {
      "text/html": [
       "<div>\n",
       "<style scoped>\n",
       "    .dataframe tbody tr th:only-of-type {\n",
       "        vertical-align: middle;\n",
       "    }\n",
       "\n",
       "    .dataframe tbody tr th {\n",
       "        vertical-align: top;\n",
       "    }\n",
       "\n",
       "    .dataframe thead th {\n",
       "        text-align: right;\n",
       "    }\n",
       "</style>\n",
       "<table border=\"1\" class=\"dataframe\">\n",
       "  <thead>\n",
       "    <tr style=\"text-align: right;\">\n",
       "      <th></th>\n",
       "      <th>interaction_name</th>\n",
       "      <th>pathway_name</th>\n",
       "      <th>ligand</th>\n",
       "      <th>receptor</th>\n",
       "      <th>agonist</th>\n",
       "      <th>antagonist</th>\n",
       "      <th>co_A_receptor</th>\n",
       "      <th>co_I_receptor</th>\n",
       "      <th>evidence</th>\n",
       "      <th>annotation</th>\n",
       "      <th>interaction_name_2</th>\n",
       "    </tr>\n",
       "  </thead>\n",
       "  <tbody>\n",
       "    <tr>\n",
       "      <th>0</th>\n",
       "      <td>TGFB1_TGFBR1_TGFBR2</td>\n",
       "      <td>TGFb</td>\n",
       "      <td>TGFB1</td>\n",
       "      <td>TGFbR1_R2</td>\n",
       "      <td>TGFb agonist</td>\n",
       "      <td>TGFb antagonist</td>\n",
       "      <td>NaN</td>\n",
       "      <td>TGFb inhibition receptor</td>\n",
       "      <td>KEGG: hsa04350</td>\n",
       "      <td>Secreted Signaling</td>\n",
       "      <td>TGFB1 - (TGFBR1+TGFBR2)</td>\n",
       "    </tr>\n",
       "    <tr>\n",
       "      <th>1</th>\n",
       "      <td>TGFB2_TGFBR1_TGFBR2</td>\n",
       "      <td>TGFb</td>\n",
       "      <td>TGFB2</td>\n",
       "      <td>TGFbR1_R2</td>\n",
       "      <td>TGFb agonist</td>\n",
       "      <td>TGFb antagonist</td>\n",
       "      <td>NaN</td>\n",
       "      <td>TGFb inhibition receptor</td>\n",
       "      <td>KEGG: hsa04350</td>\n",
       "      <td>Secreted Signaling</td>\n",
       "      <td>TGFB2 - (TGFBR1+TGFBR2)</td>\n",
       "    </tr>\n",
       "  </tbody>\n",
       "</table>\n",
       "</div>"
      ],
      "text/plain": [
       "      interaction_name pathway_name ligand   receptor       agonist  \\\n",
       "0  TGFB1_TGFBR1_TGFBR2         TGFb  TGFB1  TGFbR1_R2  TGFb agonist   \n",
       "1  TGFB2_TGFBR1_TGFBR2         TGFb  TGFB2  TGFbR1_R2  TGFb agonist   \n",
       "\n",
       "        antagonist co_A_receptor             co_I_receptor        evidence  \\\n",
       "0  TGFb antagonist           NaN  TGFb inhibition receptor  KEGG: hsa04350   \n",
       "1  TGFb antagonist           NaN  TGFb inhibition receptor  KEGG: hsa04350   \n",
       "\n",
       "           annotation       interaction_name_2  \n",
       "0  Secreted Signaling  TGFB1 - (TGFBR1+TGFBR2)  \n",
       "1  Secreted Signaling  TGFB2 - (TGFBR1+TGFBR2)  "
      ]
     },
     "execution_count": 10,
     "metadata": {},
     "output_type": "execute_result"
    }
   ],
   "source": [
    "lr_pairs.head(2)"
   ]
  },
  {
   "cell_type": "markdown",
   "id": "022bff2b",
   "metadata": {},
   "source": [
    "**Change annotations of protein complexes:** Use all capital letters for names of proteins and separate subunits by \"&\".\n",
    "\n",
    "For example, complex composed by ProteinX and ProteinY would be **PROTEINX&PROTEINY**"
   ]
  },
  {
   "cell_type": "code",
   "execution_count": 11,
   "id": "2a21997d",
   "metadata": {},
   "outputs": [],
   "source": [
    "# Change complex annotations\n",
    "lr_pairs['ligand_symbol'] = lr_pairs.interaction_name_2.apply(lambda x: x.split(' - ')[0].upper())\n",
    "lr_pairs['receptor_symbol'] = lr_pairs.interaction_name_2.apply(lambda x: x.split(' - ')[1].upper() \\\n",
    "                                                       .replace('(', '').replace(')', '').replace('+', '&'))\n",
    "\n",
    "lr_pairs['c2c_interaction'] = lr_pairs.apply(lambda row: row['ligand_symbol'] + '^' + row['receptor_symbol'], axis=1)"
   ]
  },
  {
   "cell_type": "code",
   "execution_count": 12,
   "id": "bd0c77b1",
   "metadata": {},
   "outputs": [],
   "source": [
    "# interaction columns:\n",
    "int_columns = ('ligand_symbol', 'receptor_symbol')"
   ]
  },
  {
   "cell_type": "markdown",
   "id": "35a83a63",
   "metadata": {},
   "source": [
    "Remove bidirectionality in the list of ligand-receptor pairs. That is, remove repeated interactions where both interactions are the same but in different order:\n",
    "\n",
    "From this list:\n",
    "\n",
    "| Ligand | Receptor |\n",
    "| --- | --- |\n",
    "| Protein A | Protein B |\n",
    "| Protein B | Protein A |\n",
    "\n",
    "We will have:\n",
    "\n",
    "| Ligand | Receptor |\n",
    "| --- | --- |\n",
    "| Protein A | Protein B |"
   ]
  },
  {
   "cell_type": "code",
   "execution_count": 13,
   "id": "4dadd804",
   "metadata": {},
   "outputs": [
    {
     "name": "stdout",
     "output_type": "stream",
     "text": [
      "Removing bidirectionality of PPI network\n"
     ]
    }
   ],
   "source": [
    "lr_pairs = c2c.preprocessing.remove_ppi_bidirectionality(ppi_data=lr_pairs, \n",
    "                                                         interaction_columns=int_columns\n",
    "                                                         )"
   ]
  },
  {
   "cell_type": "code",
   "execution_count": 14,
   "id": "fa801cf9",
   "metadata": {},
   "outputs": [
    {
     "data": {
      "text/plain": [
       "(1991, 14)"
      ]
     },
     "execution_count": 14,
     "metadata": {},
     "output_type": "execute_result"
    }
   ],
   "source": [
    "lr_pairs.shape"
   ]
  },
  {
   "cell_type": "markdown",
   "id": "10221144",
   "metadata": {},
   "source": [
    "**Generate a dictionary with function info for each LR pairs. Keys are LIGAND_NAME^RECEPTOR_NAME and values are the function in the annotation column in the dataframe containing ligand-receptor pairs.**"
   ]
  },
  {
   "cell_type": "code",
   "execution_count": 15,
   "id": "2f1ceea3",
   "metadata": {},
   "outputs": [],
   "source": [
    "ppi_functions = dict()\n",
    "\n",
    "for idx, row in lr_pairs.iterrows():\n",
    "    ppi_label = row[int_columns[0]] + '^' + row[int_columns[1]]\n",
    "    ppi_functions[ppi_label] = row['annotation']"
   ]
  },
  {
   "cell_type": "markdown",
   "id": "849912b4",
   "metadata": {},
   "source": [
    "# scRNA-seq Pre-processing"
   ]
  },
  {
   "cell_type": "markdown",
   "id": "6f7065d7",
   "metadata": {},
   "source": [
    "**Sample names**"
   ]
  },
  {
   "cell_type": "code",
   "execution_count": 16,
   "id": "2e3dcdc6",
   "metadata": {},
   "outputs": [],
   "source": [
    "sample_meta = meta[['sample', 'sample_new', 'disease']].drop_duplicates().reset_index(drop=True)\n",
    "sample_meta = sample_meta.loc[sample_meta['sample'].isin(list(data.keys()))]"
   ]
  },
  {
   "cell_type": "code",
   "execution_count": 17,
   "id": "e7859531",
   "metadata": {},
   "outputs": [],
   "source": [
    "context_names = sample_meta['sample'].tolist()"
   ]
  },
  {
   "cell_type": "code",
   "execution_count": 18,
   "id": "f027597b",
   "metadata": {},
   "outputs": [],
   "source": [
    "context_labels = sample_meta['sample_new'].tolist()"
   ]
  },
  {
   "cell_type": "markdown",
   "id": "f6ccd469",
   "metadata": {},
   "source": [
    "**Pre-processing**"
   ]
  },
  {
   "cell_type": "code",
   "execution_count": 19,
   "id": "bafd2a80",
   "metadata": {},
   "outputs": [
    {
     "data": {
      "application/vnd.jupyter.widget-view+json": {
       "model_id": "1306d8a8b5fc4751a8be404e7f1404d3",
       "version_major": 2,
       "version_minor": 0
      },
      "text/plain": [
       "  0%|          | 0/12 [00:00<?, ?it/s]"
      ]
     },
     "metadata": {},
     "output_type": "display_data"
    }
   ],
   "source": [
    "count_matrices = []\n",
    "log_matrices = []\n",
    "fraction_matrices = []\n",
    "\n",
    "cell_number = dict()\n",
    "\n",
    "for context in tqdm(context_names):\n",
    "    df = data[context]\n",
    "    df.var_names_make_unique()\n",
    "    \n",
    "    # Modify names of genes\n",
    "    df.var.columns = [col.upper() for col in df.var.columns]\n",
    "    # Modify names of cells\n",
    "    df.obs.index = [idx.split('-')[0] for idx in df.obs.index]\n",
    "\n",
    "    # Meta\n",
    "    meta_context = meta.loc[meta['sample'] == context].set_index('ID')\n",
    "    meta_context.index = [idx.split('_')[0] for idx in meta_context.index]\n",
    "    meta_context.index.name = 'barcode'\n",
    "    \n",
    "    \n",
    "    # Keep cells with metadata\n",
    "    cells = list(meta_context.index)\n",
    "    tmp_data = df[cells]\n",
    "    tmp_data.obs = tmp_data.obs.join(meta_context)\n",
    "    \n",
    "    cell_num = tmp_data.obs.groupby('celltype').count().to_dict()['group']\n",
    "    cell_num['Total'] = len(cells)\n",
    "    cell_number[context] = cell_num\n",
    "        \n",
    "    # Keep genes in each sample with at least n single cells expressing it\n",
    "    n = 4\n",
    "    sc.pp.filter_genes(tmp_data, min_cells=n) # At least 4, or >3\n",
    "        \n",
    "    # Aggregate gene expression of single cells into cell types\n",
    "    exp_df = c2c.preprocessing.aggregate_single_cells(rnaseq_data=tmp_data.to_df(),\n",
    "                                                      metadata=meta_context,\n",
    "                                                      barcode_col='barcode',\n",
    "                                                      celltype_col='celltype',\n",
    "                                                      method='nn_cell_fraction',\n",
    "                                                     )\n",
    "    \n",
    "    count_matrices.append(tmp_data)    \n",
    "    fraction_matrices.append(exp_df)\n",
    "    \n",
    "    # log(CPM+1)\n",
    "    tmp_data = df[cells]\n",
    "    tmp_data.obs = tmp_data.obs.join(meta_context)\n",
    "    \n",
    "    sc.pp.normalize_total(tmp_data, target_sum=1e6, inplace=True)\n",
    "    sc.pp.filter_genes(tmp_data, min_cells=n)\n",
    "    sc.pp.log1p(tmp_data)\n",
    "    \n",
    "    log_matrices.append(tmp_data)"
   ]
  },
  {
   "cell_type": "code",
   "execution_count": 20,
   "id": "92c5ed35",
   "metadata": {},
   "outputs": [],
   "source": [
    "total = 0\n",
    "for k, v in cell_number.items():\n",
    "    total += v['Total']"
   ]
  },
  {
   "cell_type": "code",
   "execution_count": 21,
   "id": "10f0e527",
   "metadata": {},
   "outputs": [
    {
     "data": {
      "text/plain": [
       "63103"
      ]
     },
     "execution_count": 21,
     "metadata": {},
     "output_type": "execute_result"
    }
   ],
   "source": [
    "total"
   ]
  },
  {
   "cell_type": "markdown",
   "id": "be47991e",
   "metadata": {},
   "source": [
    "*Keep only genes present across all samples*"
   ]
  },
  {
   "cell_type": "code",
   "execution_count": 22,
   "id": "ec1f4c93",
   "metadata": {},
   "outputs": [],
   "source": [
    "inner_genes = []\n",
    "for df in fraction_matrices:\n",
    "    inner_genes.append(df.index)\n",
    "inner_genes = set.intersection(*map(set, inner_genes))"
   ]
  },
  {
   "cell_type": "code",
   "execution_count": 23,
   "id": "59af9c4b",
   "metadata": {},
   "outputs": [
    {
     "data": {
      "text/plain": [
       "11688"
      ]
     },
     "execution_count": 23,
     "metadata": {},
     "output_type": "execute_result"
    }
   ],
   "source": [
    "len(inner_genes)"
   ]
  },
  {
   "cell_type": "code",
   "execution_count": 24,
   "id": "a9ad93ac",
   "metadata": {},
   "outputs": [],
   "source": [
    "count_matrices = [adata[:, adata.var.index.isin(inner_genes)] for adata in count_matrices]\n",
    "log_matrices = [adata[:, adata.var.index.isin(inner_genes)] for adata in log_matrices]\n",
    "fraction_matrices = [df.loc[inner_genes, :] for df in fraction_matrices]"
   ]
  },
  {
   "cell_type": "code",
   "execution_count": 25,
   "id": "ed46505b",
   "metadata": {},
   "outputs": [],
   "source": [
    "del data"
   ]
  },
  {
   "cell_type": "markdown",
   "id": "d39db06f",
   "metadata": {},
   "source": [
    "# Batch effects & Integration"
   ]
  },
  {
   "cell_type": "code",
   "execution_count": 26,
   "id": "010a3bcc",
   "metadata": {},
   "outputs": [],
   "source": [
    "seed = 888"
   ]
  },
  {
   "cell_type": "markdown",
   "id": "959b045c",
   "metadata": {},
   "source": [
    "**SCANORAMA**"
   ]
  },
  {
   "cell_type": "code",
   "execution_count": 32,
   "id": "424db730",
   "metadata": {},
   "outputs": [
    {
     "name": "stdout",
     "output_type": "stream",
     "text": [
      "Found 11688 genes among all datasets\n",
      "[[0.00000000e+00 6.37924690e-01 1.48090413e-01 2.26052557e-03\n",
      "  2.34672925e-03 1.92837466e-02 2.36574403e-03 1.18287201e-03\n",
      "  7.73993808e-04 0.00000000e+00 0.00000000e+00 0.00000000e+00]\n",
      " [0.00000000e+00 0.00000000e+00 7.66588986e-02 4.80361684e-03\n",
      "  5.28014080e-03 1.37741047e-02 4.53820680e-03 2.69839323e-03\n",
      "  7.73993808e-04 1.16550117e-03 0.00000000e+00 5.52295478e-03]\n",
      " [0.00000000e+00 0.00000000e+00 0.00000000e+00 1.44193297e-01\n",
      "  6.11847233e-02 6.88705234e-02 3.31254871e-02 8.96336711e-03\n",
      "  1.47058824e-02 5.82750583e-03 1.44997583e-03 2.57209665e-02]\n",
      " [0.00000000e+00 0.00000000e+00 0.00000000e+00 0.00000000e+00\n",
      "  8.06688178e-01 7.24517906e-01 6.80983329e-02 1.41847980e-01\n",
      "  1.07585139e-01 9.96503497e-02 6.81488642e-02 5.00517777e-02]\n",
      " [0.00000000e+00 0.00000000e+00 0.00000000e+00 0.00000000e+00\n",
      "  0.00000000e+00 8.70523416e-01 1.45203872e-01 2.60780287e-01\n",
      "  1.33900929e-01 1.28787879e-01 1.59497342e-01 7.87021056e-02]\n",
      " [0.00000000e+00 0.00000000e+00 0.00000000e+00 0.00000000e+00\n",
      "  0.00000000e+00 0.00000000e+00 5.23415978e-01 5.01377410e-01\n",
      "  2.45179063e-01 3.38842975e-01 2.64462810e-01 3.58126722e-01]\n",
      " [0.00000000e+00 0.00000000e+00 0.00000000e+00 0.00000000e+00\n",
      "  0.00000000e+00 0.00000000e+00 0.00000000e+00 6.12565890e-01\n",
      "  2.69349845e-01 2.84382284e-01 2.79845336e-01 2.66482568e-01]\n",
      " [0.00000000e+00 0.00000000e+00 0.00000000e+00 0.00000000e+00\n",
      "  0.00000000e+00 0.00000000e+00 0.00000000e+00 0.00000000e+00\n",
      "  8.31269350e-01 8.35081585e-01 6.19623006e-01 5.91991716e-01]\n",
      " [0.00000000e+00 0.00000000e+00 0.00000000e+00 0.00000000e+00\n",
      "  0.00000000e+00 0.00000000e+00 0.00000000e+00 0.00000000e+00\n",
      "  0.00000000e+00 3.15015480e-01 3.01083591e-01 1.60990712e-01]\n",
      " [0.00000000e+00 0.00000000e+00 0.00000000e+00 0.00000000e+00\n",
      "  0.00000000e+00 0.00000000e+00 0.00000000e+00 0.00000000e+00\n",
      "  0.00000000e+00 0.00000000e+00 4.21328671e-01 4.24825175e-01]\n",
      " [0.00000000e+00 0.00000000e+00 0.00000000e+00 0.00000000e+00\n",
      "  0.00000000e+00 0.00000000e+00 0.00000000e+00 0.00000000e+00\n",
      "  0.00000000e+00 0.00000000e+00 0.00000000e+00 2.90478492e-01]\n",
      " [0.00000000e+00 0.00000000e+00 0.00000000e+00 0.00000000e+00\n",
      "  0.00000000e+00 0.00000000e+00 0.00000000e+00 0.00000000e+00\n",
      "  0.00000000e+00 0.00000000e+00 0.00000000e+00 0.00000000e+00]]\n",
      "Processing datasets (4, 5)\n",
      "Processing datasets (7, 9)\n",
      "Processing datasets (7, 8)\n",
      "Processing datasets (3, 4)\n",
      "Processing datasets (3, 5)\n",
      "Processing datasets (0, 1)\n",
      "Processing datasets (7, 10)\n",
      "Processing datasets (6, 7)\n",
      "Processing datasets (7, 11)\n",
      "Processing datasets (5, 6)\n",
      "Processing datasets (5, 7)\n",
      "Processing datasets (9, 11)\n",
      "Processing datasets (9, 10)\n",
      "Processing datasets (5, 11)\n",
      "Processing datasets (5, 9)\n",
      "Processing datasets (8, 9)\n",
      "Processing datasets (8, 10)\n",
      "Processing datasets (10, 11)\n",
      "Processing datasets (6, 9)\n",
      "Processing datasets (6, 10)\n",
      "Processing datasets (6, 8)\n",
      "Processing datasets (6, 11)\n",
      "Processing datasets (5, 10)\n",
      "Processing datasets (4, 7)\n",
      "Processing datasets (5, 8)\n",
      "Processing datasets (8, 11)\n",
      "Processing datasets (4, 10)\n",
      "Processing datasets (0, 2)\n",
      "Processing datasets (4, 6)\n",
      "Processing datasets (2, 3)\n",
      "Processing datasets (3, 7)\n",
      "Processing datasets (4, 8)\n",
      "Processing datasets (4, 9)\n",
      "Processing datasets (3, 8)\n"
     ]
    }
   ],
   "source": [
    "# Batch correction.\n",
    "sm_corrected = sm.correct_scanpy(log_matrices)"
   ]
  },
  {
   "cell_type": "markdown",
   "id": "5ba53285",
   "metadata": {},
   "source": [
    "**SCANVI**"
   ]
  },
  {
   "cell_type": "code",
   "execution_count": 26,
   "id": "a0d94afe",
   "metadata": {},
   "outputs": [],
   "source": [
    "adata = count_matrices[0].concatenate(count_matrices[1:], batch_key='batch_key')"
   ]
  },
  {
   "cell_type": "code",
   "execution_count": 27,
   "id": "b6993b8b",
   "metadata": {
    "scrolled": true
   },
   "outputs": [
    {
     "name": "stderr",
     "output_type": "stream",
     "text": [
      "/data2/eric/miniconda3/envs/cell2cell/lib/python3.7/site-packages/anndata/_core/anndata.py:1220: FutureWarning: The `inplace` parameter in pandas.Categorical.reorder_categories is deprecated and will be removed in a future version. Removing unused categories will always return a new Categorical object.\n",
      "  c.reorder_categories(natsorted(c.categories), inplace=True)\n",
      "... storing 'sample' as categorical\n",
      "/data2/eric/miniconda3/envs/cell2cell/lib/python3.7/site-packages/anndata/_core/anndata.py:1220: FutureWarning: The `inplace` parameter in pandas.Categorical.reorder_categories is deprecated and will be removed in a future version. Removing unused categories will always return a new Categorical object.\n",
      "  c.reorder_categories(natsorted(c.categories), inplace=True)\n",
      "... storing 'sample_new' as categorical\n",
      "/data2/eric/miniconda3/envs/cell2cell/lib/python3.7/site-packages/anndata/_core/anndata.py:1220: FutureWarning: The `inplace` parameter in pandas.Categorical.reorder_categories is deprecated and will be removed in a future version. Removing unused categories will always return a new Categorical object.\n",
      "  c.reorder_categories(natsorted(c.categories), inplace=True)\n",
      "... storing 'group' as categorical\n",
      "/data2/eric/miniconda3/envs/cell2cell/lib/python3.7/site-packages/anndata/_core/anndata.py:1220: FutureWarning: The `inplace` parameter in pandas.Categorical.reorder_categories is deprecated and will be removed in a future version. Removing unused categories will always return a new Categorical object.\n",
      "  c.reorder_categories(natsorted(c.categories), inplace=True)\n",
      "... storing 'disease' as categorical\n",
      "/data2/eric/miniconda3/envs/cell2cell/lib/python3.7/site-packages/anndata/_core/anndata.py:1220: FutureWarning: The `inplace` parameter in pandas.Categorical.reorder_categories is deprecated and will be removed in a future version. Removing unused categories will always return a new Categorical object.\n",
      "  c.reorder_categories(natsorted(c.categories), inplace=True)\n",
      "... storing 'hasnCoV' as categorical\n",
      "/data2/eric/miniconda3/envs/cell2cell/lib/python3.7/site-packages/anndata/_core/anndata.py:1220: FutureWarning: The `inplace` parameter in pandas.Categorical.reorder_categories is deprecated and will be removed in a future version. Removing unused categories will always return a new Categorical object.\n",
      "  c.reorder_categories(natsorted(c.categories), inplace=True)\n",
      "... storing 'celltype' as categorical\n",
      "/data2/eric/miniconda3/envs/cell2cell/lib/python3.7/site-packages/anndata/_core/anndata.py:1220: FutureWarning: The `inplace` parameter in pandas.Categorical.reorder_categories is deprecated and will be removed in a future version. Removing unused categories will always return a new Categorical object.\n",
      "  c.reorder_categories(natsorted(c.categories), inplace=True)\n",
      "... storing 'FEATURE_TYPES' as categorical\n",
      "/data2/eric/miniconda3/envs/cell2cell/lib/python3.7/site-packages/anndata/_core/anndata.py:1220: FutureWarning: The `inplace` parameter in pandas.Categorical.reorder_categories is deprecated and will be removed in a future version. Removing unused categories will always return a new Categorical object.\n",
      "  c.reorder_categories(natsorted(c.categories), inplace=True)\n",
      "... storing 'GENOME-0' as categorical\n",
      "/data2/eric/miniconda3/envs/cell2cell/lib/python3.7/site-packages/anndata/_core/anndata.py:1220: FutureWarning: The `inplace` parameter in pandas.Categorical.reorder_categories is deprecated and will be removed in a future version. Removing unused categories will always return a new Categorical object.\n",
      "  c.reorder_categories(natsorted(c.categories), inplace=True)\n",
      "... storing 'GENOME-1' as categorical\n",
      "/data2/eric/miniconda3/envs/cell2cell/lib/python3.7/site-packages/anndata/_core/anndata.py:1220: FutureWarning: The `inplace` parameter in pandas.Categorical.reorder_categories is deprecated and will be removed in a future version. Removing unused categories will always return a new Categorical object.\n",
      "  c.reorder_categories(natsorted(c.categories), inplace=True)\n",
      "... storing 'GENOME-10' as categorical\n",
      "/data2/eric/miniconda3/envs/cell2cell/lib/python3.7/site-packages/anndata/_core/anndata.py:1220: FutureWarning: The `inplace` parameter in pandas.Categorical.reorder_categories is deprecated and will be removed in a future version. Removing unused categories will always return a new Categorical object.\n",
      "  c.reorder_categories(natsorted(c.categories), inplace=True)\n",
      "... storing 'GENOME-11' as categorical\n",
      "/data2/eric/miniconda3/envs/cell2cell/lib/python3.7/site-packages/anndata/_core/anndata.py:1220: FutureWarning: The `inplace` parameter in pandas.Categorical.reorder_categories is deprecated and will be removed in a future version. Removing unused categories will always return a new Categorical object.\n",
      "  c.reorder_categories(natsorted(c.categories), inplace=True)\n",
      "... storing 'GENOME-2' as categorical\n",
      "/data2/eric/miniconda3/envs/cell2cell/lib/python3.7/site-packages/anndata/_core/anndata.py:1220: FutureWarning: The `inplace` parameter in pandas.Categorical.reorder_categories is deprecated and will be removed in a future version. Removing unused categories will always return a new Categorical object.\n",
      "  c.reorder_categories(natsorted(c.categories), inplace=True)\n",
      "... storing 'GENOME-3' as categorical\n",
      "/data2/eric/miniconda3/envs/cell2cell/lib/python3.7/site-packages/anndata/_core/anndata.py:1220: FutureWarning: The `inplace` parameter in pandas.Categorical.reorder_categories is deprecated and will be removed in a future version. Removing unused categories will always return a new Categorical object.\n",
      "  c.reorder_categories(natsorted(c.categories), inplace=True)\n",
      "... storing 'GENOME-4' as categorical\n",
      "/data2/eric/miniconda3/envs/cell2cell/lib/python3.7/site-packages/anndata/_core/anndata.py:1220: FutureWarning: The `inplace` parameter in pandas.Categorical.reorder_categories is deprecated and will be removed in a future version. Removing unused categories will always return a new Categorical object.\n",
      "  c.reorder_categories(natsorted(c.categories), inplace=True)\n",
      "... storing 'GENOME-5' as categorical\n",
      "/data2/eric/miniconda3/envs/cell2cell/lib/python3.7/site-packages/anndata/_core/anndata.py:1220: FutureWarning: The `inplace` parameter in pandas.Categorical.reorder_categories is deprecated and will be removed in a future version. Removing unused categories will always return a new Categorical object.\n",
      "  c.reorder_categories(natsorted(c.categories), inplace=True)\n",
      "... storing 'GENOME-6' as categorical\n",
      "/data2/eric/miniconda3/envs/cell2cell/lib/python3.7/site-packages/anndata/_core/anndata.py:1220: FutureWarning: The `inplace` parameter in pandas.Categorical.reorder_categories is deprecated and will be removed in a future version. Removing unused categories will always return a new Categorical object.\n",
      "  c.reorder_categories(natsorted(c.categories), inplace=True)\n",
      "... storing 'GENOME-7' as categorical\n",
      "/data2/eric/miniconda3/envs/cell2cell/lib/python3.7/site-packages/anndata/_core/anndata.py:1220: FutureWarning: The `inplace` parameter in pandas.Categorical.reorder_categories is deprecated and will be removed in a future version. Removing unused categories will always return a new Categorical object.\n",
      "  c.reorder_categories(natsorted(c.categories), inplace=True)\n",
      "... storing 'GENOME-8' as categorical\n",
      "/data2/eric/miniconda3/envs/cell2cell/lib/python3.7/site-packages/anndata/_core/anndata.py:1220: FutureWarning: The `inplace` parameter in pandas.Categorical.reorder_categories is deprecated and will be removed in a future version. Removing unused categories will always return a new Categorical object.\n",
      "  c.reorder_categories(natsorted(c.categories), inplace=True)\n",
      "... storing 'GENOME-9' as categorical\n"
     ]
    }
   ],
   "source": [
    "#adata.write_h5ad('../COVID-19-BALF.h5ad')"
   ]
  },
  {
   "cell_type": "code",
   "execution_count": 31,
   "id": "40b7d041",
   "metadata": {},
   "outputs": [
    {
     "name": "stdout",
     "output_type": "stream",
     "text": [
      "\u001b[34mINFO    \u001b[0m Using batches from adata.obs\u001b[1m[\u001b[0m\u001b[32m\"batch_key\"\u001b[0m\u001b[1m]\u001b[0m                                           \n",
      "\u001b[34mINFO    \u001b[0m Using labels from adata.obs\u001b[1m[\u001b[0m\u001b[32m\"celltype\"\u001b[0m\u001b[1m]\u001b[0m                                             \n",
      "\u001b[34mINFO    \u001b[0m Using data from adata.X                                                             \n",
      "\u001b[34mINFO    \u001b[0m Successfully registered anndata object containing \u001b[1;36m63103\u001b[0m cells, \u001b[1;36m11688\u001b[0m vars, \u001b[1;36m12\u001b[0m       \n",
      "         batches, \u001b[1;36m10\u001b[0m labels, and \u001b[1;36m0\u001b[0m proteins. Also registered \u001b[1;36m0\u001b[0m extra categorical covariates  \n",
      "         and \u001b[1;36m0\u001b[0m extra continuous covariates.                                                  \n",
      "\u001b[34mINFO    \u001b[0m Please do not further modify adata until model is trained.                          \n"
     ]
    }
   ],
   "source": [
    "scvi.model.SCVI.setup_anndata(adata, batch_key='batch_key', labels_key='celltype')"
   ]
  },
  {
   "cell_type": "code",
   "execution_count": 32,
   "id": "609cc455",
   "metadata": {},
   "outputs": [],
   "source": [
    "scvi_model = scvi.model.SCVI(adata)"
   ]
  },
  {
   "cell_type": "code",
   "execution_count": 33,
   "id": "a91f7133",
   "metadata": {},
   "outputs": [
    {
     "name": "stderr",
     "output_type": "stream",
     "text": [
      "/data2/eric/miniconda3/envs/cell2cell/lib/python3.7/site-packages/scvi/model/base/_base_model.py:170: UserWarning: Passed in scvi model hasn't been trained yet.\n",
      "  warnings.warn(message)\n"
     ]
    }
   ],
   "source": [
    "scanvi_model = scvi.model.SCANVI.from_scvi_model(scvi_model, unlabeled_category=\"Unknown\", adata=adata)"
   ]
  },
  {
   "cell_type": "code",
   "execution_count": 34,
   "id": "f035c37b",
   "metadata": {},
   "outputs": [],
   "source": [
    "scvi_df = scanvi_model.get_normalized_expression()"
   ]
  },
  {
   "cell_type": "code",
   "execution_count": 35,
   "id": "848c2d86",
   "metadata": {},
   "outputs": [],
   "source": [
    "scvi_df_matrices = [scvi_df.loc[adata.obs.loc[adata.obs['sample'] == context].index] for context in context_names]"
   ]
  },
  {
   "cell_type": "markdown",
   "id": "4608a0c0",
   "metadata": {},
   "source": [
    "**ComBat**"
   ]
  },
  {
   "cell_type": "code",
   "execution_count": 31,
   "id": "8451ac00",
   "metadata": {},
   "outputs": [],
   "source": [
    "logdata = log_matrices[0].concatenate(log_matrices[1:], batch_key='batch_key')"
   ]
  },
  {
   "cell_type": "code",
   "execution_count": 32,
   "id": "80b96150",
   "metadata": {
    "scrolled": true
   },
   "outputs": [
    {
     "name": "stderr",
     "output_type": "stream",
     "text": [
      "/data2/eric/miniconda3/envs/cell2cell/lib/python3.7/site-packages/anndata/_core/anndata.py:1220: FutureWarning: The `inplace` parameter in pandas.Categorical.reorder_categories is deprecated and will be removed in a future version. Removing unused categories will always return a new Categorical object.\n",
      "  c.reorder_categories(natsorted(c.categories), inplace=True)\n",
      "... storing 'sample' as categorical\n",
      "/data2/eric/miniconda3/envs/cell2cell/lib/python3.7/site-packages/anndata/_core/anndata.py:1220: FutureWarning: The `inplace` parameter in pandas.Categorical.reorder_categories is deprecated and will be removed in a future version. Removing unused categories will always return a new Categorical object.\n",
      "  c.reorder_categories(natsorted(c.categories), inplace=True)\n",
      "... storing 'sample_new' as categorical\n",
      "/data2/eric/miniconda3/envs/cell2cell/lib/python3.7/site-packages/anndata/_core/anndata.py:1220: FutureWarning: The `inplace` parameter in pandas.Categorical.reorder_categories is deprecated and will be removed in a future version. Removing unused categories will always return a new Categorical object.\n",
      "  c.reorder_categories(natsorted(c.categories), inplace=True)\n",
      "... storing 'group' as categorical\n",
      "/data2/eric/miniconda3/envs/cell2cell/lib/python3.7/site-packages/anndata/_core/anndata.py:1220: FutureWarning: The `inplace` parameter in pandas.Categorical.reorder_categories is deprecated and will be removed in a future version. Removing unused categories will always return a new Categorical object.\n",
      "  c.reorder_categories(natsorted(c.categories), inplace=True)\n",
      "... storing 'disease' as categorical\n",
      "/data2/eric/miniconda3/envs/cell2cell/lib/python3.7/site-packages/anndata/_core/anndata.py:1220: FutureWarning: The `inplace` parameter in pandas.Categorical.reorder_categories is deprecated and will be removed in a future version. Removing unused categories will always return a new Categorical object.\n",
      "  c.reorder_categories(natsorted(c.categories), inplace=True)\n",
      "... storing 'hasnCoV' as categorical\n",
      "/data2/eric/miniconda3/envs/cell2cell/lib/python3.7/site-packages/anndata/_core/anndata.py:1220: FutureWarning: The `inplace` parameter in pandas.Categorical.reorder_categories is deprecated and will be removed in a future version. Removing unused categories will always return a new Categorical object.\n",
      "  c.reorder_categories(natsorted(c.categories), inplace=True)\n",
      "... storing 'celltype' as categorical\n",
      "/data2/eric/miniconda3/envs/cell2cell/lib/python3.7/site-packages/anndata/_core/anndata.py:1220: FutureWarning: The `inplace` parameter in pandas.Categorical.reorder_categories is deprecated and will be removed in a future version. Removing unused categories will always return a new Categorical object.\n",
      "  c.reorder_categories(natsorted(c.categories), inplace=True)\n",
      "... storing 'FEATURE_TYPES' as categorical\n",
      "/data2/eric/miniconda3/envs/cell2cell/lib/python3.7/site-packages/anndata/_core/anndata.py:1220: FutureWarning: The `inplace` parameter in pandas.Categorical.reorder_categories is deprecated and will be removed in a future version. Removing unused categories will always return a new Categorical object.\n",
      "  c.reorder_categories(natsorted(c.categories), inplace=True)\n",
      "... storing 'GENOME-0' as categorical\n",
      "/data2/eric/miniconda3/envs/cell2cell/lib/python3.7/site-packages/anndata/_core/anndata.py:1220: FutureWarning: The `inplace` parameter in pandas.Categorical.reorder_categories is deprecated and will be removed in a future version. Removing unused categories will always return a new Categorical object.\n",
      "  c.reorder_categories(natsorted(c.categories), inplace=True)\n",
      "... storing 'GENOME-1' as categorical\n",
      "/data2/eric/miniconda3/envs/cell2cell/lib/python3.7/site-packages/anndata/_core/anndata.py:1220: FutureWarning: The `inplace` parameter in pandas.Categorical.reorder_categories is deprecated and will be removed in a future version. Removing unused categories will always return a new Categorical object.\n",
      "  c.reorder_categories(natsorted(c.categories), inplace=True)\n",
      "... storing 'GENOME-10' as categorical\n",
      "/data2/eric/miniconda3/envs/cell2cell/lib/python3.7/site-packages/anndata/_core/anndata.py:1220: FutureWarning: The `inplace` parameter in pandas.Categorical.reorder_categories is deprecated and will be removed in a future version. Removing unused categories will always return a new Categorical object.\n",
      "  c.reorder_categories(natsorted(c.categories), inplace=True)\n",
      "... storing 'GENOME-11' as categorical\n",
      "/data2/eric/miniconda3/envs/cell2cell/lib/python3.7/site-packages/anndata/_core/anndata.py:1220: FutureWarning: The `inplace` parameter in pandas.Categorical.reorder_categories is deprecated and will be removed in a future version. Removing unused categories will always return a new Categorical object.\n",
      "  c.reorder_categories(natsorted(c.categories), inplace=True)\n",
      "... storing 'GENOME-2' as categorical\n",
      "/data2/eric/miniconda3/envs/cell2cell/lib/python3.7/site-packages/anndata/_core/anndata.py:1220: FutureWarning: The `inplace` parameter in pandas.Categorical.reorder_categories is deprecated and will be removed in a future version. Removing unused categories will always return a new Categorical object.\n",
      "  c.reorder_categories(natsorted(c.categories), inplace=True)\n",
      "... storing 'GENOME-3' as categorical\n",
      "/data2/eric/miniconda3/envs/cell2cell/lib/python3.7/site-packages/anndata/_core/anndata.py:1220: FutureWarning: The `inplace` parameter in pandas.Categorical.reorder_categories is deprecated and will be removed in a future version. Removing unused categories will always return a new Categorical object.\n",
      "  c.reorder_categories(natsorted(c.categories), inplace=True)\n",
      "... storing 'GENOME-4' as categorical\n",
      "/data2/eric/miniconda3/envs/cell2cell/lib/python3.7/site-packages/anndata/_core/anndata.py:1220: FutureWarning: The `inplace` parameter in pandas.Categorical.reorder_categories is deprecated and will be removed in a future version. Removing unused categories will always return a new Categorical object.\n",
      "  c.reorder_categories(natsorted(c.categories), inplace=True)\n",
      "... storing 'GENOME-5' as categorical\n",
      "/data2/eric/miniconda3/envs/cell2cell/lib/python3.7/site-packages/anndata/_core/anndata.py:1220: FutureWarning: The `inplace` parameter in pandas.Categorical.reorder_categories is deprecated and will be removed in a future version. Removing unused categories will always return a new Categorical object.\n",
      "  c.reorder_categories(natsorted(c.categories), inplace=True)\n",
      "... storing 'GENOME-6' as categorical\n",
      "/data2/eric/miniconda3/envs/cell2cell/lib/python3.7/site-packages/anndata/_core/anndata.py:1220: FutureWarning: The `inplace` parameter in pandas.Categorical.reorder_categories is deprecated and will be removed in a future version. Removing unused categories will always return a new Categorical object.\n",
      "  c.reorder_categories(natsorted(c.categories), inplace=True)\n",
      "... storing 'GENOME-7' as categorical\n",
      "/data2/eric/miniconda3/envs/cell2cell/lib/python3.7/site-packages/anndata/_core/anndata.py:1220: FutureWarning: The `inplace` parameter in pandas.Categorical.reorder_categories is deprecated and will be removed in a future version. Removing unused categories will always return a new Categorical object.\n",
      "  c.reorder_categories(natsorted(c.categories), inplace=True)\n",
      "... storing 'GENOME-8' as categorical\n",
      "/data2/eric/miniconda3/envs/cell2cell/lib/python3.7/site-packages/anndata/_core/anndata.py:1220: FutureWarning: The `inplace` parameter in pandas.Categorical.reorder_categories is deprecated and will be removed in a future version. Removing unused categories will always return a new Categorical object.\n",
      "  c.reorder_categories(natsorted(c.categories), inplace=True)\n",
      "... storing 'GENOME-9' as categorical\n"
     ]
    }
   ],
   "source": [
    "#logdata.write_h5ad('../COVID-19-BALF-log1p.h5ad')"
   ]
  },
  {
   "cell_type": "code",
   "execution_count": 41,
   "id": "64c0ab21",
   "metadata": {
    "scrolled": true
   },
   "outputs": [
    {
     "name": "stderr",
     "output_type": "stream",
     "text": [
      "/data2/eric/miniconda3/envs/cell2cell/lib/python3.7/site-packages/anndata/_core/anndata.py:1220: FutureWarning: The `inplace` parameter in pandas.Categorical.reorder_categories is deprecated and will be removed in a future version. Removing unused categories will always return a new Categorical object.\n",
      "  c.reorder_categories(natsorted(c.categories), inplace=True)\n",
      "... storing 'sample' as categorical\n",
      "/data2/eric/miniconda3/envs/cell2cell/lib/python3.7/site-packages/anndata/_core/anndata.py:1220: FutureWarning: The `inplace` parameter in pandas.Categorical.reorder_categories is deprecated and will be removed in a future version. Removing unused categories will always return a new Categorical object.\n",
      "  c.reorder_categories(natsorted(c.categories), inplace=True)\n",
      "... storing 'sample_new' as categorical\n",
      "/data2/eric/miniconda3/envs/cell2cell/lib/python3.7/site-packages/anndata/_core/anndata.py:1220: FutureWarning: The `inplace` parameter in pandas.Categorical.reorder_categories is deprecated and will be removed in a future version. Removing unused categories will always return a new Categorical object.\n",
      "  c.reorder_categories(natsorted(c.categories), inplace=True)\n",
      "... storing 'group' as categorical\n",
      "/data2/eric/miniconda3/envs/cell2cell/lib/python3.7/site-packages/anndata/_core/anndata.py:1220: FutureWarning: The `inplace` parameter in pandas.Categorical.reorder_categories is deprecated and will be removed in a future version. Removing unused categories will always return a new Categorical object.\n",
      "  c.reorder_categories(natsorted(c.categories), inplace=True)\n",
      "... storing 'disease' as categorical\n",
      "/data2/eric/miniconda3/envs/cell2cell/lib/python3.7/site-packages/anndata/_core/anndata.py:1220: FutureWarning: The `inplace` parameter in pandas.Categorical.reorder_categories is deprecated and will be removed in a future version. Removing unused categories will always return a new Categorical object.\n",
      "  c.reorder_categories(natsorted(c.categories), inplace=True)\n",
      "... storing 'hasnCoV' as categorical\n",
      "/data2/eric/miniconda3/envs/cell2cell/lib/python3.7/site-packages/anndata/_core/anndata.py:1220: FutureWarning: The `inplace` parameter in pandas.Categorical.reorder_categories is deprecated and will be removed in a future version. Removing unused categories will always return a new Categorical object.\n",
      "  c.reorder_categories(natsorted(c.categories), inplace=True)\n",
      "... storing 'celltype' as categorical\n",
      "/data2/eric/miniconda3/envs/cell2cell/lib/python3.7/site-packages/anndata/_core/anndata.py:1220: FutureWarning: The `inplace` parameter in pandas.Categorical.reorder_categories is deprecated and will be removed in a future version. Removing unused categories will always return a new Categorical object.\n",
      "  c.reorder_categories(natsorted(c.categories), inplace=True)\n",
      "... storing 'FEATURE_TYPES' as categorical\n",
      "/data2/eric/miniconda3/envs/cell2cell/lib/python3.7/site-packages/anndata/_core/anndata.py:1220: FutureWarning: The `inplace` parameter in pandas.Categorical.reorder_categories is deprecated and will be removed in a future version. Removing unused categories will always return a new Categorical object.\n",
      "  c.reorder_categories(natsorted(c.categories), inplace=True)\n",
      "... storing 'GENOME-0' as categorical\n",
      "/data2/eric/miniconda3/envs/cell2cell/lib/python3.7/site-packages/anndata/_core/anndata.py:1220: FutureWarning: The `inplace` parameter in pandas.Categorical.reorder_categories is deprecated and will be removed in a future version. Removing unused categories will always return a new Categorical object.\n",
      "  c.reorder_categories(natsorted(c.categories), inplace=True)\n",
      "... storing 'GENOME-1' as categorical\n",
      "/data2/eric/miniconda3/envs/cell2cell/lib/python3.7/site-packages/anndata/_core/anndata.py:1220: FutureWarning: The `inplace` parameter in pandas.Categorical.reorder_categories is deprecated and will be removed in a future version. Removing unused categories will always return a new Categorical object.\n",
      "  c.reorder_categories(natsorted(c.categories), inplace=True)\n",
      "... storing 'GENOME-10' as categorical\n",
      "/data2/eric/miniconda3/envs/cell2cell/lib/python3.7/site-packages/anndata/_core/anndata.py:1220: FutureWarning: The `inplace` parameter in pandas.Categorical.reorder_categories is deprecated and will be removed in a future version. Removing unused categories will always return a new Categorical object.\n",
      "  c.reorder_categories(natsorted(c.categories), inplace=True)\n",
      "... storing 'GENOME-11' as categorical\n",
      "/data2/eric/miniconda3/envs/cell2cell/lib/python3.7/site-packages/anndata/_core/anndata.py:1220: FutureWarning: The `inplace` parameter in pandas.Categorical.reorder_categories is deprecated and will be removed in a future version. Removing unused categories will always return a new Categorical object.\n",
      "  c.reorder_categories(natsorted(c.categories), inplace=True)\n",
      "... storing 'GENOME-2' as categorical\n",
      "/data2/eric/miniconda3/envs/cell2cell/lib/python3.7/site-packages/anndata/_core/anndata.py:1220: FutureWarning: The `inplace` parameter in pandas.Categorical.reorder_categories is deprecated and will be removed in a future version. Removing unused categories will always return a new Categorical object.\n",
      "  c.reorder_categories(natsorted(c.categories), inplace=True)\n",
      "... storing 'GENOME-3' as categorical\n",
      "/data2/eric/miniconda3/envs/cell2cell/lib/python3.7/site-packages/anndata/_core/anndata.py:1220: FutureWarning: The `inplace` parameter in pandas.Categorical.reorder_categories is deprecated and will be removed in a future version. Removing unused categories will always return a new Categorical object.\n",
      "  c.reorder_categories(natsorted(c.categories), inplace=True)\n",
      "... storing 'GENOME-4' as categorical\n",
      "/data2/eric/miniconda3/envs/cell2cell/lib/python3.7/site-packages/anndata/_core/anndata.py:1220: FutureWarning: The `inplace` parameter in pandas.Categorical.reorder_categories is deprecated and will be removed in a future version. Removing unused categories will always return a new Categorical object.\n",
      "  c.reorder_categories(natsorted(c.categories), inplace=True)\n",
      "... storing 'GENOME-5' as categorical\n",
      "/data2/eric/miniconda3/envs/cell2cell/lib/python3.7/site-packages/anndata/_core/anndata.py:1220: FutureWarning: The `inplace` parameter in pandas.Categorical.reorder_categories is deprecated and will be removed in a future version. Removing unused categories will always return a new Categorical object.\n",
      "  c.reorder_categories(natsorted(c.categories), inplace=True)\n",
      "... storing 'GENOME-6' as categorical\n",
      "/data2/eric/miniconda3/envs/cell2cell/lib/python3.7/site-packages/anndata/_core/anndata.py:1220: FutureWarning: The `inplace` parameter in pandas.Categorical.reorder_categories is deprecated and will be removed in a future version. Removing unused categories will always return a new Categorical object.\n",
      "  c.reorder_categories(natsorted(c.categories), inplace=True)\n",
      "... storing 'GENOME-7' as categorical\n",
      "/data2/eric/miniconda3/envs/cell2cell/lib/python3.7/site-packages/anndata/_core/anndata.py:1220: FutureWarning: The `inplace` parameter in pandas.Categorical.reorder_categories is deprecated and will be removed in a future version. Removing unused categories will always return a new Categorical object.\n",
      "  c.reorder_categories(natsorted(c.categories), inplace=True)\n",
      "... storing 'GENOME-8' as categorical\n",
      "/data2/eric/miniconda3/envs/cell2cell/lib/python3.7/site-packages/anndata/_core/anndata.py:1220: FutureWarning: The `inplace` parameter in pandas.Categorical.reorder_categories is deprecated and will be removed in a future version. Removing unused categories will always return a new Categorical object.\n",
      "  c.reorder_categories(natsorted(c.categories), inplace=True)\n",
      "... storing 'GENOME-9' as categorical\n"
     ]
    }
   ],
   "source": [
    "sc.pp.combat(logdata, key='batch_key')"
   ]
  },
  {
   "cell_type": "code",
   "execution_count": 42,
   "id": "c22de32b",
   "metadata": {},
   "outputs": [],
   "source": [
    "combat_matrices = [logdata[adata.obs.loc[adata.obs['sample'] == context].index] for context in context_names]"
   ]
  },
  {
   "cell_type": "markdown",
   "id": "3cc56ff8",
   "metadata": {},
   "source": [
    "# Matrices to build the Tensors"
   ]
  },
  {
   "cell_type": "code",
   "execution_count": 36,
   "id": "443b5de9",
   "metadata": {},
   "outputs": [],
   "source": [
    "exp_matrices = dict()"
   ]
  },
  {
   "cell_type": "markdown",
   "id": "1862229e",
   "metadata": {},
   "source": [
    "*Aggregate count matrix into mean*"
   ]
  },
  {
   "cell_type": "code",
   "execution_count": 34,
   "id": "28ec175d",
   "metadata": {},
   "outputs": [
    {
     "data": {
      "application/vnd.jupyter.widget-view+json": {
       "model_id": "d3e6370aca8545c5a201551ae926d7bf",
       "version_major": 2,
       "version_minor": 0
      },
      "text/plain": [
       "  0%|          | 0/12 [00:00<?, ?it/s]"
      ]
     },
     "metadata": {},
     "output_type": "display_data"
    }
   ],
   "source": [
    "avg_count_matrices = []\n",
    "\n",
    "for df in tqdm(count_matrices):\n",
    "    meta_context = df.obs.copy()\n",
    "    meta_context.index.name = 'barcode'\n",
    "    \n",
    "    exp_df = c2c.preprocessing.aggregate_single_cells(rnaseq_data=df.to_df(),\n",
    "                                                      metadata=meta_context,\n",
    "                                                      barcode_col='barcode',\n",
    "                                                      celltype_col='celltype',\n",
    "                                                      method='average',\n",
    "                                                     )\n",
    "    \n",
    "    avg_count_matrices.append(exp_df)\n",
    "exp_matrices['Avg Raw Counts'] = avg_count_matrices"
   ]
  },
  {
   "cell_type": "markdown",
   "id": "0c51e025",
   "metadata": {},
   "source": [
    "*Aggregate log matrix into mean*"
   ]
  },
  {
   "cell_type": "code",
   "execution_count": 35,
   "id": "34ee76a3",
   "metadata": {},
   "outputs": [
    {
     "data": {
      "application/vnd.jupyter.widget-view+json": {
       "model_id": "33b95e3c617c4966847cd313c0e5865c",
       "version_major": 2,
       "version_minor": 0
      },
      "text/plain": [
       "  0%|          | 0/12 [00:00<?, ?it/s]"
      ]
     },
     "metadata": {},
     "output_type": "display_data"
    }
   ],
   "source": [
    "avg_log_matrices = []\n",
    "\n",
    "for df in tqdm(log_matrices):\n",
    "    meta_context = df.obs.copy()\n",
    "    meta_context.index.name = 'barcode'\n",
    "    \n",
    "    exp_df = c2c.preprocessing.aggregate_single_cells(rnaseq_data=df.to_df(),\n",
    "                                                      metadata=meta_context,\n",
    "                                                      barcode_col='barcode',\n",
    "                                                      celltype_col='celltype',\n",
    "                                                      method='average',\n",
    "                                                     )\n",
    "    \n",
    "    avg_log_matrices.append(exp_df)\n",
    "exp_matrices['Avg log1p(CPM)'] = avg_log_matrices"
   ]
  },
  {
   "cell_type": "markdown",
   "id": "d7cca8ed",
   "metadata": {},
   "source": [
    "*Fraction of non-zero cells*"
   ]
  },
  {
   "cell_type": "code",
   "execution_count": 36,
   "id": "8463ef26",
   "metadata": {},
   "outputs": [],
   "source": [
    "exp_matrices['Fraction Non-Zero Cells'] = fraction_matrices"
   ]
  },
  {
   "cell_type": "markdown",
   "id": "c2746289",
   "metadata": {},
   "source": [
    "*Aggregate scanorama correction into mean*"
   ]
  },
  {
   "cell_type": "code",
   "execution_count": 37,
   "id": "a6a7db33",
   "metadata": {},
   "outputs": [
    {
     "data": {
      "application/vnd.jupyter.widget-view+json": {
       "model_id": "13b899e993414b54b67a51c1dade3519",
       "version_major": 2,
       "version_minor": 0
      },
      "text/plain": [
       "  0%|          | 0/12 [00:00<?, ?it/s]"
      ]
     },
     "metadata": {},
     "output_type": "display_data"
    }
   ],
   "source": [
    "avg_sm_matrices = []\n",
    "\n",
    "for df in tqdm(sm_corrected):\n",
    "    meta_context = df.obs.copy()\n",
    "    meta_context.index.name = 'barcode'\n",
    "    \n",
    "    exp_df = c2c.preprocessing.aggregate_single_cells(rnaseq_data=df.to_df(),\n",
    "                                                      metadata=meta_context,\n",
    "                                                      barcode_col='barcode',\n",
    "                                                      celltype_col='celltype',\n",
    "                                                      method='average',\n",
    "                                                     )\n",
    "    \n",
    "    avg_sm_matrices.append(exp_df)\n",
    "exp_matrices['Scanorama'] = avg_sm_matrices"
   ]
  },
  {
   "cell_type": "markdown",
   "id": "5b8a1e22",
   "metadata": {},
   "source": [
    "*Aggregate SCVI correction into mean*"
   ]
  },
  {
   "cell_type": "code",
   "execution_count": 37,
   "id": "836073c1",
   "metadata": {},
   "outputs": [
    {
     "data": {
      "application/vnd.jupyter.widget-view+json": {
       "model_id": "6917fda4d476403a9c0370fe177d8116",
       "version_major": 2,
       "version_minor": 0
      },
      "text/plain": [
       "  0%|          | 0/12 [00:00<?, ?it/s]"
      ]
     },
     "metadata": {},
     "output_type": "display_data"
    }
   ],
   "source": [
    "avg_scvi_matrices = []\n",
    "\n",
    "for i, context in tqdm(enumerate(context_names), total=len(context_names)):\n",
    "    # Meta\n",
    "    meta_context = meta.loc[meta['sample'] == context].set_index('ID')\n",
    "    meta_context.index = [idx.split('_')[0] for idx in meta_context.index]\n",
    "    meta_context.index.name = 'barcode'\n",
    "    \n",
    "    \n",
    "    # Keep cells with metadata\n",
    "    cells_ = list(meta_context.index)\n",
    "    tmp_data = scvi_df_matrices[i]\n",
    "    tmp_data.index = [idx.split('-')[0] for idx in tmp_data.index]\n",
    "    tmp_data = tmp_data.loc[cells_]\n",
    "        \n",
    "    # Aggregate gene expression of single cells into cell types\n",
    "    exp_df = c2c.preprocessing.aggregate_single_cells(rnaseq_data=tmp_data,\n",
    "                                                      metadata=meta_context,\n",
    "                                                      barcode_col='barcode',\n",
    "                                                      celltype_col='celltype',\n",
    "                                                      method='average',\n",
    "                                                     )\n",
    "    \n",
    "    avg_scvi_matrices.append(exp_df)\n",
    "exp_matrices['SCANVI'] = avg_scvi_matrices"
   ]
  },
  {
   "cell_type": "markdown",
   "id": "fad06e47",
   "metadata": {},
   "source": [
    "*Aggregate ComBat into mean*"
   ]
  },
  {
   "cell_type": "code",
   "execution_count": 43,
   "id": "61bc3def",
   "metadata": {},
   "outputs": [
    {
     "data": {
      "application/vnd.jupyter.widget-view+json": {
       "model_id": "831b64065f1a489bbc0112ca8948637e",
       "version_major": 2,
       "version_minor": 0
      },
      "text/plain": [
       "  0%|          | 0/12 [00:00<?, ?it/s]"
      ]
     },
     "metadata": {},
     "output_type": "display_data"
    }
   ],
   "source": [
    "avg_cb_matrices = []\n",
    "\n",
    "for df in tqdm(combat_matrices):\n",
    "    meta_context = df.obs.copy()\n",
    "    meta_context.index.name = 'barcode'\n",
    "    \n",
    "    exp_df = c2c.preprocessing.aggregate_single_cells(rnaseq_data=df.to_df(),\n",
    "                                                      metadata=meta_context,\n",
    "                                                      barcode_col='barcode',\n",
    "                                                      celltype_col='celltype',\n",
    "                                                      method='average',\n",
    "                                                     )\n",
    "    \n",
    "    avg_cb_matrices.append(exp_df)\n",
    "exp_matrices['ComBat'] = avg_cb_matrices"
   ]
  },
  {
   "cell_type": "markdown",
   "id": "8cd87828",
   "metadata": {},
   "source": [
    "# Build Tensors"
   ]
  },
  {
   "cell_type": "code",
   "execution_count": 44,
   "id": "61aa91dc",
   "metadata": {},
   "outputs": [
    {
     "name": "stdout",
     "output_type": "stream",
     "text": [
      "Getting expression values for protein complexes\n",
      "Building tensor for the provided context\n",
      "./outputs//Tensor_SCANVI.pkl  was correctly saved.\n",
      "(12, 189, 6, 6)\n",
      "\n",
      "Getting expression values for protein complexes\n",
      "Building tensor for the provided context\n",
      "./outputs//Tensor_ComBat.pkl  was correctly saved.\n",
      "(12, 189, 6, 6)\n",
      "\n"
     ]
    }
   ],
   "source": [
    "for method, matrices in exp_matrices.items():\n",
    "\n",
    "    tensor = c2c.tensor.InteractionTensor(rnaseq_matrices=matrices,\n",
    "                                          ppi_data=lr_pairs,\n",
    "                                          context_names=context_labels,\n",
    "                                          how='inner',\n",
    "                                          complex_sep='&',\n",
    "                                          interaction_columns=int_columns,\n",
    "                                          communication_score='expression_mean'\n",
    "                                         )\n",
    "    c2c.io.export_variable_with_pickle(tensor, output_folder + '/Tensor_{}.pkl'.format(method.replace(' ','_')))\n",
    "    print(tensor.tensor.shape)\n",
    "    print('')"
   ]
  },
  {
   "cell_type": "markdown",
   "id": "ed180b20",
   "metadata": {},
   "source": [
    "**Tensor Metadata**"
   ]
  },
  {
   "cell_type": "code",
   "execution_count": 44,
   "id": "9c8d7ba6",
   "metadata": {},
   "outputs": [],
   "source": [
    "def meta_disease(x):\n",
    "    if 'HC' in x:\n",
    "        return 'Control'\n",
    "    elif 'M' in x:\n",
    "        return 'Moderate COVID-19'\n",
    "    elif 'S' in x:\n",
    "        return 'Severe COVID-19'\n",
    "    else:\n",
    "        return 'NA'\n",
    "    \n",
    "sample_disease = dict()\n",
    "for idx, row in sample_meta.iterrows():\n",
    "    sample_disease[row['sample_new']] = meta_disease(row['sample_new'])"
   ]
  },
  {
   "cell_type": "code",
   "execution_count": 45,
   "id": "a693bed1",
   "metadata": {},
   "outputs": [],
   "source": [
    "meta_tf = c2c.tensor.generate_tensor_metadata(interaction_tensor=tensor,\n",
    "                                              metadata_dicts=[sample_disease, ppi_functions, None, None],\n",
    "                                              fill_with_order_elements=True\n",
    "                                             )"
   ]
  },
  {
   "cell_type": "code",
   "execution_count": 46,
   "id": "ab96669e",
   "metadata": {},
   "outputs": [
    {
     "name": "stdout",
     "output_type": "stream",
     "text": [
      "./outputs//Meta_Tensors.pkl  was correctly saved.\n"
     ]
    }
   ],
   "source": [
    "c2c.io.export_variable_with_pickle(meta_tf, output_folder + '/Meta_Tensors.pkl')\n"
   ]
  },
  {
   "cell_type": "code",
   "execution_count": null,
   "id": "ea61fc8b",
   "metadata": {},
   "outputs": [],
   "source": []
  }
 ],
 "metadata": {
  "kernelspec": {
   "display_name": "Python 3",
   "language": "python",
   "name": "python3"
  },
  "language_info": {
   "codemirror_mode": {
    "name": "ipython",
    "version": 3
   },
   "file_extension": ".py",
   "mimetype": "text/x-python",
   "name": "python",
   "nbconvert_exporter": "python",
   "pygments_lexer": "ipython3",
   "version": "3.7.11"
  }
 },
 "nbformat": 4,
 "nbformat_minor": 5
}
