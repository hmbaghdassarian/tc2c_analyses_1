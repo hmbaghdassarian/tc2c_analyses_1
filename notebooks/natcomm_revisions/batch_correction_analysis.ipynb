{
 "cells": [
  {
   "cell_type": "code",
   "execution_count": 6,
   "id": "acoustic-portugal",
   "metadata": {},
   "outputs": [],
   "source": [
    "import pandas as pd\n",
    "import os\n",
    "from sklearn.metrics import normalized_mutual_info_score as NMI\n",
    "\n",
    "n_cores = 20\n",
    "seed = 888\n",
    "data_path = '/data3/hratch/tc2c_analyses_1/natcomm_revisions/processed/'"
   ]
  },
  {
   "cell_type": "code",
   "execution_count": 27,
   "id": "married-baseball",
   "metadata": {},
   "outputs": [],
   "source": [
    "pca_dfs = {f.split('-')[1].split('.csv')[0]: pd.read_csv(data_path + f, index_col = 0) \\\n",
    "           for f in os.listdir(data_path) if f.startswith('PCA')}"
   ]
  },
  {
   "cell_type": "code",
   "execution_count": 40,
   "id": "mounted-distributor",
   "metadata": {},
   "outputs": [],
   "source": [
    "# get the graph and clusters from PCA space - meant to emulate typical single-cell clustering pipeline\n",
    "# this should probably be replaced with sc.pp.neighbors and sc.tl.leiden on an adata object\n",
    "from sklearn.neighbors import kneighbors_graph\n",
    "import leidenalg as la\n",
    "import igraph as ig\n",
    "\n",
    "def construct_graph(your_matrix): # if using this, make sure this is correct\n",
    "    vcount = max(your_matrix.shape)\n",
    "    sources, targets = your_matrix.nonzero()\n",
    "    edgelist = zip(sources.tolist(), targets.tolist())\n",
    "    return ig.Graph(vcount, edgelist)\n",
    "\n",
    "neighbor_graphs = {k: kneighbors_graph(v, n_neighbors = 15, n_jobs = n_cores) for \\\n",
    "                  k,v in pca_dfs.items()}\n",
    "clusters = {k + ' Clusters': la.find_partition(construct_graph(v), la.ModularityVertexPartition, seed = seed).membership \\\n",
    "           for k,v in neighbor_graphs.items()}"
   ]
  },
  {
   "cell_type": "code",
   "execution_count": 68,
   "id": "falling-world",
   "metadata": {},
   "outputs": [
    {
     "data": {
      "text/html": [
       "<div>\n",
       "<style scoped>\n",
       "    .dataframe tbody tr th:only-of-type {\n",
       "        vertical-align: middle;\n",
       "    }\n",
       "\n",
       "    .dataframe tbody tr th {\n",
       "        vertical-align: top;\n",
       "    }\n",
       "\n",
       "    .dataframe thead th {\n",
       "        text-align: right;\n",
       "    }\n",
       "</style>\n",
       "<table border=\"1\" class=\"dataframe\">\n",
       "  <thead>\n",
       "    <tr style=\"text-align: right;\">\n",
       "      <th></th>\n",
       "      <th>Log1P Clusters</th>\n",
       "      <th>NonZeroFraction Clusters</th>\n",
       "      <th>RawCounts Clusters</th>\n",
       "      <th>Cell Type</th>\n",
       "      <th>Sample</th>\n",
       "      <th>Data Point</th>\n",
       "    </tr>\n",
       "  </thead>\n",
       "  <tbody>\n",
       "    <tr>\n",
       "      <th>0</th>\n",
       "      <td>4</td>\n",
       "      <td>0</td>\n",
       "      <td>0</td>\n",
       "      <td>B</td>\n",
       "      <td>C100</td>\n",
       "      <td>B_C100</td>\n",
       "    </tr>\n",
       "    <tr>\n",
       "      <th>1</th>\n",
       "      <td>0</td>\n",
       "      <td>3</td>\n",
       "      <td>1</td>\n",
       "      <td>Epithelial</td>\n",
       "      <td>C100</td>\n",
       "      <td>Epithelial_C100</td>\n",
       "    </tr>\n",
       "    <tr>\n",
       "      <th>2</th>\n",
       "      <td>2</td>\n",
       "      <td>2</td>\n",
       "      <td>1</td>\n",
       "      <td>Macrophages</td>\n",
       "      <td>C100</td>\n",
       "      <td>Macrophages_C100</td>\n",
       "    </tr>\n",
       "    <tr>\n",
       "      <th>3</th>\n",
       "      <td>4</td>\n",
       "      <td>0</td>\n",
       "      <td>0</td>\n",
       "      <td>NK</td>\n",
       "      <td>C100</td>\n",
       "      <td>NK_C100</td>\n",
       "    </tr>\n",
       "    <tr>\n",
       "      <th>4</th>\n",
       "      <td>4</td>\n",
       "      <td>0</td>\n",
       "      <td>0</td>\n",
       "      <td>T</td>\n",
       "      <td>C100</td>\n",
       "      <td>T_C100</td>\n",
       "    </tr>\n",
       "  </tbody>\n",
       "</table>\n",
       "</div>"
      ],
      "text/plain": [
       "   Log1P Clusters  NonZeroFraction Clusters  RawCounts Clusters    Cell Type  \\\n",
       "0               4                         0                   0            B   \n",
       "1               0                         3                   1   Epithelial   \n",
       "2               2                         2                   1  Macrophages   \n",
       "3               4                         0                   0           NK   \n",
       "4               4                         0                   0            T   \n",
       "\n",
       "  Sample        Data Point  \n",
       "0   C100            B_C100  \n",
       "1   C100   Epithelial_C100  \n",
       "2   C100  Macrophages_C100  \n",
       "3   C100           NK_C100  \n",
       "4   C100            T_C100  "
      ]
     },
     "execution_count": 68,
     "metadata": {},
     "output_type": "execute_result"
    }
   ],
   "source": [
    "meta_labels = pd.Series(list(pca_dfs.values())[0].index)\n",
    "meta = pd.DataFrame(data = clusters)\n",
    "meta['Cell Type'] = meta_labels.apply(lambda x: x.split('_')[0])\n",
    "meta['Sample'] = meta_labels.apply(lambda x: x.split('_')[1])\n",
    "meta['Data Point'] = meta_labels\n",
    "# this is the important output for batch correction analysis\n",
    "meta.head()"
   ]
  },
  {
   "cell_type": "code",
   "execution_count": 66,
   "id": "cheap-underwear",
   "metadata": {},
   "outputs": [
    {
     "name": "stdout",
     "output_type": "stream",
     "text": [
      "NMI for Log1P Clusters method is: 0.21848833412166768\n",
      "NMI for NonZeroFraction Clusters method is: 0.2143362608825604\n",
      "NMI for RawCounts Clusters method is: 0.18613831604726722\n"
     ]
    }
   ],
   "source": [
    "# if batch correction is working, the NMI between cluster label and sample \n",
    "# will be higher in batch correction processing method and lower without batch correction\n",
    "for cluster_label in clusters:\n",
    "    score = NMI(meta[cluster_label], meta['Sample'])\n",
    "    print('NMI for ' + cluster_label.split('_')[0] + ' method is: {}'.format(score))"
   ]
  },
  {
   "cell_type": "code",
   "execution_count": 67,
   "id": "dated-motor",
   "metadata": {},
   "outputs": [
    {
     "name": "stdout",
     "output_type": "stream",
     "text": [
      "NMI for Log1P Clusters method is: 0.4676131727957071\n",
      "NMI for NonZeroFraction Clusters method is: 0.3893818069164669\n",
      "NMI for RawCounts Clusters method is: 0.32517066438163206\n"
     ]
    }
   ],
   "source": [
    "# if batch correction is working, we may also see an improvement \n",
    "# in the NMI between cluster label and cell type label in the batch correction method \n",
    "for cluster_label in clusters:\n",
    "    score = NMI(meta[cluster_label], meta['Cell Type'])\n",
    "    print('NMI for ' + cluster_label.split('_')[0] + ' method is: {}'.format(score))"
   ]
  }
 ],
 "metadata": {
  "kernelspec": {
   "display_name": "Python [conda env:cci_dt]",
   "language": "python",
   "name": "conda-env-cci_dt-py"
  },
  "language_info": {
   "codemirror_mode": {
    "name": "ipython",
    "version": 3
   },
   "file_extension": ".py",
   "mimetype": "text/x-python",
   "name": "python",
   "nbconvert_exporter": "python",
   "pygments_lexer": "ipython3",
   "version": "3.9.1"
  }
 },
 "nbformat": 4,
 "nbformat_minor": 5
}
