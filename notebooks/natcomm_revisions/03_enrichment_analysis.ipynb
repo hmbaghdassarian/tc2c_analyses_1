{
 "cells": [
  {
   "cell_type": "markdown",
   "id": "vocal-zambia",
   "metadata": {},
   "source": [
    "In response to reviewer #2 suggestion to add more downstream analyses options. \n",
    "\n",
    "Take the L-R factor loading values and run an enrichment analysis"
   ]
  },
  {
   "cell_type": "code",
   "execution_count": 11,
   "id": "special-publicity",
   "metadata": {},
   "outputs": [],
   "source": [
    "import pandas as pd\n",
    "import numpy as np\n",
    "\n",
    "import cell2cell as c2c\n",
    "\n",
    "import os\n",
    "import sys\n",
    "sys.path.insert(1, os.path.abspath(os.curdir))\n",
    "from utility import get_joint_loadings\n",
    "\n",
    "seed = 888\n",
    "np.random.seed(seed)\n",
    "data_path = '/data3/hratch/tc2c_analyses_1/natcomm_revisions/'"
   ]
  },
  {
   "cell_type": "code",
   "execution_count": 6,
   "id": "incorporate-giving",
   "metadata": {},
   "outputs": [],
   "source": [
    "# read in loadings (CodeOcean script 06, results/COVID-19/BALF-loadings.xlsx)\n",
    "\n",
    "balf_tensor = c2c.io.load_variable_with_pickle(data_path + 'processed/Tensor-BALF.pkl')"
   ]
  },
  {
   "cell_type": "code",
   "execution_count": 17,
   "id": "ready-election",
   "metadata": {},
   "outputs": [],
   "source": [
    "# get the joint distribution between sender cells and LR pair loadings for factor 8\n",
    "joint_dis_send = get_joint_loadings(balf_tensor, dim1 = 'LRs', dim2 = 'Sender', \n",
    "                              factor = 8)"
   ]
  },
  {
   "cell_type": "markdown",
   "id": "bibliographic-subscriber",
   "metadata": {},
   "source": [
    "we are interested in macrophages, and since these are senders, we can assume the joint distribution score represents the ligands:"
   ]
  },
  {
   "cell_type": "code",
   "execution_count": 30,
   "id": "challenging-vinyl",
   "metadata": {},
   "outputs": [],
   "source": [
    "cell_type = 'Macrophages'\n",
    "macrophage_scores = pd.DataFrame(data={'score': joint_dis_send[cell_type].tolist(),\n",
    "                                         'ligand': [lr_pair.split('^')[0] for lr_pair in joint_dis_send.index]})\n",
    "macrophage_scores = macrophage_scores.groupby('ligand').mean().sort_values(by = 'score', ascending = False)"
   ]
  },
  {
   "cell_type": "code",
   "execution_count": 40,
   "id": "assisted-morning",
   "metadata": {},
   "outputs": [
    {
     "ename": "NameError",
     "evalue": "name 'sns' is not defined",
     "output_type": "error",
     "traceback": [
      "\u001b[0;31m---------------------------------------------------------------------------\u001b[0m",
      "\u001b[0;31mNameError\u001b[0m                                 Traceback (most recent call last)",
      "\u001b[0;32m<ipython-input-40-398f1ce46194>\u001b[0m in \u001b[0;36m<module>\u001b[0;34m\u001b[0m\n\u001b[0;32m----> 1\u001b[0;31m \u001b[0msns\u001b[0m\u001b[0;34m.\u001b[0m\u001b[0mdistplot\u001b[0m\u001b[0;34m(\u001b[0m\u001b[0mmacrophage_scores\u001b[0m\u001b[0;34m)\u001b[0m\u001b[0;34m\u001b[0m\u001b[0;34m\u001b[0m\u001b[0m\n\u001b[0m",
      "\u001b[0;31mNameError\u001b[0m: name 'sns' is not defined"
     ]
    }
   ],
   "source": [
    "sns.distplot(macrophage_scores)"
   ]
  },
  {
   "cell_type": "code",
   "execution_count": null,
   "id": "centered-democrat",
   "metadata": {},
   "outputs": [],
   "source": []
  }
 ],
 "metadata": {
  "kernelspec": {
   "display_name": "Python [conda env:cci_dt] *",
   "language": "python",
   "name": "conda-env-cci_dt-py"
  },
  "language_info": {
   "codemirror_mode": {
    "name": "ipython",
    "version": 3
   },
   "file_extension": ".py",
   "mimetype": "text/x-python",
   "name": "python",
   "nbconvert_exporter": "python",
   "pygments_lexer": "ipython3",
   "version": "3.9.1"
  }
 },
 "nbformat": 4,
 "nbformat_minor": 5
}
