{
 "cells": [
  {
   "cell_type": "markdown",
   "id": "unable-fundamentals",
   "metadata": {},
   "source": [
    "Compare the downstream cellchat output of the covid balf dataset, rather than just the embedding (as done in cellchat_benchmark/05B), to get a better sense of the actual mechanistic differences in outputs. Focus on the \"functional\" analysis type. "
   ]
  },
  {
   "cell_type": "code",
   "execution_count": 1,
   "id": "romance-hampshire",
   "metadata": {},
   "outputs": [],
   "source": [
    "suppressPackageStartupMessages({\n",
    "    library(CellChat, quietly = T)\n",
    "    library(patchwork, quietly = T)\n",
    "    library(RhpcBLASctl, quietly = T)\n",
    "    library(Matrix, quietly = T)\n",
    "    library(data.table, quietly = T)\n",
    "})\n",
    "options(stringsAsFactors = FALSE)\n",
    "# RhpcBLASctl::blas_set_num_threads(25) # no multithreading\n",
    "\n",
    "# paths\n",
    "expression_data_path = '/data2/hratch/immune_CCI/covid/expression_data/covid_data/'#'/data2/eric/CCC-Benchmark/data/External/'\n",
    "external_expression_path = F # set to T if using commented out path , small parsing differences\n",
    "\n",
    "output_path = '/data2/hratch/immune_CCI/covid/balf_classification/'\n",
    "rev_path = '/data3/hratch/tc2c_analyses_1/natcomm_revisions/'\n",
    "input_data_path = '/data2/hratch/immune_CCI/covid/inputs/'\n",
    "\n",
    "# parameters\n",
    "type_<-'functional'#'structural'\n",
    "group<-0\n",
    "seed<-888\n",
    "\n",
    "if (external_expression_path){\n",
    "    cell_grouper<-'cell_type'\n",
    "}else{\n",
    "    cell_grouper<-'celltype'\n",
    "}"
   ]
  },
  {
   "cell_type": "code",
   "execution_count": null,
   "id": "innocent-seventh",
   "metadata": {},
   "outputs": [],
   "source": [
    "# do the downstream cellchat analysis of covid balf dataset with functional\n",
    "# cellchat object originally generated in cellchat_benchmark/05B...\n",
    "covid<-readRDS<-paste0(rev_path, 'interim/covid_balf_cellchat_', type_, '_',\n",
    "                               1, '.rds')\n",
    "\n",
    "# manually set embeddings to version 0 (see 05B markdown for details as to why)\n",
    "# load version 0 embeddings, format for cellchat object, and overwrite current embeddings\n",
    "embed_path = '/data2/hratch/immune_CCI/covid/balf_classification/'\n",
    "embed<-read.csv(paste0(embed_path, 'cellchat_embeddings_balf_', type_, '_',  0, '.csv'))\n",
    "embed<-embed[c('UMAP1', 'UMAP2', 'Sample', 'Signalling.Pathway')]\n",
    "rownames(embed)<-paste(embed$Signalling.Pathway, embed$Sample, sep = '--')\n",
    "embed<-as.matrix(embed[c('UMAP1', 'UMAP2')])\n",
    "covid@netP$similarity[[type_]]$dr[[1]]<-embed"
   ]
  },
  {
   "cell_type": "code",
   "execution_count": null,
   "id": "decreased-municipality",
   "metadata": {},
   "outputs": [],
   "source": []
  }
 ],
 "metadata": {
  "kernelspec": {
   "display_name": "R [conda env:cellchat] *",
   "language": "R",
   "name": "conda-env-cellchat-r"
  },
  "language_info": {
   "codemirror_mode": "r",
   "file_extension": ".r",
   "mimetype": "text/x-r-source",
   "name": "R",
   "pygments_lexer": "r",
   "version": "4.1.0"
  }
 },
 "nbformat": 4,
 "nbformat_minor": 5
}
