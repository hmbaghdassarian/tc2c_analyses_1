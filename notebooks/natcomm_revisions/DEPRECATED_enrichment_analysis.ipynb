{
 "cells": [
  {
   "cell_type": "markdown",
   "id": "vocal-zambia",
   "metadata": {},
   "source": [
    "In response to reviewer #2 suggestion to add more downstream analyses options. \n",
    "\n",
    "Take the L-R factor loading values and run an enrichment analysis"
   ]
  },
  {
   "cell_type": "code",
   "execution_count": 1,
   "id": "special-publicity",
   "metadata": {},
   "outputs": [],
   "source": [
    "import pandas as pd\n",
    "import numpy as np\n",
    "import seaborn as sns\n",
    "import matplotlib.pyplot as plt\n",
    "from collections import defaultdict\n",
    "\n",
    "import cell2cell as c2c\n",
    "\n",
    "import os\n",
    "import sys\n",
    "sys.path.insert(1, os.path.abspath(os.curdir))\n",
    "from utility import loading_ora\n",
    "\n",
    "seed = 888\n",
    "np.random.seed(seed)\n",
    "data_path = '/data3/hratch/tc2c_analyses_1/natcomm_revisions/'"
   ]
  },
  {
   "cell_type": "code",
   "execution_count": 2,
   "id": "incorporate-giving",
   "metadata": {},
   "outputs": [],
   "source": [
    "# read in loadings (CodeOcean script 06, results/COVID-19/BALF-loadings.xlsx)\n",
    "loadings = pd.read_excel(data_path + 'processed/BALF-Loadings.xlsx', \n",
    "                        sheet_name = 'LRs', index_col = 0)\n",
    "# balf_tensor = c2c.io.load_variable_with_pickle(data_path + 'processed/Tensor-BALF.pkl')\n",
    "# # get the joint distribution between sender cells and LR pair loadings for factor 8\n",
    "# joint_dis_send = get_joint_loadings(balf_tensor, dim1 = 'LRs', dim2 = 'Sender', \n",
    "#                               factor = 8)"
   ]
  },
  {
   "cell_type": "markdown",
   "id": "regulation-strength",
   "metadata": {},
   "source": [
    "Reviewer specifically suggests analyzing loadings for Factor 8"
   ]
  },
  {
   "cell_type": "code",
   "execution_count": 3,
   "id": "peripheral-brick",
   "metadata": {},
   "outputs": [],
   "source": [
    "factor8 = loadings['Factor 8']\n",
    "factor8 = factor8.sort_values(ascending = False)"
   ]
  },
  {
   "cell_type": "code",
   "execution_count": 4,
   "id": "detected-merchandise",
   "metadata": {},
   "outputs": [
    {
     "data": {
      "image/png": "[encoded data removed]",
      "text/plain": [
       "<Figure size 432x288 with 1 Axes>"
      ]
     },
     "metadata": {
      "needs_background": "light"
     },
     "output_type": "display_data"
    }
   ],
   "source": [
    "fig, ax = plt.subplots()\n",
    "g = sns.distplot(factor8, ax = ax, hist = False)\n",
    "ax.set_xscale('log')"
   ]
  },
  {
   "cell_type": "code",
   "execution_count": 5,
   "id": "postal-library",
   "metadata": {},
   "outputs": [
    {
     "name": "stdout",
     "output_type": "stream",
     "text": [
      "Removing bidirectionality of PPI network\n"
     ]
    }
   ],
   "source": [
    "# get the lr pairs\n",
    "lr_pairs = pd.read_csv('https://raw.githubusercontent.com/LewisLabUCSD/Ligand-Receptor-Pairs/master/Human/Human-2020-Jin-LR-pairs.csv')\n",
    "\n",
    "int_columns = ('ligand_symbol', 'receptor_symbol')\n",
    "lr_pairs = c2c.preprocessing.ppi.remove_ppi_bidirectionality(ppi_data=lr_pairs, \n",
    "                                                             interaction_columns=int_columns\n",
    "                                                             )\n",
    "# map lr pairs to their annotated pathway\n",
    "lr_functions = defaultdict(list)\n",
    "for idx, row in lr_pairs.iterrows():\n",
    "    ppi_label = row[int_columns[0]] + '^' + row[int_columns[1]]\n",
    "    lr_functions[row['pathway_name']].append(ppi_label)\n"
   ]
  },
  {
   "cell_type": "code",
   "execution_count": 7,
   "id": "friendly-copyright",
   "metadata": {},
   "outputs": [],
   "source": [
    "ora_res = loading_ora(lr_loadings=loadings['Factor 8'], \n",
    "           lr_functions=lr_functions, \n",
    "           percentile = 0.9)"
   ]
  },
  {
   "cell_type": "code",
   "execution_count": 8,
   "id": "choice-monaco",
   "metadata": {},
   "outputs": [
    {
     "name": "stdout",
     "output_type": "stream",
     "text": [
      "Of the 226 signalling pathways considered, 3 are enriched (FDR <= 0.1)\n"
     ]
    }
   ],
   "source": [
    "enriched = ora_res[ora_res.BH_FDR <= 0.1]\n",
    "print('Of the {} signalling pathways considered, {} are enriched (FDR <= 0.1)'.format(ora_res.shape[0], enriched.shape[0]))"
   ]
  },
  {
   "cell_type": "code",
   "execution_count": 9,
   "id": "floating-configuration",
   "metadata": {},
   "outputs": [
    {
     "data": {
      "text/html": [
       "<div>\n",
       "<style scoped>\n",
       "    .dataframe tbody tr th:only-of-type {\n",
       "        vertical-align: middle;\n",
       "    }\n",
       "\n",
       "    .dataframe tbody tr th {\n",
       "        vertical-align: top;\n",
       "    }\n",
       "\n",
       "    .dataframe thead th {\n",
       "        text-align: right;\n",
       "    }\n",
       "</style>\n",
       "<table border=\"1\" class=\"dataframe\">\n",
       "  <thead>\n",
       "    <tr style=\"text-align: right;\">\n",
       "      <th></th>\n",
       "      <th>Term</th>\n",
       "      <th>Gene Ratio</th>\n",
       "      <th>BG Ratio</th>\n",
       "      <th>p_val</th>\n",
       "      <th>BH_FDR</th>\n",
       "    </tr>\n",
       "  </thead>\n",
       "  <tbody>\n",
       "    <tr>\n",
       "      <th>20</th>\n",
       "      <td>CCL</td>\n",
       "      <td>0.473684</td>\n",
       "      <td>0.033216</td>\n",
       "      <td>0.0</td>\n",
       "      <td>0.0</td>\n",
       "    </tr>\n",
       "    <tr>\n",
       "      <th>61</th>\n",
       "      <td>SPP1</td>\n",
       "      <td>0.263158</td>\n",
       "      <td>0.004529</td>\n",
       "      <td>0.0</td>\n",
       "      <td>0.000001</td>\n",
       "    </tr>\n",
       "    <tr>\n",
       "      <th>110</th>\n",
       "      <td>ANNEXIN</td>\n",
       "      <td>0.105263</td>\n",
       "      <td>0.001007</td>\n",
       "      <td>0.000087</td>\n",
       "      <td>0.006529</td>\n",
       "    </tr>\n",
       "  </tbody>\n",
       "</table>\n",
       "</div>"
      ],
      "text/plain": [
       "        Term Gene Ratio  BG Ratio     p_val    BH_FDR\n",
       "20       CCL   0.473684  0.033216       0.0       0.0\n",
       "61      SPP1   0.263158  0.004529       0.0  0.000001\n",
       "110  ANNEXIN   0.105263  0.001007  0.000087  0.006529"
      ]
     },
     "execution_count": 9,
     "metadata": {},
     "output_type": "execute_result"
    }
   ],
   "source": [
    "enriched"
   ]
  }
 ],
 "metadata": {
  "kernelspec": {
   "display_name": "Python [conda env:cci_dt] *",
   "language": "python",
   "name": "conda-env-cci_dt-py"
  },
  "language_info": {
   "codemirror_mode": {
    "name": "ipython",
    "version": 3
   },
   "file_extension": ".py",
   "mimetype": "text/x-python",
   "name": "python",
   "nbconvert_exporter": "python",
   "pygments_lexer": "ipython3",
   "version": "3.9.1"
  }
 },
 "nbformat": 4,
 "nbformat_minor": 5
}
