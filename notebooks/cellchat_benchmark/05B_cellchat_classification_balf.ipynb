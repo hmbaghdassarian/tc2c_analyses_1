{
 "cells": [
  {
   "cell_type": "code",
   "execution_count": 1,
   "id": "allied-disposal",
   "metadata": {},
   "outputs": [],
   "source": [
    "suppressPackageStartupMessages({\n",
    "    library(CellChat, quietly = T)\n",
    "    library(patchwork, quietly = T)\n",
    "    library(RhpcBLASctl, quietly = T)\n",
    "    library(Matrix, quietly = T)\n",
    "    library(data.table, quietly = T)\n",
    "})\n",
    "options(stringsAsFactors = FALSE)\n",
    "source('embedding_seed_utils.r') # for non-stochastic embeddings\n",
    "# RhpcBLASctl::blas_set_num_threads(25) # no multithreading"
   ]
  },
  {
   "cell_type": "code",
   "execution_count": 2,
   "id": "governing-lesbian",
   "metadata": {},
   "outputs": [],
   "source": [
    "# paths\n",
    "expression_data_path = '/data2/hratch/immune_CCI/covid/expression_data/covid_data/'#'/data2/eric/CCC-Benchmark/data/External/'\n",
    "external_expression_path = F # set to T if using commented out path , small parsing differences\n",
    "\n",
    "output_path = '/data2/hratch/immune_CCI/covid/balf_classification/'\n",
    "rev_path = '/data3/hratch/tc2c_analyses_1/natcomm_revisions/'\n",
    "input_data_path = '/data2/hratch/immune_CCI/covid/inputs/'\n",
    "\n",
    "# parameters\n",
    "type_<-'functional'#'structural'\n",
    "group<-0\n",
    "version<-1 #0<--didn't have seeds properly set, used for classifier (see markdown for details)\n",
    "seed<-888L\n",
    "set.seed(seed)\n",
    "\n",
    "if (external_expression_path){\n",
    "    cell_grouper<-'cell_type'\n",
    "}else{\n",
    "    cell_grouper<-'celltype'\n",
    "}"
   ]
  },
  {
   "cell_type": "markdown",
   "id": "cathedral-moses",
   "metadata": {},
   "source": [
    "Load data:"
   ]
  },
  {
   "cell_type": "code",
   "execution_count": 3,
   "id": "incorporated-edwards",
   "metadata": {},
   "outputs": [],
   "source": [
    "humandb<-CellChatDB.human\n",
    "\n",
    "fns = list()\n",
    "for (fn in list.files(expression_data_path)){\n",
    "    sn = strsplit(fn, '_')[[1]]\n",
    "    sample.name = sn[[2]]\n",
    "    type = sn[[1]]\n",
    "    fns[[sample.name]][[type]] = fn\n",
    "}\n",
    "sample.names<-names(fns)"
   ]
  },
  {
   "cell_type": "code",
   "execution_count": 6,
   "id": "adjusted-rainbow",
   "metadata": {},
   "outputs": [],
   "source": [
    "# load the UMI counts\n",
    "read_sample_csv<-function(sn){\n",
    "    counts<-as.data.frame(fread(paste0(expression_data_path, fns[[sn]]$DGE)))\n",
    "    rownames(counts)<-counts$Gene\n",
    "    counts<-counts[ , !(colnames(counts) %in% c('Gene'))]\n",
    "    if(external_expression_path){colnames(counts)<-paste0(sn, '.', colnames(counts))} # consistency with metadata\n",
    "    return(as.matrix(counts))\n",
    "}\n",
    "\n",
    "read_meta<-function(sn){\n",
    "    meta<-read.csv(paste0(expression_data_path, fns[[sn]]$Meta))\n",
    "    rownames(meta) = meta$Cell\n",
    "    return(meta)\n",
    "}\n",
    "\n",
    "\n",
    "if (!group){                             \n",
    "    counts<-lapply(setNames(sample.names, sample.names), function(sn) read_sample_csv(sn))\n",
    "    meta<-lapply(setNames(sample.names, sample.names), function(sn) read_meta(sn))\n",
    "                                  \n",
    "}else{ # group by context\n",
    "    stop('Should not group by context for classification')        \n",
    "}\n",
    "\n",
    "md.cell<-do.call(\"rbind\", meta)\n",
    "if (!external_expression_path){rownames(md.cell)<-md.cell$ID}\n",
    "if (type_ == 'functional'){# functional requires same cell types to work                \n",
    "    # filter for intersection of cell types across samples/contexts - to make comparable with Tensor-cell2cell\n",
    "    cell.types<-Reduce(intersect, lapply(counts, function(df) unique(md.cell[colnames(df), cell_grouper])))\n",
    "    cell.ids<-rownames(md.cell[md.cell[[cell_grouper]] %in% cell.types, ])   \n",
    "    for (n in names(counts)){\n",
    "        df<-counts[[n]]\n",
    "        counts[[n]]<-df[,colnames(df) %in% cell.ids]\n",
    "    }\n",
    "}       "
   ]
  },
  {
   "cell_type": "markdown",
   "id": "centered-atmosphere",
   "metadata": {},
   "source": [
    "Run cellchat:"
   ]
  },
  {
   "cell_type": "code",
   "execution_count": null,
   "id": "based-location",
   "metadata": {},
   "outputs": [],
   "source": [
    "suppressWarnings({\n",
    "    suppressMessages({\n",
    "        # create cellchat object for each sample or sample.name\n",
    "        covid.list<-list()\n",
    "        for (sample.name in names(counts)){\n",
    "            print(sample.name)\n",
    "            # loop through each sample.name and create a cell type future\n",
    "            expr<-CellChat::normalizeData(counts[[sample.name]])\n",
    "            cellchat<-createCellChat(object = as(expr, \"dgCMatrix\"), meta = md.cell[colnames(expr),], \n",
    "                                           group.by = cell_grouper)\n",
    "            cellchat@DB <- humandb # human organism\n",
    "\n",
    "            cellchat <- subsetData(cellchat) # subset the expression data of signaling genes, assign to @data.signalling \n",
    "            cellchat <- identifyOverExpressedGenes(cellchat)\n",
    "            cellchat <- identifyOverExpressedInteractions(cellchat) # generate @ LR slot used by computeCommunProb\n",
    "            cellchat <- projectData(cellchat, PPI.human) # shallow sequencing depth\n",
    "\n",
    "            cellchat <- computeCommunProb(cellchat, raw.use = F, type = 'triMean', trim = NULL, seed.use = seed, \n",
    "                                         population.size = F) \n",
    "\n",
    "            # The functional similarity analysis requires the same cell population composition between two datasets.\n",
    "            cellchat <- filterCommunication(cellchat, min.cells = 10)\n",
    "            cellchat <- computeCommunProbPathway(cellchat)\n",
    "            covid.list[[sample.name]]<-cellchat\n",
    "        }\n",
    "        print('merge')\n",
    "        # merge and analyze\n",
    "        cellchat <- mergeCellChat(covid.list, add.names = names(covid.list))\n",
    "        cellchat <- computeNetSimilarityPairwise(cellchat, type = type_)\n",
    "        cellchat.embed <- netEmbedding2(cellchat, type = type_, seed.use = seed)\n",
    "    })\n",
    "})\n",
    "print('complete')"
   ]
  },
  {
   "cell_type": "markdown",
   "id": "narrative-visitor",
   "metadata": {},
   "source": [
    "Some notes on reproducibility: \n",
    "\n",
    "When we first ran this code (version = 0), we used netEmbedding which apparently outputs stochastic UMAP embeddings (the code for default setting seed to 42 doesn't work). Thus, I've modified the relevant functions to properly take in seeds in './embedding_seed_utils.r'. \n",
    "\n",
    "-To reproduce classification analyses, use the version 0 saved embeddings as input. We saved these embeddings to input to classifiers, but had assumed seeds were appropriately working otherwise which is not the case. \n",
    "\n",
    "-We also didn't save the actual cellchat object the first time we ran this, so in the natcomm_revisions/01_ script, we manually replace the embeddings with the version 0 script for consistency in downstream analyses. "
   ]
  },
  {
   "cell_type": "code",
   "execution_count": null,
   "id": "editorial-somewhere",
   "metadata": {},
   "outputs": [],
   "source": [
    "# for natcomm_revisions/01_cellchat_covid_balf.ipynb\n",
    "saveRDS(cellchat.embed, paste0(rev_path, 'interim/covid_balf_cellchat_', type_, '_',\n",
    "                               version, '.rds'))\n",
    "\n",
    "# other than the stochastic UMAP from version 0, generated cellchat objects are identical"
   ]
  },
  {
   "cell_type": "code",
   "execution_count": 17,
   "id": "billion-secret",
   "metadata": {},
   "outputs": [],
   "source": [
    "embed<-cellchat.embed@netP$similarity[[type_]]$dr[[1]]\n",
    "idx<-rownames(embed)\n",
    "rownames(embed)<-1:dim(embed)[[1]]\n",
    "embed<-as.data.frame(embed)\n",
    "\n",
    "embed[['Sample']]<-sapply(strsplit(idx, '--'), function(x) x[[2]])\n",
    "embed[['Signalling.Pathway']]<-sapply(strsplit(idx, '--'), function(x) x[[1]])\n",
    " \n",
    "if (external_expression_path){\n",
    "    samp.cat<-'severity'\n",
    "}else{samp.cat<-'sample_new'}                            \n",
    "sample_context_map<-list()\n",
    "for (sn in sample.names){\n",
    "    context<-unique(md.cell[md.cell$sample == sn,samp.cat])\n",
    "    if (length(context) != 1){stop('Incorred sample to context mapping')}\n",
    "    sample_context_map[[sn]]<-context\n",
    "}  \n",
    "                                      \n",
    "embed[['Context']]<-unlist(unname(sample_context_map[embed[['Sample']]]))   \n",
    "                                      \n",
    "write.csv(embed, paste0(output_path, paste0('cellchat_embeddings_balf_', type_, '_', \n",
    "                                            version, '.csv')))\n"
   ]
  }
 ],
 "metadata": {
  "kernelspec": {
   "display_name": "R [conda env:cellchat] *",
   "language": "R",
   "name": "conda-env-cellchat-r"
  },
  "language_info": {
   "codemirror_mode": "r",
   "file_extension": ".r",
   "mimetype": "text/x-r-source",
   "name": "R",
   "pygments_lexer": "r",
   "version": "4.1.0"
  }
 },
 "nbformat": 4,
 "nbformat_minor": 5
}
