{
 "cells": [
  {
   "cell_type": "code",
   "execution_count": 1,
   "id": "allied-disposal",
   "metadata": {},
   "outputs": [],
   "source": [
    "suppressPackageStartupMessages({\n",
    "    library(CellChat, quietly = T)\n",
    "    library(patchwork, quietly = T)\n",
    "    library(RhpcBLASctl, quietly = T)\n",
    "    library(Matrix, quietly = T)\n",
    "    library(data.table, quietly = T)\n",
    "})\n",
    "options(stringsAsFactors = FALSE)\n",
    "# RhpcBLASctl::blas_set_num_threads(25) # no multithreading"
   ]
  },
  {
   "cell_type": "code",
   "execution_count": 2,
   "id": "governing-lesbian",
   "metadata": {},
   "outputs": [],
   "source": [
    "# paths\n",
    "expression_data_path = '/data2/eric/CCC-Benchmark/data/External/'#'/data2/hratch/immune_CCI/covid/expression_data/'\n",
    "output_path = '/data2/hratch/immune_CCI/covid/balf_classification/'\n",
    "input_data_path = '/data2/hratch/immune_CCI/covid/inputs/'\n",
    "\n",
    "# parameters\n",
    "type_<-'functional'#'structural'\n",
    "cell_grouper<-'cell_type'\n",
    "group<-0\n",
    "seed<-888"
   ]
  },
  {
   "cell_type": "markdown",
   "id": "cathedral-moses",
   "metadata": {},
   "source": [
    "Load data:"
   ]
  },
  {
   "cell_type": "code",
   "execution_count": 3,
   "id": "incorporated-edwards",
   "metadata": {},
   "outputs": [],
   "source": [
    "humandb<-CellChatDB.human\n",
    "\n",
    "fns = list()\n",
    "for (fn in list.files(expression_data_path)){\n",
    "    sn = strsplit(fn, '_')[[1]]\n",
    "    sample.name = sn[[2]]\n",
    "    type = sn[[1]]\n",
    "    fns[[sample.name]][[type]] = fn\n",
    "}\n",
    "sample.names<-names(fns)"
   ]
  },
  {
   "cell_type": "code",
   "execution_count": 5,
   "id": "adjusted-rainbow",
   "metadata": {},
   "outputs": [],
   "source": [
    "# load the UMI counts\n",
    "read_sample_csv<-function(sn){\n",
    "    counts<-as.data.frame(fread(paste0(expression_data_path, fns[[sn]]$DGE)))\n",
    "    rownames(counts)<-counts$Gene\n",
    "    counts<-counts[ , !(colnames(counts) %in% c('Gene'))]\n",
    "    colnames(counts)<-paste0(sn, '.', colnames(counts)) # consistency with metadata\n",
    "    return(as.matrix(counts))\n",
    "}\n",
    "\n",
    "read_meta<-function(sn){\n",
    "    meta<-read.csv(paste0(expression_data_path, fns[[sn]]$Meta))\n",
    "    rownames(meta) = meta$Cell\n",
    "    return(meta)\n",
    "}\n",
    "\n",
    "\n",
    "if (!group){                             \n",
    "    counts<-lapply(setNames(sample.names, sample.names), function(sn) read_sample_csv(sn))\n",
    "    meta<-lapply(setNames(sample.names, sample.names), function(sn) read_meta(sn))\n",
    "                                  \n",
    "}else{ # group by context\n",
    "    stop('Should not group by context for classification')        \n",
    "}\n",
    "\n",
    "md.cell<-do.call(\"rbind\", meta)\n",
    "if (type_ == 'functional'){# functional requires same cell types to work                \n",
    "    # filter for intersection of cell types across samples/contexts - to make comparable with Tensor-cell2cell\n",
    "    cell.types<-Reduce(intersect, lapply(counts, function(df) unique(md.cell[colnames(df), cell_grouper])))\n",
    "    cell.ids<-rownames(md.cell[md.cell[[cell_grouper]] %in% cell.types, ])   \n",
    "    for (n in names(counts)){\n",
    "        df<-counts[[n]]\n",
    "        counts[[n]]<-df[,colnames(df) %in% cell.ids]\n",
    "    }\n",
    "}       "
   ]
  },
  {
   "cell_type": "markdown",
   "id": "centered-atmosphere",
   "metadata": {},
   "source": [
    "Run cellchat:"
   ]
  },
  {
   "cell_type": "code",
   "execution_count": 13,
   "id": "based-location",
   "metadata": {},
   "outputs": [
    {
     "name": "stdout",
     "output_type": "stream",
     "text": [
      "The cell groups used for CellChat analysis are  B Epithelial Macrophages mDC NK T \n",
      "The cell-cell communication related with the following cell groups are excluded due to the few number of cells:  B \n",
      "The cell groups used for CellChat analysis are  B Epithelial Macrophages mDC NK T \n",
      "Compute signaling network similarity for datasets 1 2 \n",
      "Manifold learning of the signaling networks for datasets 1 2 \n"
     ]
    }
   ],
   "source": [
    "suppressWarnings({\n",
    "    suppressMessages({\n",
    "        # create cellchat object for each sample or sample.name\n",
    "        covid.list<-list()\n",
    "        for (sample.name in names(counts)){\n",
    "            # loop through each sample.name and create a cell type future\n",
    "            expr<-CellChat::normalizeData(counts[[sample.name]])\n",
    "            cellchat<-createCellChat(object = as(expr, \"dgCMatrix\"), meta = md.cell[colnames(expr),], \n",
    "                                           group.by = cell_grouper)\n",
    "            cellchat@DB <- humandb # human organism\n",
    "\n",
    "            cellchat <- subsetData(cellchat) # subset the expression data of signaling genes, assign to @data.signalling \n",
    "            cellchat <- identifyOverExpressedGenes(cellchat)\n",
    "            cellchat <- identifyOverExpressedInteractions(cellchat) # generate @ LR slot used by computeCommunProb\n",
    "            cellchat <- projectData(cellchat, PPI.human) # shallow sequencing depth\n",
    "\n",
    "            cellchat <- computeCommunProb(cellchat, raw.use = F, type = 'triMean', trim = NULL, seed.use = seed, \n",
    "                                         population.size = F) \n",
    "\n",
    "            # The functional similarity analysis requires the same cell population composition between two datasets.\n",
    "            cellchat <- filterCommunication(cellchat, min.cells = 10)\n",
    "            cellchat <- computeCommunProbPathway(cellchat)\n",
    "            covid.list[[sample.name]]<-cellchat\n",
    "        }\n",
    "\n",
    "        # merge and analyze\n",
    "        cellchat <- mergeCellChat(covid.list, add.names = names(covid.list))\n",
    "        cellchat <- computeNetSimilarityPairwise(cellchat, type = type_)\n",
    "        cellchat.embed <- netEmbedding(cellchat, type = type_)\n",
    "    })\n",
    "})"
   ]
  },
  {
   "cell_type": "code",
   "execution_count": null,
   "id": "billion-secret",
   "metadata": {},
   "outputs": [],
   "source": [
    "embed<-cellchat.embed@netP$similarity[[type_]]$dr[[1]]\n",
    "idx<-rownames(embed)\n",
    "rownames(embed)<-1:dim(embed)[[1]]\n",
    "embed<-as.data.frame(embed)\n",
    "\n",
    "embed[['Sample']]<-sapply(strsplit(idx, '--'), function(x) x[[2]])\n",
    "embed[['Signalling.Pathway']]<-sapply(strsplit(idx, '--'), function(x) x[[1]])\n",
    " \n",
    "                                      \n",
    "sample_context_map<-list()\n",
    "for (sn in sample.names){\n",
    "    context<-unique(md.cell[md.cell$sample == sn,'severity'])\n",
    "    if (length(context) != 1){stop('Incorred sample to context mapping')}\n",
    "    sample_context_map[[sn]]<-context\n",
    "}  \n",
    "                                      \n",
    "embed[['Context']]<-unlist(unname(sample_context_map[embed[['Sample']]]))   \n",
    "                                      \n",
    "write.csv(embed, paste0(output_path, paste0('cellchat_embeddings_balf_', type_, '.csv')))"
   ]
  }
 ],
 "metadata": {
  "kernelspec": {
   "display_name": "R [conda env:cellchat] *",
   "language": "R",
   "name": "conda-env-cellchat-r"
  },
  "language_info": {
   "codemirror_mode": "r",
   "file_extension": ".r",
   "mimetype": "text/x-r-source",
   "name": "R",
   "pygments_lexer": "r",
   "version": "4.1.0"
  }
 },
 "nbformat": 4,
 "nbformat_minor": 5
}
