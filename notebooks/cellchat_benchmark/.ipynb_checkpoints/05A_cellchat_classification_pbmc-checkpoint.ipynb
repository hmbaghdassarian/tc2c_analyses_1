{
 "cells": [
  {
   "cell_type": "code",
   "execution_count": 1,
   "id": "coordinated-playlist",
   "metadata": {},
   "outputs": [],
   "source": [
    "suppressPackageStartupMessages({\n",
    "    library(CellChat, quietly = T)\n",
    "    library(patchwork, quietly = T)\n",
    "    library(RhpcBLASctl, quietly = T)\n",
    "    library(Matrix, quietly = T)\n",
    "    library(rhdf5, quietly = T)\n",
    "    library(stringr, quietly = T)\n",
    "})\n",
    "options(stringsAsFactors = FALSE)\n",
    "# RhpcBLASctl::blas_set_num_threads(25) # no multithreading"
   ]
  },
  {
   "cell_type": "code",
   "execution_count": 1,
   "id": "owned-flood",
   "metadata": {},
   "outputs": [],
   "source": [
    "# paths\n",
    "input_path = '/data2/hratch/immune_CCI/covid/covid_atlas/interim/classification_inputs/'\n",
    "samples_path = '/data2/hratch/immune_CCI/covid/covid_atlas/interim/timing_inputs/'\n",
    "output_path = '/data2/hratch/immune_CCI/covid/covid_atlas/interim/'\n",
    "\n",
    "\n",
    "# parameters\n",
    "type_<-'functional'#'structural'\n",
    "cell_grouper<-'majorType'\n",
    "number<-60\n",
    "group<-0\n",
    "seed<-888"
   ]
  },
  {
   "cell_type": "markdown",
   "id": "tamil-closure",
   "metadata": {},
   "source": [
    "Load data:"
   ]
  },
  {
   "cell_type": "code",
   "execution_count": 3,
   "id": "experimental-shape",
   "metadata": {},
   "outputs": [],
   "source": [
    "samples<-read.csv(paste0(samples_path, 'samples_for_timing.csv'))\n",
    "sample.names<-unlist(strsplit(samples[samples$n_samples == number, 'sample_names'], '; '))\n",
    "\n",
    "humandb<-CellChatDB.human\n",
    "\n",
    "# load metadata\n",
    "md.cell <- read.csv(paste0(input_path,'metadata.csv'), row.names = 1)"
   ]
  },
  {
   "cell_type": "code",
   "execution_count": 5,
   "id": "heavy-relay",
   "metadata": {},
   "outputs": [],
   "source": [
    "# load the UMI counts\n",
    "read_sample_h5<-function(sn){\n",
    "    counts<-h5read(paste0(input_path, 'umi_per_sample.h5'), sn)\n",
    "    count<-counts[[4]]\n",
    "    colnames(count)<-counts[[2]]\n",
    "    rownames(count)<-sapply(counts[[1]], function(x) str_replace_all(x, '-', '.')) \n",
    "    return(count)\n",
    "}\n",
    "\n",
    "\n",
    "if (!group){                             \n",
    "    counts<-lapply(setNames(sample.names, sample.names), function(sn) read_sample_h5(sn))\n",
    "                                  \n",
    "}else{ # group by context\n",
    "    stop('Should not group by context for classification')        \n",
    "}\n",
    "\n",
    "if (type_ == 'functional'){# functional requires same cell types to work                \n",
    "    # filter for intersection of cell types across samples/contexts - to make comparable with Tensor-cell2cell\n",
    "    cell.types<-Reduce(intersect, lapply(counts, function(df) unique(md.cell[colnames(df), cell_grouper])))\n",
    "    cell.ids<-rownames(md.cell[md.cell[[cell_grouper]] %in% cell.types, ])   \n",
    "    for (n in names(counts)){\n",
    "        df<-counts[[n]]\n",
    "        counts[[n]]<-df[,colnames(df) %in% cell.ids]\n",
    "    }\n",
    "}                                         "
   ]
  },
  {
   "cell_type": "markdown",
   "id": "interesting-carbon",
   "metadata": {},
   "source": [
    "Run cellchat:"
   ]
  },
  {
   "cell_type": "code",
   "execution_count": 6,
   "id": "subtle-twins",
   "metadata": {},
   "outputs": [
    {
     "name": "stdout",
     "output_type": "stream",
     "text": [
      "The cell groups used for CellChat analysis are  B CD4 CD8 DC Mega Mono NK Plasma \n",
      "The cell-cell communication related with the following cell groups are excluded due to the few number of cells:  Mega \n",
      "The cell groups used for CellChat analysis are  B CD4 CD8 DC Mega Mono NK Plasma \n",
      "Compute signaling network similarity for datasets 1 2 \n",
      "Manifold learning of the signaling networks for datasets 1 2 \n"
     ]
    }
   ],
   "source": [
    "suppressWarnings({\n",
    "    suppressMessages({\n",
    "        # create cellchat object for each sample or sample.name\n",
    "        covid.list<-list()\n",
    "        for (sample.name in names(counts)){\n",
    "            # loop through each sample.name and create a cell type future\n",
    "            expr<-CellChat::normalizeData(counts[[sample.name]])\n",
    "            cellchat<-createCellChat(object = as(expr, \"dgCMatrix\"), meta = md.cell[colnames(expr),], \n",
    "                                           group.by = cell_grouper)\n",
    "            cellchat@DB <- humandb # human organism\n",
    "\n",
    "            cellchat <- subsetData(cellchat) # subset the expression data of signaling genes, assign to @data.signalling \n",
    "            cellchat <- identifyOverExpressedGenes(cellchat)\n",
    "            cellchat <- identifyOverExpressedInteractions(cellchat) # generate @ LR slot used by computeCommunProb\n",
    "            cellchat <- projectData(cellchat, PPI.human) # shallow sequencing depth\n",
    "\n",
    "            cellchat <- computeCommunProb(cellchat, raw.use = F, type = 'triMean', trim = NULL, seed.use = seed, \n",
    "                                         population.size = F) \n",
    "\n",
    "            # The functional similarity analysis requires the same cell population composition between two datasets.\n",
    "            cellchat <- filterCommunication(cellchat, min.cells = 10)\n",
    "            cellchat <- computeCommunProbPathway(cellchat)\n",
    "            covid.list[[sample.name]]<-cellchat\n",
    "        }\n",
    "        saveRDS(covid.list, paste0(output_path, 'cellchat_classifier_premerge_', type_, '.rds'))\n",
    "        print('Saving of object complete')\n",
    "        # merge and analyze\n",
    "        cellchat <- mergeCellChat(covid.list, add.names = names(covid.list))\n",
    "        cellchat <- computeNetSimilarityPairwise(cellchat, type = type_)\n",
    "        cellchat.embed <- netEmbedding(cellchat, type = type_)\n",
    "    })\n",
    "})\n",
    "\n",
    "# test<-lapply(covid.list, function(x) liftCellChat(x, levels(x@idents)))\n",
    "# structural works on different cell types, functional does not, even with \"liftCellChat\""
   ]
  },
  {
   "cell_type": "code",
   "execution_count": 7,
   "id": "linear-polls",
   "metadata": {},
   "outputs": [],
   "source": [
    "embed<-cellchat.embed@netP$similarity[[type_]]$dr[[1]]\n",
    "idx<-rownames(embed)\n",
    "rownames(embed)<-1:dim(embed)[[1]]\n",
    "embed<-as.data.frame(embed)\n",
    "\n",
    "embed[['Sample']]<-sapply(strsplit(idx, '--'), function(x) x[[2]])\n",
    "embed[['Signalling.Pathway']]<-sapply(strsplit(idx, '--'), function(x) x[[1]])\n",
    "\n",
    "sample_context_map<-list()\n",
    "for (sn in sample.names){\n",
    "    context<-unique(md.cell[md.cell$sampleID == sn,'CoVID.19.severity'])\n",
    "    if (length(context) != 1){stop('Incorred sample to context mapping')}\n",
    "    sample_context_map[[sn]]<-context\n",
    "}  \n",
    "embed[['Context']]<-unlist(unname(sample_context_map[embed[['Sample']]]))                                       \n",
    "write.csv(embed, paste0(output_path, paste0('cellchat_embeddings_pbmc_', type_, '.csv')))                                      "
   ]
  }
 ],
 "metadata": {
  "kernelspec": {
   "display_name": "R [conda env:cellchat] *",
   "language": "R",
   "name": "conda-env-cellchat-r"
  },
  "language_info": {
   "codemirror_mode": "r",
   "file_extension": ".r",
   "mimetype": "text/x-r-source",
   "name": "R",
   "pygments_lexer": "r",
   "version": "4.1.0"
  }
 },
 "nbformat": 4,
 "nbformat_minor": 5
}
