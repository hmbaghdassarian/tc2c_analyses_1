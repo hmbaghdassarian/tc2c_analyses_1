{
 "cells": [
  {
   "cell_type": "code",
   "execution_count": 17,
   "id": "horizontal-colombia",
   "metadata": {},
   "outputs": [],
   "source": [
    "import os\n",
    "\n",
    "from googleapiclient.http import MediaIoBaseDownload\n",
    "from googleapiclient.discovery import build\n",
    "from apiclient import discovery\n",
    "from httplib2 import Http\n",
    "import oauth2client\n",
    "from oauth2client import file, client, tools\n",
    "\n",
    "\n",
    "data_path = '/data2/hratch/immune_CCI/covid/covid_atlas/'\n",
    "root_path = '/home/hratch/Projects/c2c_sim/cellchat_for_tensor/'"
   ]
  },
  {
   "cell_type": "code",
   "execution_count": 18,
   "id": "engaging-leader",
   "metadata": {},
   "outputs": [],
   "source": [
    "# https://www.ncbi.nlm.nih.gov/geo/query/acc.cgi?acc=GSE158055"
   ]
  },
  {
   "cell_type": "code",
   "execution_count": 19,
   "id": "combined-swift",
   "metadata": {},
   "outputs": [],
   "source": [
    "hls = ['https://ftp.ncbi.nlm.nih.gov/geo/series/GSE158nnn/GSE158055/suppl/GSE158055%5Fcovid19%5Fcounts%2Emtx%2Egz',\n",
    "       'https://ftp.ncbi.nlm.nih.gov/geo/series/GSE158nnn/GSE158055/suppl/GSE158055%5Fcell%5Fannotation%2Ecsv%2Egz',\n",
    "       'https://ftp.ncbi.nlm.nih.gov/geo/series/GSE158nnn/GSE158055/suppl/GSE158055%5Fsample%5Fmetadata%2Exlsx',\n",
    "       'https://ftp.ncbi.nlm.nih.gov/geo/series/GSE158nnn/GSE158055/suppl/GSE158055%5Fcovid19%5Fbarcodes%2Etsv%2Egz',\n",
    "       'https://ftp.ncbi.nlm.nih.gov/geo/series/GSE158nnn/GSE158055/suppl/GSE158055%5Fcovid19%5Ffeatures%2Etsv%2Egz'\n",
    "      ]\n",
    "for hl in hls:\n",
    "    cmd = 'wget -P ' + data_path + 'raw/ ' + hl \n",
    "    os.system(cmd)"
   ]
  },
  {
   "cell_type": "code",
   "execution_count": 33,
   "id": "worthy-dragon",
   "metadata": {},
   "outputs": [],
   "source": [
    "# https://stackoverflow.com/questions/37453841/download-a-file-from-google-drive-using-wget\n",
    "hl = 'https://drive.google.com/u/2/open?id=1IwWcn4W-YKgNbz4DpNweM2cKxlx1hbM0'\n",
    "file_id = '1IwWcn4W-YKgNbz4DpNweM2cKxlx1hbM0'\n",
    "# git clone https://github.com/chentinghao/download_google_drive.git@e1097f50e631043f8f0d5d23b0fee2b6cb3eaa9b\n",
    "downloader = '/data2/hratch/Software/download_google_drive/' \n",
    "cmd = 'python ' + downloader + 'download_gdrive.py ' + file_id + ' ' + data_path + 'raw/COVID19_ALL.h5ad.tar.gz'\n",
    "os.system(cmd)\n",
    "\n",
    "# unzip\n",
    "cmd = 'tar -xvzf ' + data_path + 'raw/COVID19_ALL.h5ad.tar.gz ' +  '-C ' + data_path + 'raw/'\n",
    "os.system(cmd)"
   ]
  }
 ],
 "metadata": {
  "kernelspec": {
   "display_name": "Python [conda env:cellchat] *",
   "language": "python",
   "name": "conda-env-cellchat-py"
  },
  "language_info": {
   "codemirror_mode": {
    "name": "ipython",
    "version": 3
   },
   "file_extension": ".py",
   "mimetype": "text/x-python",
   "name": "python",
   "nbconvert_exporter": "python",
   "pygments_lexer": "ipython3",
   "version": "3.9.2"
  }
 },
 "nbformat": 4,
 "nbformat_minor": 5
}
