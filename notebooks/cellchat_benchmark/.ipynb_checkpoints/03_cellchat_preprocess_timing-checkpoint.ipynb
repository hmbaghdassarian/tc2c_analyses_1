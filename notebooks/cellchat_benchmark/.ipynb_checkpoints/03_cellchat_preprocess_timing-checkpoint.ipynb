{
 "cells": [
  {
   "cell_type": "code",
   "execution_count": 1,
   "id": "aquatic-defeat",
   "metadata": {},
   "outputs": [],
   "source": [
    "suppressPackageStartupMessages({\n",
    "    library(CellChat)\n",
    "    library(patchwork)\n",
    "    library(RhpcBLASctl)\n",
    "    library(Matrix)\n",
    "})\n",
    "options(stringsAsFactors = FALSE)\n",
    "input_path_timing = '/data2/hratch/immune_CCI/covid/covid_atlas/interim/timing_inputs/'"
   ]
  },
  {
   "cell_type": "code",
   "execution_count": 2,
   "id": "adolescent-context",
   "metadata": {},
   "outputs": [],
   "source": [
    "md.cell <- read.csv(paste0(input_path_timing,'metadata_for_timing.csv'), row.names = 1)\n",
    "\n",
    "sample_names<-unique(md.cell$sampleID)\n",
    "sample_context_map<-list()\n",
    "for (sn in sample_names){\n",
    "    context<-unique(md.cell[md.cell$sampleID == sn,'CoVID.19.severity'])\n",
    "    if (length(context) != 1){stop('Incorred sample to context mapping')}\n",
    "    sample_context_map[[sn]]<-context\n",
    "}\n",
    "saveRDS(sample_context_map, paste0(input_path_timing, 'sample_context_map.rds'))"
   ]
  }
 ],
 "metadata": {
  "kernelspec": {
   "display_name": "R [conda env:cellchat] *",
   "language": "R",
   "name": "conda-env-cellchat-r"
  },
  "language_info": {
   "codemirror_mode": "r",
   "file_extension": ".r",
   "mimetype": "text/x-r-source",
   "name": "R",
   "pygments_lexer": "r",
   "version": "4.0.3"
  }
 },
 "nbformat": 4,
 "nbformat_minor": 5
}
